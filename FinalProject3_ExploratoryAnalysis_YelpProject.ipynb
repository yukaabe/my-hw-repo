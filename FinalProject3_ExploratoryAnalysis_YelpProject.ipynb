{
 "cells": [
  {
   "cell_type": "code",
   "execution_count": 2,
   "metadata": {
    "collapsed": true
   },
   "outputs": [],
   "source": [
    "import pandas as pd\n",
    "import numpy as np\n",
    "import json\n",
    "\n",
    "from sklearn import datasets\n",
    "from sklearn import metrics\n",
    "import pandas as pd\n",
    "import numpy as np\n",
    "\n",
    "import matplotlib.pyplot as plt\n",
    "%matplotlib inline"
   ]
  },
  {
   "cell_type": "markdown",
   "metadata": {},
   "source": [
    "Step 1: Data loading and cleaning of the data set"
   ]
  },
  {
   "cell_type": "markdown",
   "metadata": {},
   "source": [
    "Data loading: Load the business data"
   ]
  },
  {
   "cell_type": "code",
   "execution_count": 13,
   "metadata": {},
   "outputs": [
    {
     "data": {
      "text/html": [
       "<div>\n",
       "<style>\n",
       "    .dataframe thead tr:only-child th {\n",
       "        text-align: right;\n",
       "    }\n",
       "\n",
       "    .dataframe thead th {\n",
       "        text-align: left;\n",
       "    }\n",
       "\n",
       "    .dataframe tbody tr th {\n",
       "        vertical-align: top;\n",
       "    }\n",
       "</style>\n",
       "<table border=\"1\" class=\"dataframe\">\n",
       "  <thead>\n",
       "    <tr style=\"text-align: right;\">\n",
       "      <th></th>\n",
       "      <th>business_id</th>\n",
       "      <th>categories</th>\n",
       "      <th>city</th>\n",
       "      <th>full_address</th>\n",
       "      <th>latitude</th>\n",
       "      <th>longitude</th>\n",
       "      <th>name</th>\n",
       "      <th>neighborhoods</th>\n",
       "      <th>open</th>\n",
       "      <th>review_count</th>\n",
       "      <th>stars</th>\n",
       "      <th>state</th>\n",
       "      <th>type</th>\n",
       "    </tr>\n",
       "  </thead>\n",
       "  <tbody>\n",
       "    <tr>\n",
       "      <th>0</th>\n",
       "      <td>rncjoVoEFUJGCUoC1JgnUA</td>\n",
       "      <td>[Accountants, Professional Services, Tax Servi...</td>\n",
       "      <td>Peoria</td>\n",
       "      <td>8466 W Peoria Ave\\nSte 6\\nPeoria, AZ 85345</td>\n",
       "      <td>33.581867</td>\n",
       "      <td>-112.241596</td>\n",
       "      <td>Peoria Income Tax Service</td>\n",
       "      <td>[]</td>\n",
       "      <td>True</td>\n",
       "      <td>3</td>\n",
       "      <td>5.0</td>\n",
       "      <td>AZ</td>\n",
       "      <td>business</td>\n",
       "    </tr>\n",
       "    <tr>\n",
       "      <th>1</th>\n",
       "      <td>0FNFSzCFP_rGUoJx8W7tJg</td>\n",
       "      <td>[Sporting Goods, Bikes, Shopping]</td>\n",
       "      <td>Phoenix</td>\n",
       "      <td>2149 W Wood Dr\\nPhoenix, AZ 85029</td>\n",
       "      <td>33.604054</td>\n",
       "      <td>-112.105933</td>\n",
       "      <td>Bike Doctor</td>\n",
       "      <td>[]</td>\n",
       "      <td>True</td>\n",
       "      <td>5</td>\n",
       "      <td>5.0</td>\n",
       "      <td>AZ</td>\n",
       "      <td>business</td>\n",
       "    </tr>\n",
       "    <tr>\n",
       "      <th>2</th>\n",
       "      <td>3f_lyB6vFK48ukH6ScvLHg</td>\n",
       "      <td>[]</td>\n",
       "      <td>Phoenix</td>\n",
       "      <td>1134 N Central Ave\\nPhoenix, AZ 85004</td>\n",
       "      <td>33.460526</td>\n",
       "      <td>-112.073933</td>\n",
       "      <td>Valley Permaculture Alliance</td>\n",
       "      <td>[]</td>\n",
       "      <td>True</td>\n",
       "      <td>4</td>\n",
       "      <td>5.0</td>\n",
       "      <td>AZ</td>\n",
       "      <td>business</td>\n",
       "    </tr>\n",
       "    <tr>\n",
       "      <th>3</th>\n",
       "      <td>usAsSV36QmUej8--yvN-dg</td>\n",
       "      <td>[Food, Grocery]</td>\n",
       "      <td>Phoenix</td>\n",
       "      <td>845 W Southern Ave\\nPhoenix, AZ 85041</td>\n",
       "      <td>33.392210</td>\n",
       "      <td>-112.085377</td>\n",
       "      <td>Food City</td>\n",
       "      <td>[]</td>\n",
       "      <td>True</td>\n",
       "      <td>5</td>\n",
       "      <td>3.5</td>\n",
       "      <td>AZ</td>\n",
       "      <td>business</td>\n",
       "    </tr>\n",
       "    <tr>\n",
       "      <th>4</th>\n",
       "      <td>PzOqRohWw7F7YEPBz6AubA</td>\n",
       "      <td>[Food, Bagels, Delis, Restaurants]</td>\n",
       "      <td>Glendale Az</td>\n",
       "      <td>6520 W Happy Valley Rd\\nSte 101\\nGlendale Az, ...</td>\n",
       "      <td>33.712797</td>\n",
       "      <td>-112.200264</td>\n",
       "      <td>Hot Bagels &amp; Deli</td>\n",
       "      <td>[]</td>\n",
       "      <td>True</td>\n",
       "      <td>14</td>\n",
       "      <td>3.5</td>\n",
       "      <td>AZ</td>\n",
       "      <td>business</td>\n",
       "    </tr>\n",
       "  </tbody>\n",
       "</table>\n",
       "</div>"
      ],
      "text/plain": [
       "              business_id                                         categories  \\\n",
       "0  rncjoVoEFUJGCUoC1JgnUA  [Accountants, Professional Services, Tax Servi...   \n",
       "1  0FNFSzCFP_rGUoJx8W7tJg                  [Sporting Goods, Bikes, Shopping]   \n",
       "2  3f_lyB6vFK48ukH6ScvLHg                                                 []   \n",
       "3  usAsSV36QmUej8--yvN-dg                                    [Food, Grocery]   \n",
       "4  PzOqRohWw7F7YEPBz6AubA                 [Food, Bagels, Delis, Restaurants]   \n",
       "\n",
       "          city                                       full_address   latitude  \\\n",
       "0       Peoria         8466 W Peoria Ave\\nSte 6\\nPeoria, AZ 85345  33.581867   \n",
       "1      Phoenix                  2149 W Wood Dr\\nPhoenix, AZ 85029  33.604054   \n",
       "2      Phoenix              1134 N Central Ave\\nPhoenix, AZ 85004  33.460526   \n",
       "3      Phoenix              845 W Southern Ave\\nPhoenix, AZ 85041  33.392210   \n",
       "4  Glendale Az  6520 W Happy Valley Rd\\nSte 101\\nGlendale Az, ...  33.712797   \n",
       "\n",
       "    longitude                          name neighborhoods  open  review_count  \\\n",
       "0 -112.241596     Peoria Income Tax Service            []  True             3   \n",
       "1 -112.105933                   Bike Doctor            []  True             5   \n",
       "2 -112.073933  Valley Permaculture Alliance            []  True             4   \n",
       "3 -112.085377                     Food City            []  True             5   \n",
       "4 -112.200264             Hot Bagels & Deli            []  True            14   \n",
       "\n",
       "   stars state      type  \n",
       "0    5.0    AZ  business  \n",
       "1    5.0    AZ  business  \n",
       "2    5.0    AZ  business  \n",
       "3    3.5    AZ  business  \n",
       "4    3.5    AZ  business  "
      ]
     },
     "execution_count": 13,
     "metadata": {},
     "output_type": "execute_result"
    }
   ],
   "source": [
    "# load business data\n",
    "data = []\n",
    "with open('/Users/yuka/Desktop/DataScience/Yelp Project/yelp_training_set/yelp_training_set_business.json') as f:\n",
    "    for line in f:\n",
    "        data.append(json.loads(line))\n",
    "        \n",
    "yelp_training_set_business=pd.DataFrame(data)\n",
    "\n",
    "yelp_training_set_business.head()\n",
    "\n"
   ]
  },
  {
   "cell_type": "markdown",
   "metadata": {},
   "source": [
    "Data Loading: Load the Checkin Data"
   ]
  },
  {
   "cell_type": "code",
   "execution_count": 14,
   "metadata": {},
   "outputs": [
    {
     "data": {
      "text/html": [
       "<div>\n",
       "<style>\n",
       "    .dataframe thead tr:only-child th {\n",
       "        text-align: right;\n",
       "    }\n",
       "\n",
       "    .dataframe thead th {\n",
       "        text-align: left;\n",
       "    }\n",
       "\n",
       "    .dataframe tbody tr th {\n",
       "        vertical-align: top;\n",
       "    }\n",
       "</style>\n",
       "<table border=\"1\" class=\"dataframe\">\n",
       "  <thead>\n",
       "    <tr style=\"text-align: right;\">\n",
       "      <th></th>\n",
       "      <th>business_id</th>\n",
       "      <th>checkin_info</th>\n",
       "      <th>type</th>\n",
       "    </tr>\n",
       "  </thead>\n",
       "  <tbody>\n",
       "    <tr>\n",
       "      <th>0</th>\n",
       "      <td>KO9CpaSPOoqm0iCWm5scmg</td>\n",
       "      <td>{'11-3': 17, '8-5': 1, '15-0': 2, '15-3': 2, '...</td>\n",
       "      <td>checkin</td>\n",
       "    </tr>\n",
       "    <tr>\n",
       "      <th>1</th>\n",
       "      <td>oRqBAYtcBYZHXA7G8FlPaA</td>\n",
       "      <td>{'0-5': 1, '2-6': 2, '2-5': 3, '3-6': 1, '3-5'...</td>\n",
       "      <td>checkin</td>\n",
       "    </tr>\n",
       "    <tr>\n",
       "      <th>2</th>\n",
       "      <td>6cy2C9aBXUwkrh4bY1DApw</td>\n",
       "      <td>{'13-4': 1, '7-4': 1, '15-3': 1, '18-5': 1, '2...</td>\n",
       "      <td>checkin</td>\n",
       "    </tr>\n",
       "    <tr>\n",
       "      <th>3</th>\n",
       "      <td>D0IB17N66FiyYDCzTlAI4A</td>\n",
       "      <td>{'13-5': 1, '17-6': 1, '15-1': 1, '20-0': 1, '...</td>\n",
       "      <td>checkin</td>\n",
       "    </tr>\n",
       "    <tr>\n",
       "      <th>4</th>\n",
       "      <td>HLQGo3EaYVvAv22bONGkIw</td>\n",
       "      <td>{'16-2': 1, '14-5': 1, '12-5': 2, '15-4': 1, '...</td>\n",
       "      <td>checkin</td>\n",
       "    </tr>\n",
       "  </tbody>\n",
       "</table>\n",
       "</div>"
      ],
      "text/plain": [
       "              business_id                                       checkin_info  \\\n",
       "0  KO9CpaSPOoqm0iCWm5scmg  {'11-3': 17, '8-5': 1, '15-0': 2, '15-3': 2, '...   \n",
       "1  oRqBAYtcBYZHXA7G8FlPaA  {'0-5': 1, '2-6': 2, '2-5': 3, '3-6': 1, '3-5'...   \n",
       "2  6cy2C9aBXUwkrh4bY1DApw  {'13-4': 1, '7-4': 1, '15-3': 1, '18-5': 1, '2...   \n",
       "3  D0IB17N66FiyYDCzTlAI4A  {'13-5': 1, '17-6': 1, '15-1': 1, '20-0': 1, '...   \n",
       "4  HLQGo3EaYVvAv22bONGkIw  {'16-2': 1, '14-5': 1, '12-5': 2, '15-4': 1, '...   \n",
       "\n",
       "      type  \n",
       "0  checkin  \n",
       "1  checkin  \n",
       "2  checkin  \n",
       "3  checkin  \n",
       "4  checkin  "
      ]
     },
     "execution_count": 14,
     "metadata": {},
     "output_type": "execute_result"
    }
   ],
   "source": [
    "# load checkin data\n",
    "\n",
    "data = []\n",
    "with open('/Users/yuka/Desktop/DataScience/Yelp Project/yelp_training_set/yelp_training_set_checkin.json') as f:\n",
    "    for line in f:\n",
    "        data.append(json.loads(line))\n",
    "        \n",
    "yelp_training_set_checkin=pd.DataFrame(data)\n",
    "\n",
    "yelp_training_set_checkin.head()\n"
   ]
  },
  {
   "cell_type": "markdown",
   "metadata": {},
   "source": [
    "Data loading: Load the review data"
   ]
  },
  {
   "cell_type": "code",
   "execution_count": 15,
   "metadata": {},
   "outputs": [
    {
     "data": {
      "text/html": [
       "<div>\n",
       "<style>\n",
       "    .dataframe thead tr:only-child th {\n",
       "        text-align: right;\n",
       "    }\n",
       "\n",
       "    .dataframe thead th {\n",
       "        text-align: left;\n",
       "    }\n",
       "\n",
       "    .dataframe tbody tr th {\n",
       "        vertical-align: top;\n",
       "    }\n",
       "</style>\n",
       "<table border=\"1\" class=\"dataframe\">\n",
       "  <thead>\n",
       "    <tr style=\"text-align: right;\">\n",
       "      <th></th>\n",
       "      <th>business_id</th>\n",
       "      <th>date</th>\n",
       "      <th>review_id</th>\n",
       "      <th>stars</th>\n",
       "      <th>text</th>\n",
       "      <th>type</th>\n",
       "      <th>user_id</th>\n",
       "      <th>votes</th>\n",
       "    </tr>\n",
       "  </thead>\n",
       "  <tbody>\n",
       "    <tr>\n",
       "      <th>0</th>\n",
       "      <td>9yKzy9PApeiPPOUJEtnvkg</td>\n",
       "      <td>2011-01-26</td>\n",
       "      <td>fWKvX83p0-ka4JS3dc6E5A</td>\n",
       "      <td>5</td>\n",
       "      <td>My wife took me here on my birthday for breakf...</td>\n",
       "      <td>review</td>\n",
       "      <td>rLtl8ZkDX5vH5nAx9C3q5Q</td>\n",
       "      <td>{'funny': 0, 'useful': 5, 'cool': 2}</td>\n",
       "    </tr>\n",
       "    <tr>\n",
       "      <th>1</th>\n",
       "      <td>ZRJwVLyzEJq1VAihDhYiow</td>\n",
       "      <td>2011-07-27</td>\n",
       "      <td>IjZ33sJrzXqU-0X6U8NwyA</td>\n",
       "      <td>5</td>\n",
       "      <td>I have no idea why some people give bad review...</td>\n",
       "      <td>review</td>\n",
       "      <td>0a2KyEL0d3Yb1V6aivbIuQ</td>\n",
       "      <td>{'funny': 0, 'useful': 0, 'cool': 0}</td>\n",
       "    </tr>\n",
       "    <tr>\n",
       "      <th>2</th>\n",
       "      <td>6oRAC4uyJCsJl1X0WZpVSA</td>\n",
       "      <td>2012-06-14</td>\n",
       "      <td>IESLBzqUCLdSzSqm0eCSxQ</td>\n",
       "      <td>4</td>\n",
       "      <td>love the gyro plate. Rice is so good and I als...</td>\n",
       "      <td>review</td>\n",
       "      <td>0hT2KtfLiobPvh6cDC8JQg</td>\n",
       "      <td>{'funny': 0, 'useful': 1, 'cool': 0}</td>\n",
       "    </tr>\n",
       "    <tr>\n",
       "      <th>3</th>\n",
       "      <td>_1QQZuf4zZOyFCvXc0o6Vg</td>\n",
       "      <td>2010-05-27</td>\n",
       "      <td>G-WvGaISbqqaMHlNnByodA</td>\n",
       "      <td>5</td>\n",
       "      <td>Rosie, Dakota, and I LOVE Chaparral Dog Park!!...</td>\n",
       "      <td>review</td>\n",
       "      <td>uZetl9T0NcROGOyFfughhg</td>\n",
       "      <td>{'funny': 0, 'useful': 2, 'cool': 1}</td>\n",
       "    </tr>\n",
       "    <tr>\n",
       "      <th>4</th>\n",
       "      <td>6ozycU1RpktNG2-1BroVtw</td>\n",
       "      <td>2012-01-05</td>\n",
       "      <td>1uJFq2r5QfJG_6ExMRCaGw</td>\n",
       "      <td>5</td>\n",
       "      <td>General Manager Scott Petello is a good egg!!!...</td>\n",
       "      <td>review</td>\n",
       "      <td>vYmM4KTsC8ZfQBg-j5MWkw</td>\n",
       "      <td>{'funny': 0, 'useful': 0, 'cool': 0}</td>\n",
       "    </tr>\n",
       "  </tbody>\n",
       "</table>\n",
       "</div>"
      ],
      "text/plain": [
       "              business_id        date               review_id  stars  \\\n",
       "0  9yKzy9PApeiPPOUJEtnvkg  2011-01-26  fWKvX83p0-ka4JS3dc6E5A      5   \n",
       "1  ZRJwVLyzEJq1VAihDhYiow  2011-07-27  IjZ33sJrzXqU-0X6U8NwyA      5   \n",
       "2  6oRAC4uyJCsJl1X0WZpVSA  2012-06-14  IESLBzqUCLdSzSqm0eCSxQ      4   \n",
       "3  _1QQZuf4zZOyFCvXc0o6Vg  2010-05-27  G-WvGaISbqqaMHlNnByodA      5   \n",
       "4  6ozycU1RpktNG2-1BroVtw  2012-01-05  1uJFq2r5QfJG_6ExMRCaGw      5   \n",
       "\n",
       "                                                text    type  \\\n",
       "0  My wife took me here on my birthday for breakf...  review   \n",
       "1  I have no idea why some people give bad review...  review   \n",
       "2  love the gyro plate. Rice is so good and I als...  review   \n",
       "3  Rosie, Dakota, and I LOVE Chaparral Dog Park!!...  review   \n",
       "4  General Manager Scott Petello is a good egg!!!...  review   \n",
       "\n",
       "                  user_id                                 votes  \n",
       "0  rLtl8ZkDX5vH5nAx9C3q5Q  {'funny': 0, 'useful': 5, 'cool': 2}  \n",
       "1  0a2KyEL0d3Yb1V6aivbIuQ  {'funny': 0, 'useful': 0, 'cool': 0}  \n",
       "2  0hT2KtfLiobPvh6cDC8JQg  {'funny': 0, 'useful': 1, 'cool': 0}  \n",
       "3  uZetl9T0NcROGOyFfughhg  {'funny': 0, 'useful': 2, 'cool': 1}  \n",
       "4  vYmM4KTsC8ZfQBg-j5MWkw  {'funny': 0, 'useful': 0, 'cool': 0}  "
      ]
     },
     "execution_count": 15,
     "metadata": {},
     "output_type": "execute_result"
    }
   ],
   "source": [
    "# Load review data\n",
    "data = []\n",
    "with open('/Users/yuka/Desktop/DataScience/Yelp Project/yelp_training_set/yelp_training_set_review.json') as f:\n",
    "    for line in f:\n",
    "        data.append(json.loads(line))\n",
    "        \n",
    "yelp_training_set_review=pd.DataFrame(data)\n",
    "\n",
    "yelp_training_set_review.head()"
   ]
  },
  {
   "cell_type": "markdown",
   "metadata": {},
   "source": [
    "Data Loading: Load the user data"
   ]
  },
  {
   "cell_type": "code",
   "execution_count": 16,
   "metadata": {},
   "outputs": [
    {
     "data": {
      "text/html": [
       "<div>\n",
       "<style>\n",
       "    .dataframe thead tr:only-child th {\n",
       "        text-align: right;\n",
       "    }\n",
       "\n",
       "    .dataframe thead th {\n",
       "        text-align: left;\n",
       "    }\n",
       "\n",
       "    .dataframe tbody tr th {\n",
       "        vertical-align: top;\n",
       "    }\n",
       "</style>\n",
       "<table border=\"1\" class=\"dataframe\">\n",
       "  <thead>\n",
       "    <tr style=\"text-align: right;\">\n",
       "      <th></th>\n",
       "      <th>average_stars</th>\n",
       "      <th>name</th>\n",
       "      <th>review_count</th>\n",
       "      <th>type</th>\n",
       "      <th>user_id</th>\n",
       "      <th>votes</th>\n",
       "    </tr>\n",
       "  </thead>\n",
       "  <tbody>\n",
       "    <tr>\n",
       "      <th>0</th>\n",
       "      <td>5.0</td>\n",
       "      <td>Jim</td>\n",
       "      <td>6</td>\n",
       "      <td>user</td>\n",
       "      <td>CR2y7yEm4X035ZMzrTtN9Q</td>\n",
       "      <td>{'funny': 0, 'useful': 7, 'cool': 0}</td>\n",
       "    </tr>\n",
       "    <tr>\n",
       "      <th>1</th>\n",
       "      <td>1.0</td>\n",
       "      <td>Kelle</td>\n",
       "      <td>2</td>\n",
       "      <td>user</td>\n",
       "      <td>_9GXoHhdxc30ujPaQwh6Ew</td>\n",
       "      <td>{'funny': 0, 'useful': 1, 'cool': 0}</td>\n",
       "    </tr>\n",
       "    <tr>\n",
       "      <th>2</th>\n",
       "      <td>5.0</td>\n",
       "      <td>Stephanie</td>\n",
       "      <td>2</td>\n",
       "      <td>user</td>\n",
       "      <td>8mM-nqxjg6pT04kwcjMbsw</td>\n",
       "      <td>{'funny': 0, 'useful': 1, 'cool': 0}</td>\n",
       "    </tr>\n",
       "    <tr>\n",
       "      <th>3</th>\n",
       "      <td>5.0</td>\n",
       "      <td>T</td>\n",
       "      <td>2</td>\n",
       "      <td>user</td>\n",
       "      <td>Ch6CdTR2IVaVANr-RglMOg</td>\n",
       "      <td>{'funny': 0, 'useful': 2, 'cool': 0}</td>\n",
       "    </tr>\n",
       "    <tr>\n",
       "      <th>4</th>\n",
       "      <td>1.0</td>\n",
       "      <td>Beth</td>\n",
       "      <td>1</td>\n",
       "      <td>user</td>\n",
       "      <td>NZrLmHRyiHmyT1JrfzkCOA</td>\n",
       "      <td>{'funny': 0, 'useful': 0, 'cool': 0}</td>\n",
       "    </tr>\n",
       "  </tbody>\n",
       "</table>\n",
       "</div>"
      ],
      "text/plain": [
       "   average_stars       name  review_count  type                 user_id  \\\n",
       "0            5.0        Jim             6  user  CR2y7yEm4X035ZMzrTtN9Q   \n",
       "1            1.0      Kelle             2  user  _9GXoHhdxc30ujPaQwh6Ew   \n",
       "2            5.0  Stephanie             2  user  8mM-nqxjg6pT04kwcjMbsw   \n",
       "3            5.0          T             2  user  Ch6CdTR2IVaVANr-RglMOg   \n",
       "4            1.0       Beth             1  user  NZrLmHRyiHmyT1JrfzkCOA   \n",
       "\n",
       "                                  votes  \n",
       "0  {'funny': 0, 'useful': 7, 'cool': 0}  \n",
       "1  {'funny': 0, 'useful': 1, 'cool': 0}  \n",
       "2  {'funny': 0, 'useful': 1, 'cool': 0}  \n",
       "3  {'funny': 0, 'useful': 2, 'cool': 0}  \n",
       "4  {'funny': 0, 'useful': 0, 'cool': 0}  "
      ]
     },
     "execution_count": 16,
     "metadata": {},
     "output_type": "execute_result"
    }
   ],
   "source": [
    "# Load the user data \n",
    "data = []\n",
    "with open('/Users/yuka/Desktop/DataScience/Yelp Project/yelp_training_set/yelp_training_set_user.json') as f:\n",
    "    for line in f:\n",
    "        data.append(json.loads(line))\n",
    "        \n",
    "yelp_training_set_user=pd.DataFrame(data)\n",
    "\n",
    "yelp_training_set_user.head()"
   ]
  },
  {
   "cell_type": "markdown",
   "metadata": {},
   "source": [
    "Data Merging: Merge the user data and review data"
   ]
  },
  {
   "cell_type": "code",
   "execution_count": 24,
   "metadata": {},
   "outputs": [
    {
     "data": {
      "text/html": [
       "<div>\n",
       "<style>\n",
       "    .dataframe thead tr:only-child th {\n",
       "        text-align: right;\n",
       "    }\n",
       "\n",
       "    .dataframe thead th {\n",
       "        text-align: left;\n",
       "    }\n",
       "\n",
       "    .dataframe tbody tr th {\n",
       "        vertical-align: top;\n",
       "    }\n",
       "</style>\n",
       "<table border=\"1\" class=\"dataframe\">\n",
       "  <thead>\n",
       "    <tr style=\"text-align: right;\">\n",
       "      <th></th>\n",
       "      <th>business_id</th>\n",
       "      <th>review date</th>\n",
       "      <th>review_id</th>\n",
       "      <th>business stars</th>\n",
       "      <th>text</th>\n",
       "      <th>review_type</th>\n",
       "      <th>user_id</th>\n",
       "      <th>review votes</th>\n",
       "      <th>user average stars</th>\n",
       "      <th>user_name</th>\n",
       "      <th>user review_count</th>\n",
       "      <th>user_type</th>\n",
       "      <th>user_votes</th>\n",
       "    </tr>\n",
       "  </thead>\n",
       "  <tbody>\n",
       "    <tr>\n",
       "      <th>0</th>\n",
       "      <td>9yKzy9PApeiPPOUJEtnvkg</td>\n",
       "      <td>2011-01-26</td>\n",
       "      <td>fWKvX83p0-ka4JS3dc6E5A</td>\n",
       "      <td>5</td>\n",
       "      <td>My wife took me here on my birthday for breakf...</td>\n",
       "      <td>review</td>\n",
       "      <td>rLtl8ZkDX5vH5nAx9C3q5Q</td>\n",
       "      <td>{'funny': 0, 'useful': 5, 'cool': 2}</td>\n",
       "      <td>3.72</td>\n",
       "      <td>Jason</td>\n",
       "      <td>376</td>\n",
       "      <td>user</td>\n",
       "      <td>{'funny': 331, 'useful': 1034, 'cool': 322}</td>\n",
       "    </tr>\n",
       "    <tr>\n",
       "      <th>1</th>\n",
       "      <td>wzP2yNpV5p04nh0injjymA</td>\n",
       "      <td>2010-05-26</td>\n",
       "      <td>ChBeixVZerfFkeO0McdlbA</td>\n",
       "      <td>4</td>\n",
       "      <td>This place is great.  A nice little ole' fashi...</td>\n",
       "      <td>review</td>\n",
       "      <td>rLtl8ZkDX5vH5nAx9C3q5Q</td>\n",
       "      <td>{'funny': 0, 'useful': 0, 'cool': 0}</td>\n",
       "      <td>3.72</td>\n",
       "      <td>Jason</td>\n",
       "      <td>376</td>\n",
       "      <td>user</td>\n",
       "      <td>{'funny': 331, 'useful': 1034, 'cool': 322}</td>\n",
       "    </tr>\n",
       "    <tr>\n",
       "      <th>2</th>\n",
       "      <td>8m08a9xJKmANwmeuR-0bPA</td>\n",
       "      <td>2011-09-07</td>\n",
       "      <td>k_irkIDyZ9_bDeE4J29u0g</td>\n",
       "      <td>4</td>\n",
       "      <td>I went here last night with my wife to celebra...</td>\n",
       "      <td>review</td>\n",
       "      <td>rLtl8ZkDX5vH5nAx9C3q5Q</td>\n",
       "      <td>{'funny': 1, 'useful': 3, 'cool': 1}</td>\n",
       "      <td>3.72</td>\n",
       "      <td>Jason</td>\n",
       "      <td>376</td>\n",
       "      <td>user</td>\n",
       "      <td>{'funny': 331, 'useful': 1034, 'cool': 322}</td>\n",
       "    </tr>\n",
       "    <tr>\n",
       "      <th>3</th>\n",
       "      <td>r3r_bAfa6pZKIhQB82FizQ</td>\n",
       "      <td>2010-09-27</td>\n",
       "      <td>Aig77qNnNFDKFLiML6F5pQ</td>\n",
       "      <td>4</td>\n",
       "      <td>I went here Saturday night with a party of 4. ...</td>\n",
       "      <td>review</td>\n",
       "      <td>rLtl8ZkDX5vH5nAx9C3q5Q</td>\n",
       "      <td>{'funny': 1, 'useful': 1, 'cool': 1}</td>\n",
       "      <td>3.72</td>\n",
       "      <td>Jason</td>\n",
       "      <td>376</td>\n",
       "      <td>user</td>\n",
       "      <td>{'funny': 331, 'useful': 1034, 'cool': 322}</td>\n",
       "    </tr>\n",
       "    <tr>\n",
       "      <th>4</th>\n",
       "      <td>hh2lP4_2N-tk_OxmaTf_qA</td>\n",
       "      <td>2009-07-22</td>\n",
       "      <td>NMz3gC5nOSbKZJG_UjpASg</td>\n",
       "      <td>3</td>\n",
       "      <td>I have been wanting to eat here since it opene...</td>\n",
       "      <td>review</td>\n",
       "      <td>rLtl8ZkDX5vH5nAx9C3q5Q</td>\n",
       "      <td>{'funny': 0, 'useful': 0, 'cool': 0}</td>\n",
       "      <td>3.72</td>\n",
       "      <td>Jason</td>\n",
       "      <td>376</td>\n",
       "      <td>user</td>\n",
       "      <td>{'funny': 331, 'useful': 1034, 'cool': 322}</td>\n",
       "    </tr>\n",
       "  </tbody>\n",
       "</table>\n",
       "</div>"
      ],
      "text/plain": [
       "              business_id review date               review_id  business stars  \\\n",
       "0  9yKzy9PApeiPPOUJEtnvkg  2011-01-26  fWKvX83p0-ka4JS3dc6E5A               5   \n",
       "1  wzP2yNpV5p04nh0injjymA  2010-05-26  ChBeixVZerfFkeO0McdlbA               4   \n",
       "2  8m08a9xJKmANwmeuR-0bPA  2011-09-07  k_irkIDyZ9_bDeE4J29u0g               4   \n",
       "3  r3r_bAfa6pZKIhQB82FizQ  2010-09-27  Aig77qNnNFDKFLiML6F5pQ               4   \n",
       "4  hh2lP4_2N-tk_OxmaTf_qA  2009-07-22  NMz3gC5nOSbKZJG_UjpASg               3   \n",
       "\n",
       "                                                text review_type  \\\n",
       "0  My wife took me here on my birthday for breakf...      review   \n",
       "1  This place is great.  A nice little ole' fashi...      review   \n",
       "2  I went here last night with my wife to celebra...      review   \n",
       "3  I went here Saturday night with a party of 4. ...      review   \n",
       "4  I have been wanting to eat here since it opene...      review   \n",
       "\n",
       "                  user_id                          review votes  \\\n",
       "0  rLtl8ZkDX5vH5nAx9C3q5Q  {'funny': 0, 'useful': 5, 'cool': 2}   \n",
       "1  rLtl8ZkDX5vH5nAx9C3q5Q  {'funny': 0, 'useful': 0, 'cool': 0}   \n",
       "2  rLtl8ZkDX5vH5nAx9C3q5Q  {'funny': 1, 'useful': 3, 'cool': 1}   \n",
       "3  rLtl8ZkDX5vH5nAx9C3q5Q  {'funny': 1, 'useful': 1, 'cool': 1}   \n",
       "4  rLtl8ZkDX5vH5nAx9C3q5Q  {'funny': 0, 'useful': 0, 'cool': 0}   \n",
       "\n",
       "   user average stars user_name  user review_count user_type  \\\n",
       "0                3.72     Jason                376      user   \n",
       "1                3.72     Jason                376      user   \n",
       "2                3.72     Jason                376      user   \n",
       "3                3.72     Jason                376      user   \n",
       "4                3.72     Jason                376      user   \n",
       "\n",
       "                                    user_votes  \n",
       "0  {'funny': 331, 'useful': 1034, 'cool': 322}  \n",
       "1  {'funny': 331, 'useful': 1034, 'cool': 322}  \n",
       "2  {'funny': 331, 'useful': 1034, 'cool': 322}  \n",
       "3  {'funny': 331, 'useful': 1034, 'cool': 322}  \n",
       "4  {'funny': 331, 'useful': 1034, 'cool': 322}  "
      ]
     },
     "execution_count": 24,
     "metadata": {},
     "output_type": "execute_result"
    }
   ],
   "source": [
    "#Merge user data and review data\n",
    "user_review_data_merge=pd.merge(yelp_training_set_review, yelp_training_set_user, on=\"user_id\")\n",
    "\n",
    "\n",
    "\n",
    "user_review_data_merge.columns\n",
    "\n",
    "#rename the column names:\n",
    "user_review_data_merge = user_review_data_merge.rename(columns={'type_x': 'review_type', 'votes_x':'review votes', 'type_y': 'user_type','votes_y':'user_votes'}) \n",
    "user_review_data_merge = user_review_data_merge.rename(columns={'name': 'user_name'})\n",
    "user_review_data_merge = user_review_data_merge.rename(columns={'average_stars': 'user average stars'})\n",
    "user_review_data_merge = user_review_data_merge.rename(columns={'stars': 'business stars', 'date':'review date'})\n",
    "user_review_data_merge = user_review_data_merge.rename(columns={'review_count': 'user review_count'})\n",
    "user_review_data_merge.head()\n",
    "\n"
   ]
  },
  {
   "cell_type": "markdown",
   "metadata": {},
   "source": [
    "Data Merging: Merge the business data and checkin data"
   ]
  },
  {
   "cell_type": "code",
   "execution_count": 26,
   "metadata": {},
   "outputs": [
    {
     "data": {
      "text/html": [
       "<div>\n",
       "<style>\n",
       "    .dataframe thead tr:only-child th {\n",
       "        text-align: right;\n",
       "    }\n",
       "\n",
       "    .dataframe thead th {\n",
       "        text-align: left;\n",
       "    }\n",
       "\n",
       "    .dataframe tbody tr th {\n",
       "        vertical-align: top;\n",
       "    }\n",
       "</style>\n",
       "<table border=\"1\" class=\"dataframe\">\n",
       "  <thead>\n",
       "    <tr style=\"text-align: right;\">\n",
       "      <th></th>\n",
       "      <th>business_id</th>\n",
       "      <th>checkin_info</th>\n",
       "      <th>checkin_type</th>\n",
       "      <th>business categories</th>\n",
       "      <th>business city</th>\n",
       "      <th>full_address</th>\n",
       "      <th>latitude</th>\n",
       "      <th>longitude</th>\n",
       "      <th>business name</th>\n",
       "      <th>neighborhoods</th>\n",
       "      <th>open</th>\n",
       "      <th>business review_count</th>\n",
       "      <th>business stars</th>\n",
       "      <th>business state</th>\n",
       "      <th>Business_type</th>\n",
       "    </tr>\n",
       "  </thead>\n",
       "  <tbody>\n",
       "    <tr>\n",
       "      <th>0</th>\n",
       "      <td>KO9CpaSPOoqm0iCWm5scmg</td>\n",
       "      <td>{'11-3': 17, '8-5': 1, '15-0': 2, '15-3': 2, '...</td>\n",
       "      <td>checkin</td>\n",
       "      <td>[Sandwiches, Restaurants]</td>\n",
       "      <td>Scottsdale</td>\n",
       "      <td>4020 N Scottsdale Rd\\nSte 102\\nScottsdale, AZ ...</td>\n",
       "      <td>33.494242</td>\n",
       "      <td>-111.926447</td>\n",
       "      <td>Sandwich Club</td>\n",
       "      <td>[]</td>\n",
       "      <td>False</td>\n",
       "      <td>65</td>\n",
       "      <td>4.0</td>\n",
       "      <td>AZ</td>\n",
       "      <td>business</td>\n",
       "    </tr>\n",
       "    <tr>\n",
       "      <th>1</th>\n",
       "      <td>oRqBAYtcBYZHXA7G8FlPaA</td>\n",
       "      <td>{'0-5': 1, '2-6': 2, '2-5': 3, '3-6': 1, '3-5'...</td>\n",
       "      <td>checkin</td>\n",
       "      <td>[American (Traditional), Restaurants]</td>\n",
       "      <td>Scottsdale</td>\n",
       "      <td>Casino Arizona\\n524 N 92nd St\\nScottsdale, AZ ...</td>\n",
       "      <td>33.501360</td>\n",
       "      <td>-111.821087</td>\n",
       "      <td>Willows Restaurant</td>\n",
       "      <td>[]</td>\n",
       "      <td>True</td>\n",
       "      <td>11</td>\n",
       "      <td>3.5</td>\n",
       "      <td>AZ</td>\n",
       "      <td>business</td>\n",
       "    </tr>\n",
       "    <tr>\n",
       "      <th>2</th>\n",
       "      <td>6cy2C9aBXUwkrh4bY1DApw</td>\n",
       "      <td>{'13-4': 1, '7-4': 1, '15-3': 1, '18-5': 1, '2...</td>\n",
       "      <td>checkin</td>\n",
       "      <td>[Mexican, Restaurants]</td>\n",
       "      <td>Phoenix</td>\n",
       "      <td>1705 E Indian School Rd\\nPhoenix, AZ 85016</td>\n",
       "      <td>33.494676</td>\n",
       "      <td>-112.044961</td>\n",
       "      <td>Regio's Mexican Food</td>\n",
       "      <td>[]</td>\n",
       "      <td>True</td>\n",
       "      <td>17</td>\n",
       "      <td>4.0</td>\n",
       "      <td>AZ</td>\n",
       "      <td>business</td>\n",
       "    </tr>\n",
       "    <tr>\n",
       "      <th>3</th>\n",
       "      <td>D0IB17N66FiyYDCzTlAI4A</td>\n",
       "      <td>{'13-5': 1, '17-6': 1, '15-1': 1, '20-0': 1, '...</td>\n",
       "      <td>checkin</td>\n",
       "      <td>[Soul Food, Cajun/Creole, Fast Food, Restaurants]</td>\n",
       "      <td>Mesa</td>\n",
       "      <td>2005 W Broadway Rd\\nMesa, AZ 85202</td>\n",
       "      <td>33.407098</td>\n",
       "      <td>-111.874932</td>\n",
       "      <td>Popeye's Chicken &amp; Biscuits</td>\n",
       "      <td>[]</td>\n",
       "      <td>True</td>\n",
       "      <td>5</td>\n",
       "      <td>4.0</td>\n",
       "      <td>AZ</td>\n",
       "      <td>business</td>\n",
       "    </tr>\n",
       "    <tr>\n",
       "      <th>4</th>\n",
       "      <td>HLQGo3EaYVvAv22bONGkIw</td>\n",
       "      <td>{'16-2': 1, '14-5': 1, '12-5': 2, '15-4': 1, '...</td>\n",
       "      <td>checkin</td>\n",
       "      <td>[Books, Mags, Music &amp; Video, Shopping, Booksto...</td>\n",
       "      <td>Glendale</td>\n",
       "      <td>5735 W Glendale Ave\\nGlendale, AZ 85301</td>\n",
       "      <td>33.538460</td>\n",
       "      <td>-112.182857</td>\n",
       "      <td>The Astrology Store</td>\n",
       "      <td>[]</td>\n",
       "      <td>True</td>\n",
       "      <td>5</td>\n",
       "      <td>4.0</td>\n",
       "      <td>AZ</td>\n",
       "      <td>business</td>\n",
       "    </tr>\n",
       "  </tbody>\n",
       "</table>\n",
       "</div>"
      ],
      "text/plain": [
       "              business_id                                       checkin_info  \\\n",
       "0  KO9CpaSPOoqm0iCWm5scmg  {'11-3': 17, '8-5': 1, '15-0': 2, '15-3': 2, '...   \n",
       "1  oRqBAYtcBYZHXA7G8FlPaA  {'0-5': 1, '2-6': 2, '2-5': 3, '3-6': 1, '3-5'...   \n",
       "2  6cy2C9aBXUwkrh4bY1DApw  {'13-4': 1, '7-4': 1, '15-3': 1, '18-5': 1, '2...   \n",
       "3  D0IB17N66FiyYDCzTlAI4A  {'13-5': 1, '17-6': 1, '15-1': 1, '20-0': 1, '...   \n",
       "4  HLQGo3EaYVvAv22bONGkIw  {'16-2': 1, '14-5': 1, '12-5': 2, '15-4': 1, '...   \n",
       "\n",
       "  checkin_type                                business categories  \\\n",
       "0      checkin                          [Sandwiches, Restaurants]   \n",
       "1      checkin              [American (Traditional), Restaurants]   \n",
       "2      checkin                             [Mexican, Restaurants]   \n",
       "3      checkin  [Soul Food, Cajun/Creole, Fast Food, Restaurants]   \n",
       "4      checkin  [Books, Mags, Music & Video, Shopping, Booksto...   \n",
       "\n",
       "  business city                                       full_address   latitude  \\\n",
       "0    Scottsdale  4020 N Scottsdale Rd\\nSte 102\\nScottsdale, AZ ...  33.494242   \n",
       "1    Scottsdale  Casino Arizona\\n524 N 92nd St\\nScottsdale, AZ ...  33.501360   \n",
       "2       Phoenix         1705 E Indian School Rd\\nPhoenix, AZ 85016  33.494676   \n",
       "3          Mesa                 2005 W Broadway Rd\\nMesa, AZ 85202  33.407098   \n",
       "4      Glendale            5735 W Glendale Ave\\nGlendale, AZ 85301  33.538460   \n",
       "\n",
       "    longitude                business name neighborhoods   open  \\\n",
       "0 -111.926447                Sandwich Club            []  False   \n",
       "1 -111.821087           Willows Restaurant            []   True   \n",
       "2 -112.044961         Regio's Mexican Food            []   True   \n",
       "3 -111.874932  Popeye's Chicken & Biscuits            []   True   \n",
       "4 -112.182857          The Astrology Store            []   True   \n",
       "\n",
       "   business review_count  business stars business state Business_type  \n",
       "0                     65             4.0             AZ      business  \n",
       "1                     11             3.5             AZ      business  \n",
       "2                     17             4.0             AZ      business  \n",
       "3                      5             4.0             AZ      business  \n",
       "4                      5             4.0             AZ      business  "
      ]
     },
     "execution_count": 26,
     "metadata": {},
     "output_type": "execute_result"
    }
   ],
   "source": [
    "## Merge business data and  checkin data\n",
    "\n",
    "business_checkin_data_merge=pd.merge(yelp_training_set_checkin,yelp_training_set_business, on=\"business_id\" )\n",
    "business_checkin_data_merge.head()\n",
    "\n",
    "#rename the column names:\n",
    "business_checkin_data_merge = business_checkin_data_merge.rename(columns={'type_x': 'checkin_type',\"type_y\":\"Business_type\", \"city\":\"business city\", \"stars\":\"business stars\", \"state\": \"business state\"})\n",
    "business_checkin_data_merge = business_checkin_data_merge.rename(columns={'name': 'business name'})\n",
    "business_checkin_data_merge = business_checkin_data_merge.rename(columns={'categories': 'business categories'})\n",
    "business_checkin_data_merge = business_checkin_data_merge.rename(columns={'review_count': 'business review_count', 'review_count':'business review_count'})\n",
    "business_checkin_data_merge.head()  \n",
    " \n"
   ]
  },
  {
   "cell_type": "markdown",
   "metadata": {},
   "source": [
    "Data Merging: Merge the user + Review data and business + check data together into the yelp_final_training_data_set:"
   ]
  },
  {
   "cell_type": "code",
   "execution_count": 30,
   "metadata": {},
   "outputs": [
    {
     "data": {
      "text/plain": [
       "Index(['business_id', 'checkin_info', 'business categories', 'business city',\n",
       "       'full_address', 'latitude', 'longitude', 'business name',\n",
       "       'neighborhoods', 'open', 'business review_count', 'business stars',\n",
       "       'business state', 'review date', 'review_id', 'text', 'user_id',\n",
       "       'review votes', 'user average stars', 'user_name', 'user review_count',\n",
       "       'user_votes'],\n",
       "      dtype='object')"
      ]
     },
     "execution_count": 30,
     "metadata": {},
     "output_type": "execute_result"
    }
   ],
   "source": [
    "#Merge user + Review data and business + check data together:\n",
    "\n",
    "business_checkin_user_review_data_merge=pd.merge(business_checkin_data_merge,user_review_data_merge, on=\"business_id\" )\n",
    "\n",
    "business_checkin_user_review_data_merge.head()\n",
    "business_checkin_user_review_data_merge = business_checkin_user_review_data_merge.rename(columns={'business stars_x': 'business stars'})\n",
    "\n",
    "yelp_final_training_data_set=business_checkin_user_review_data_merge\n",
    "\n",
    "\n",
    "del yelp_final_training_data_set['business stars_y']\n",
    "del yelp_final_training_data_set['user_type']\n",
    "del yelp_final_training_data_set['review_type']\n",
    "del yelp_final_training_data_set['Business_type']\n",
    "del yelp_final_training_data_set['checkin_type']\n",
    "\n",
    "yelp_final_training_data_set.head()\n",
    "yelp_final_training_data_set.columns\n",
    "\n",
    "\n",
    "\n"
   ]
  },
  {
   "cell_type": "code",
   "execution_count": 43,
   "metadata": {},
   "outputs": [
    {
     "data": {
      "text/plain": [
       "200473"
      ]
     },
     "execution_count": 43,
     "metadata": {},
     "output_type": "execute_result"
    }
   ],
   "source": [
    "yelp_final_training_data_set.index[-1] #200472\n",
    "len(yelp_final_training_data_set) #200473"
   ]
  },
  {
   "cell_type": "markdown",
   "metadata": {},
   "source": [
    "Step 2: Feature transformation\n"
   ]
  },
  {
   "cell_type": "markdown",
   "metadata": {},
   "source": [
    "Feature transform: As the reviews votes column in the yelp_final_training_data_set is a dictonary, we need to convert it to the data frame structure:"
   ]
  },
  {
   "cell_type": "code",
   "execution_count": 33,
   "metadata": {
    "collapsed": true
   },
   "outputs": [],
   "source": [
    "#Convert the data dictionary \"review votes\" to the review votes data frame\n",
    "\n",
    "yelp_final_training_data_review_votes=pd.DataFrame()\n",
    "\n",
    "for i in range(200473):\n",
    "    test = pd.DataFrame(data=yelp_final_training_data_set[\"review votes\"][i], index=[i])\n",
    "    yelp_final_training_data_review_votes=yelp_final_training_data_review_votes.append(test)\n",
    "\n",
    "    \n"
   ]
  },
  {
   "cell_type": "markdown",
   "metadata": {},
   "source": [
    "Feature transform: In our dataset, we have three types of votes: Useful vs. Fun vs. Cool\n",
    "In the project, I want to find out the keywords that are impacting how the users(readers of the reviews) perceive the review to be useful, fun or cool. So I'm creating certain logic to group all reviews into two opposite categories for each type of the votes: Funny vs not Funny, Cool vs not cool, Useful vs not Useful."
   ]
  },
  {
   "cell_type": "markdown",
   "metadata": {},
   "source": [
    "Feature Transform:\n",
    "For \"useful\", I created two fields \"useful\" vs \"not useful\".\n",
    "As the mean of useful votes across all the reviews in the data set is greater than 1 less than 2. so I define the vote that is over average as \"useful\" and the review that is below 1 as \"not useful\"."
   ]
  },
  {
   "cell_type": "code",
   "execution_count": 40,
   "metadata": {},
   "outputs": [
    {
     "data": {
      "text/plain": [
       "{'not useful', 'useful'}"
      ]
     },
     "execution_count": 40,
     "metadata": {},
     "output_type": "execute_result"
    }
   ],
   "source": [
    "# Create a function to define the review category to useful vs not useful:  when there's over 1 vote of 'useful' on the review then define the vote to useful\n",
    "def func_useful(row):\n",
    "    if row['useful']>1:\n",
    "        return 'useful'\n",
    "    else:\n",
    "        return 'not useful'\n",
    "    \n",
    "yelp_final_training_data_review_votes['Review_category_useful_notuseful']=yelp_final_training_data_review_votes.apply(func_useful, axis=1)\n",
    "\n",
    "yelp_final_training_data_review_votes.columns\n",
    "\n",
    "set(yelp_final_training_data_review_votes['Review_category_useful_notuseful']) #{'not useful', 'useful'}"
   ]
  },
  {
   "cell_type": "markdown",
   "metadata": {},
   "source": [
    "Feature Transform:\n",
    "For \"fun\", I created two fields \"fun\" vs \"not fun\".\n",
    "As the mean of useful votes across all the reviews in the data set is greater than 0 less than 1. so I define the vote that is over zero as \"fun\" and the review that equals to zero as \"not fun\"."
   ]
  },
  {
   "cell_type": "code",
   "execution_count": 39,
   "metadata": {},
   "outputs": [
    {
     "data": {
      "text/plain": [
       "{'funny', 'not funny'}"
      ]
     },
     "execution_count": 39,
     "metadata": {},
     "output_type": "execute_result"
    }
   ],
   "source": [
    "# Create a function to define the review category to funny vs not funny: \n",
    "def func_funny(row):\n",
    "    if row['funny']!=0:\n",
    "        return 'funny'\n",
    "    else:\n",
    "        return 'not funny'\n",
    "    \n",
    "yelp_final_training_data_review_votes['Review_category_funny_notfunny']=yelp_final_training_data_review_votes.apply(func_funny, axis=1)\n",
    "\n",
    "yelp_final_training_data_review_votes.columns\n",
    "\n",
    "set(yelp_final_training_data_review_votes['Review_category_funny_notfunny']) #{'funny', 'not funny'}"
   ]
  },
  {
   "cell_type": "markdown",
   "metadata": {},
   "source": [
    "Feature Transform:\n",
    "For \"cool\", I created two fields \"cool\" vs \"not cool\".\n",
    "As the mean of useful votes across all the reviews in the data set is greater than 0 less than 1. so I define the vote that is over zero as \"cool\" and the review that equals to zero as \"not cool\"."
   ]
  },
  {
   "cell_type": "code",
   "execution_count": 41,
   "metadata": {},
   "outputs": [
    {
     "data": {
      "text/plain": [
       "{'cool', 'not cool'}"
      ]
     },
     "execution_count": 41,
     "metadata": {},
     "output_type": "execute_result"
    }
   ],
   "source": [
    "# Create a function to define the review category to cool vs not cool:\n",
    "def func_cool(row):\n",
    "    if row['cool']!=0:\n",
    "        return 'cool'\n",
    "    else:\n",
    "        return 'not cool'\n",
    "    \n",
    "yelp_final_training_data_review_votes['Review_category_cool_notcool']=yelp_final_training_data_review_votes.apply(func_cool, axis=1)\n",
    "\n",
    "yelp_final_training_data_review_votes.columns\n",
    "\n",
    "set(yelp_final_training_data_review_votes['Review_category_cool_notcool']) #{'funny', 'not funny'}\n",
    "\n"
   ]
  },
  {
   "cell_type": "markdown",
   "metadata": {},
   "source": [
    "Feature Transform:\n",
    "Besides that, I have also created another set of the categories to see if a specific reviews is relatively funny, cool or useful.\n",
    "\n",
    "Below is the logic to define the categories for the reviews:\n",
    "1. When the useful, funny and cool votes are all zero then I categorize the review as \"No Review\"\n",
    "2. When the cool votes are greater than the votes from these other two categories, that means the review is relatively 'cool' than 'funny' or 'useful' I cateogorize the review as 'Cool'.\n",
    "3. When the 'funny' votes are greater than the votes from these other two categories, that means the review is relatively 'funny' than 'cool' or 'useful' I cateogorize the review as 'funny'.\n",
    "3. When the 'useful' votes are greater than the votes from these other two categories, that means the review is relatively 'useful' than 'cool' or 'funny' I cateogorize the review as 'useful'.\n",
    "4. When the review has the same number votes for all the three categories, then I would categorize them as 'Neutral'.\n"
   ]
  },
  {
   "cell_type": "code",
   "execution_count": null,
   "metadata": {
    "collapsed": true
   },
   "outputs": [],
   "source": [
    "# Create a function to define the review category to funniest, coolest, most useful, neutral and no categorization:\n",
    "def func_coolest_funniest_mostuseful(row):\n",
    "    if (row['useful']==0) & (row['funny']==0) & (row['cool']==0):\n",
    "        return 'no review'\n",
    "    if row['cool']==row['funny']==row['useful']:\n",
    "        return 'neutral'\n",
    "    if row['cool']>row['funny']>row['useful']:\n",
    "        return 'cool'\n",
    "    if row['cool']>row['funny']==row['useful']:\n",
    "        return 'cool'\n",
    "    if row['funny']>row['cool']>row['useful']:\n",
    "        return 'funny'\n",
    "    if row['cool']>row['useful']>row['funny']:\n",
    "        return 'cool'\n",
    "    if row['funny']>row['useful']>row['cool']:\n",
    "        return 'funny'\n",
    "    if row['funny']>row['useful']==row['cool']:\n",
    "        return 'funny'\n",
    "    if row['useful']>row['cool']>row['funny']:\n",
    "        return 'useful'\n",
    "    if row['useful']>row['funny']>row['cool']:\n",
    "        return 'useful'\n",
    "    if row['useful']>row['funny']==row['cool']:\n",
    "        return 'useful'\n",
    "    else:\n",
    "        return 'no categorization'\n",
    "    \n",
    "yelp_final_training_data_review_votes['Review_category_coolest_funniest_mostuseful']=yelp_final_training_data_review_votes.apply(func_coolest_funniest_mostuseful, axis=1)\n",
    "\n",
    "yelp_final_training_data_review_votes.columns\n",
    "\n",
    "set(yelp_final_training_data_review_votes['Review_category_coolest_funniest_mostuseful']) #{'funny', 'not funny'}\n"
   ]
  },
  {
   "cell_type": "code",
   "execution_count": 46,
   "metadata": {},
   "outputs": [
    {
     "data": {
      "text/plain": [
       "Index(['cool', 'funny', 'useful', 'Review_category_useful_notuseful',\n",
       "       'Review_category_funny_notfunny', 'Review_category_cool_notcool',\n",
       "       'Review_category_coolest_funniest_mostuseful'],\n",
       "      dtype='object')"
      ]
     },
     "execution_count": 46,
     "metadata": {},
     "output_type": "execute_result"
    }
   ],
   "source": [
    "yelp_final_training_data_review_votes.columns"
   ]
  },
  {
   "cell_type": "markdown",
   "metadata": {},
   "source": [
    "Feature Transform:\n",
    "Other than that, I created a feature total_review_votes_count which sum up all the votes for 'cool', 'funny' and 'useful'"
   ]
  },
  {
   "cell_type": "code",
   "execution_count": 48,
   "metadata": {
    "collapsed": true
   },
   "outputs": [],
   "source": [
    "yelp_final_training_data_review_votes['total_review_votes_count']=yelp_final_training_data_review_votes['cool'] +yelp_final_training_data_review_votes['funny']+ yelp_final_training_data_review_votes['useful']"
   ]
  },
  {
   "cell_type": "markdown",
   "metadata": {},
   "source": [
    "Feature Transform: Check the distribution of the total count of reviews"
   ]
  },
  {
   "cell_type": "code",
   "execution_count": 22,
   "metadata": {},
   "outputs": [
    {
     "data": {
      "text/plain": [
       "count    200473.000000\n",
       "mean          2.954543\n",
       "std           5.631084\n",
       "min           0.000000\n",
       "25%           0.000000\n",
       "50%           1.000000\n",
       "75%           3.000000\n",
       "max         159.000000\n",
       "Name: total_review_votes_count, dtype: float64"
      ]
     },
     "execution_count": 22,
     "metadata": {},
     "output_type": "execute_result"
    }
   ],
   "source": [
    "yelp_data_final.total_review_votes_count.describe()\n"
   ]
  },
  {
   "cell_type": "code",
   "execution_count": 23,
   "metadata": {},
   "outputs": [
    {
     "data": {
      "text/plain": [
       "0      72038\n",
       "1      39753\n",
       "2      22397\n",
       "3      18409\n",
       "4      10855\n",
       "5       7331\n",
       "6       5980\n",
       "7       4141\n",
       "8       3108\n",
       "9       2575\n",
       "10      1979\n",
       "11      1523\n",
       "12      1317\n",
       "13      1007\n",
       "14       875\n",
       "15       744\n",
       "16       676\n",
       "17       576\n",
       "18       518\n",
       "19       406\n",
       "20       380\n",
       "21       359\n",
       "22       305\n",
       "23       288\n",
       "24       261\n",
       "25       225\n",
       "26       223\n",
       "28       186\n",
       "27       178\n",
       "29       147\n",
       "       ...  \n",
       "74         3\n",
       "71         3\n",
       "68         3\n",
       "88         2\n",
       "132        2\n",
       "133        2\n",
       "100        2\n",
       "135        2\n",
       "76         2\n",
       "95         2\n",
       "77         2\n",
       "73         2\n",
       "72         2\n",
       "117        1\n",
       "86         1\n",
       "115        1\n",
       "114        1\n",
       "112        1\n",
       "110        1\n",
       "102        1\n",
       "134        1\n",
       "99         1\n",
       "147        1\n",
       "98         1\n",
       "97         1\n",
       "81         1\n",
       "94         1\n",
       "90         1\n",
       "159        1\n",
       "127        1\n",
       "Name: total_review_votes_count, Length: 107, dtype: int64"
      ]
     },
     "execution_count": 23,
     "metadata": {},
     "output_type": "execute_result"
    }
   ],
   "source": [
    "yelp_data_final.total_review_votes_count.value_counts()"
   ]
  },
  {
   "cell_type": "code",
   "execution_count": 29,
   "metadata": {},
   "outputs": [
    {
     "data": {
      "text/plain": [
       "<matplotlib.axes._subplots.AxesSubplot at 0x10c24f780>"
      ]
     },
     "execution_count": 29,
     "metadata": {},
     "output_type": "execute_result"
    },
    {
     "data": {
      "image/png": "[encoded data removed]",
      "text/plain": [
       "<matplotlib.figure.Figure at 0x10c22a4e0>"
      ]
     },
     "metadata": {},
     "output_type": "display_data"
    }
   ],
   "source": [
    "\n",
    "yelp_final_training_data_review_votes.total_review_votes_count.hist(bins=10)"
   ]
  },
  {
   "cell_type": "code",
   "execution_count": 51,
   "metadata": {},
   "outputs": [
    {
     "data": {
      "text/plain": [
       "Index(['cool', 'funny', 'useful', 'Review_category_useful_notuseful',\n",
       "       'Review_category_funny_notfunny', 'Review_category_cool_notcool',\n",
       "       'Review_category_coolest_funniest_mostuseful',\n",
       "       'total_review_votes_count'],\n",
       "      dtype='object')"
      ]
     },
     "execution_count": 51,
     "metadata": {},
     "output_type": "execute_result"
    }
   ],
   "source": [
    "yelp_final_training_data_review_votes.columns"
   ]
  },
  {
   "cell_type": "markdown",
   "metadata": {},
   "source": [
    "Feature transform: \n",
    "Use the quantile discretizer to categorize the total_review_votes_count relatively event into categories.\n",
    "The total_review_votes_count_grouping here ranks the reviews based on its quality/popularity and put them into 7 groups:\n",
    "\n",
    "Here are the 8 groups:\n",
    "\n",
    "Group 0: revies with 0 vote.\n",
    "\n",
    "Group 1: reviews with up to 5 votes\n",
    "\n",
    "Group 2: reviews with greater than 5 votes and less than and equal to 10 votes\n",
    "\n",
    "Group 3: reviews with greater than 10 votes and less than and equal to 15 votes\n",
    "\n",
    "Group 4: reviews with greater than 15 votes and less than and equal to 20 votes\n",
    "\n",
    "Group 5: reviews with greater than 20 votes and less than and equal to 25 votes\n",
    "\n",
    "Group 6: reviews with greater than 25 votes and less than and equal to 30 votes\n",
    "\n",
    "Group 7: reviews with over 30 votes\n"
   ]
  },
  {
   "cell_type": "code",
   "execution_count": 52,
   "metadata": {},
   "outputs": [
    {
     "data": {
      "text/plain": [
       "total_review_votes_count_grouping\n",
       "0    72038\n",
       "1    98745\n",
       "2    17783\n",
       "3     5466\n",
       "4     2556\n",
       "5     1438\n",
       "6      881\n",
       "7     1566\n",
       "Name: total_review_votes_count_grouping, dtype: int64"
      ]
     },
     "execution_count": 52,
     "metadata": {},
     "output_type": "execute_result"
    }
   ],
   "source": [
    "## Group the reviews into cateogies based on the number of votes the review gets\n",
    "\n",
    "yelp_final_training_data_review_votes.total_review_votes_count\n",
    "\n",
    "## quantile discretizer for total review count\n",
    "pd.qcut(yelp_final_training_data_review_votes['total_review_votes_count'], 100, duplicates='drop')\n",
    "\n",
    "#sortedIncome_qcut=pd.qcut(sortedIncome, 100, duplicates='drop', labels=list(range(78)))\n",
    "\n",
    "yelp_final_training_data_review_votes['total_review_votes_count'].describe()\n",
    "pd.qcut(yelp_final_training_data_review_votes['total_review_votes_count'], 10, duplicates='drop')\n",
    "\n",
    "\n",
    "# group the reviews into the following categories: 0, 0-5, 5-10, 10-15, 15-20, 20-25, 25-30, over 30\n",
    "yelp_final_training_data_review_votes['total_review_votes_count_grouping']=0\n",
    "set(yelp_final_training_data_review_votes['total_review_votes_count_grouping'])\n",
    "\n",
    "yelp_final_training_data_review_votes.loc[yelp_final_training_data_review_votes['total_review_votes_count']==0,'total_review_votes_count_grouping']=0\n",
    "yelp_final_training_data_review_votes.loc[(yelp_final_training_data_review_votes['total_review_votes_count']>0) & (yelp_final_training_data_review_votes['total_review_votes_count']<=5),'total_review_votes_count_grouping']=1\n",
    "yelp_final_training_data_review_votes.loc[(yelp_final_training_data_review_votes['total_review_votes_count']>5) & (yelp_final_training_data_review_votes['total_review_votes_count']<=10),'total_review_votes_count_grouping']=2\n",
    "yelp_final_training_data_review_votes.loc[(yelp_final_training_data_review_votes['total_review_votes_count']>10) & (yelp_final_training_data_review_votes['total_review_votes_count']<=15),'total_review_votes_count_grouping']=3\n",
    "yelp_final_training_data_review_votes.loc[(yelp_final_training_data_review_votes['total_review_votes_count']>15) & (yelp_final_training_data_review_votes['total_review_votes_count']<=20),'total_review_votes_count_grouping']=4\n",
    "yelp_final_training_data_review_votes.loc[(yelp_final_training_data_review_votes['total_review_votes_count']>20) & (yelp_final_training_data_review_votes['total_review_votes_count']<=25),'total_review_votes_count_grouping']=5\n",
    "yelp_final_training_data_review_votes.loc[(yelp_final_training_data_review_votes['total_review_votes_count']>25) & (yelp_final_training_data_review_votes['total_review_votes_count']<=30),'total_review_votes_count_grouping']=6\n",
    "yelp_final_training_data_review_votes.loc[(yelp_final_training_data_review_votes['total_review_votes_count']>30),'total_review_votes_count_grouping']=7\n",
    "\n",
    "yelp_final_training_data_review_votes.groupby(['total_review_votes_count_grouping'])['total_review_votes_count_grouping'].count()\n"
   ]
  },
  {
   "cell_type": "markdown",
   "metadata": {},
   "source": [
    "Feature transform: yelp_final_training_data_review_votes data set and the yelp_final_training_data_set has been finalized"
   ]
  },
  {
   "cell_type": "code",
   "execution_count": 55,
   "metadata": {},
   "outputs": [
    {
     "data": {
      "text/plain": [
       "Index(['cool', 'funny', 'useful', 'Review_category_useful_notuseful',\n",
       "       'Review_category_funny_notfunny', 'Review_category_cool_notcool',\n",
       "       'Review_category_coolest_funniest_mostuseful',\n",
       "       'total_review_votes_count', 'total_review_votes_count_grouping'],\n",
       "      dtype='object')"
      ]
     },
     "execution_count": 55,
     "metadata": {},
     "output_type": "execute_result"
    }
   ],
   "source": [
    "yelp_final_training_data_review_votes.columns"
   ]
  },
  {
   "cell_type": "code",
   "execution_count": 58,
   "metadata": {},
   "outputs": [
    {
     "data": {
      "text/plain": [
       "Index(['business_id', 'checkin_info', 'business categories', 'business city',\n",
       "       'full_address', 'latitude', 'longitude', 'business name',\n",
       "       'neighborhoods', 'open', 'business review_count', 'business stars',\n",
       "       'business state', 'review date', 'review_id', 'text', 'user_id',\n",
       "       'review votes', 'user average stars', 'user_name', 'user review_count',\n",
       "       'user_votes'],\n",
       "      dtype='object')"
      ]
     },
     "execution_count": 58,
     "metadata": {},
     "output_type": "execute_result"
    }
   ],
   "source": [
    "yelp_final_training_data_set.columns"
   ]
  },
  {
   "cell_type": "markdown",
   "metadata": {},
   "source": [
    "Feature transform: Join the yelp_final_training_data_review_votes and yelp_final_training_data_set together into the yelp_data_final data set. "
   ]
  },
  {
   "cell_type": "code",
   "execution_count": 59,
   "metadata": {
    "collapsed": true
   },
   "outputs": [],
   "source": [
    "#join all the review-related columns from the yelp_final_training_data_review_votes data frame with the yelp_final_training_data_set\n",
    "\n",
    "yelp_review_votes=yelp_final_training_data_review_votes\n",
    "yelp_data_final=yelp_final_training_data_set.join(yelp_review_votes)"
   ]
  },
  {
   "cell_type": "markdown",
   "metadata": {},
   "source": [
    "Feature transform: Export the data set into the project folder so that we only need to refer to the exported csv files for further analysis."
   ]
  },
  {
   "cell_type": "code",
   "execution_count": 3,
   "metadata": {},
   "outputs": [
    {
     "ename": "NameError",
     "evalue": "name 'yelp_review_votes' is not defined",
     "output_type": "error",
     "traceback": [
      "\u001b[0;31m---------------------------------------------------------------------------\u001b[0m",
      "\u001b[0;31mNameError\u001b[0m                                 Traceback (most recent call last)",
      "\u001b[0;32m<ipython-input-3-86c1615324a1>\u001b[0m in \u001b[0;36m<module>\u001b[0;34m()\u001b[0m\n\u001b[1;32m      1\u001b[0m \u001b[0;31m# Export the data set into the folder so that every time I just need to read the files\u001b[0m\u001b[0;34m\u001b[0m\u001b[0;34m\u001b[0m\u001b[0m\n\u001b[0;32m----> 2\u001b[0;31m \u001b[0myelp_review_votes\u001b[0m\u001b[0;34m.\u001b[0m\u001b[0mto_csv\u001b[0m\u001b[0;34m(\u001b[0m\u001b[0;34m\"/Users/yuka/Desktop/DataScience/Yelp Project/yelp_review_votes_master_data.csv\"\u001b[0m\u001b[0;34m)\u001b[0m\u001b[0;34m\u001b[0m\u001b[0m\n\u001b[0m\u001b[1;32m      3\u001b[0m \u001b[0;34m\u001b[0m\u001b[0m\n\u001b[1;32m      4\u001b[0m \u001b[0myelp_data_final\u001b[0m\u001b[0;34m.\u001b[0m\u001b[0mto_csv\u001b[0m\u001b[0;34m(\u001b[0m\u001b[0;34m\"/Users/yuka/Desktop/DataScience/Yelp Project/yelp_data_final_master_data.csv\"\u001b[0m\u001b[0;34m)\u001b[0m\u001b[0;34m\u001b[0m\u001b[0m\n",
      "\u001b[0;31mNameError\u001b[0m: name 'yelp_review_votes' is not defined"
     ]
    }
   ],
   "source": [
    "# Export the data set into the folder so that every time I just need to read the files\n",
    "yelp_review_votes.to_csv(\"/Users/yuka/Desktop/DataScience/Yelp Project/yelp_review_votes_master_data.csv\")\n",
    "\n",
    "yelp_data_final.to_csv(\"/Users/yuka/Desktop/DataScience/Yelp Project/yelp_data_final_master_data.csv\")\n"
   ]
  },
  {
   "cell_type": "markdown",
   "metadata": {},
   "source": [
    "Step 3: Further data cleaning and Exploratory Analysis"
   ]
  },
  {
   "cell_type": "markdown",
   "metadata": {},
   "source": [
    "Business Level data exploratory analysis:"
   ]
  },
  {
   "cell_type": "markdown",
   "metadata": {},
   "source": [
    "Understand the distribution of the number of business by state and city:\n",
    "    \n",
    "There are overall 11,537 business in the data set. 11,534 of the businesses are located in Arizona.\n",
    "Around 80% of the business in the data set are located in Phoenix, Scottsdale, Tempe, Mesa and Chandler."
   ]
  },
  {
   "cell_type": "code",
   "execution_count": 8,
   "metadata": {},
   "outputs": [
    {
     "data": {
      "text/plain": [
       "11537"
      ]
     },
     "execution_count": 8,
     "metadata": {},
     "output_type": "execute_result"
    }
   ],
   "source": [
    "yelp_training_set_business['business_id'].count()"
   ]
  },
  {
   "cell_type": "markdown",
   "metadata": {},
   "source": [
    "Below is the distribution of the businesses by state:"
   ]
  },
  {
   "cell_type": "code",
   "execution_count": 11,
   "metadata": {},
   "outputs": [
    {
     "data": {
      "text/plain": [
       "state\n",
       "AZ    11534\n",
       "CA        1\n",
       "CO        1\n",
       "SC        1\n",
       "Name: business_id, dtype: int64"
      ]
     },
     "execution_count": 11,
     "metadata": {},
     "output_type": "execute_result"
    }
   ],
   "source": [
    "yelp_training_set_business.groupby('state')['business_id'].count()"
   ]
  },
  {
   "cell_type": "code",
   "execution_count": 13,
   "metadata": {},
   "outputs": [
    {
     "data": {
      "image/png": "[encoded data removed]",
      "text/plain": [
       "<matplotlib.figure.Figure at 0x1a16606cf8>"
      ]
     },
     "metadata": {},
     "output_type": "display_data"
    }
   ],
   "source": [
    "df_bystate=yelp_training_set_business.groupby('state')['business_id'].count()\n",
    "f = df_bystate.hist();"
   ]
  },
  {
   "cell_type": "markdown",
   "metadata": {},
   "source": [
    "Below is the distribution of the business by cities:"
   ]
  },
  {
   "cell_type": "code",
   "execution_count": 19,
   "metadata": {
    "collapsed": true
   },
   "outputs": [],
   "source": [
    "df_bycity=yelp_training_set_business.groupby('city')['business_id'].count()\n"
   ]
  },
  {
   "cell_type": "code",
   "execution_count": 20,
   "metadata": {},
   "outputs": [],
   "source": [
    "df_bycity_for_plot=df_bycity.sort_values(ascending=False)[0:6]"
   ]
  },
  {
   "cell_type": "code",
   "execution_count": 21,
   "metadata": {},
   "outputs": [
    {
     "data": {
      "image/png": "[encoded data removed]",
      "text/plain": [
       "<matplotlib.figure.Figure at 0x1a16609390>"
      ]
     },
     "metadata": {},
     "output_type": "display_data"
    }
   ],
   "source": [
    "import matplotlib.pyplot as plt; plt.rcdefaults()\n",
    "import numpy as np\n",
    "import matplotlib.pyplot as plt\n",
    " \n",
    "    \n",
    "objects = set(df_bycity_for_plot.index)\n",
    "y_pos = np.arange(len(objects))\n",
    "performance = df_bycity_for_plot.values\n",
    " \n",
    "plt.bar(y_pos, performance, align='center', alpha=0.5)\n",
    "plt.xticks(y_pos, objects)\n",
    "plt.ylabel('number of business')\n",
    "plt.title('Number of business By city (the first 6 cities)')\n",
    " \n",
    "plt.show()"
   ]
  },
  {
   "cell_type": "markdown",
   "metadata": {},
   "source": [
    "Open business vs Closed business: Around 90% of the business in the dataset are open."
   ]
  },
  {
   "cell_type": "code",
   "execution_count": 22,
   "metadata": {},
   "outputs": [
    {
     "data": {
      "text/plain": [
       "open\n",
       "False     1224\n",
       "True     10313\n",
       "Name: business_id, dtype: int64"
      ]
     },
     "execution_count": 22,
     "metadata": {},
     "output_type": "execute_result"
    }
   ],
   "source": [
    "yelp_training_set_business.groupby('open')['business_id'].count()"
   ]
  },
  {
   "cell_type": "markdown",
   "metadata": {},
   "source": [
    "Review count distribution:\n",
    "A business has 20 reviews on average in teh dataset.\n",
    "Half of the business have 6 reviews.\n",
    "75% of the business have up to 16 reviews.\n",
    "In the dataset, there are also some outliers."
   ]
  },
  {
   "cell_type": "markdown",
   "metadata": {},
   "source": [
    "Here's the histogram for the business review count. As you can see, most of businesses have up to 10 reivews."
   ]
  },
  {
   "cell_type": "code",
   "execution_count": 24,
   "metadata": {},
   "outputs": [
    {
     "data": {
      "text/plain": [
       "count    11537.000000\n",
       "mean        20.192858\n",
       "std         43.345024\n",
       "min          3.000000\n",
       "25%          4.000000\n",
       "50%          6.000000\n",
       "75%         16.000000\n",
       "max        862.000000\n",
       "Name: review_count, dtype: float64"
      ]
     },
     "execution_count": 24,
     "metadata": {},
     "output_type": "execute_result"
    }
   ],
   "source": [
    "yelp_training_set_business['review_count'].describe()"
   ]
  },
  {
   "cell_type": "code",
   "execution_count": 25,
   "metadata": {},
   "outputs": [
    {
     "data": {
      "text/plain": [
       "<matplotlib.axes._subplots.AxesSubplot at 0x1a1663f6d8>"
      ]
     },
     "execution_count": 25,
     "metadata": {},
     "output_type": "execute_result"
    },
    {
     "data": {
      "image/png": "[encoded data removed]",
      "text/plain": [
       "<matplotlib.figure.Figure at 0x10831dc18>"
      ]
     },
     "metadata": {},
     "output_type": "display_data"
    }
   ],
   "source": [
    "yelp_training_set_business['review_count'].plot(kind='hist')"
   ]
  },
  {
   "cell_type": "markdown",
   "metadata": {},
   "source": [
    "Below are the outliers:"
   ]
  },
  {
   "cell_type": "code",
   "execution_count": 26,
   "metadata": {},
   "outputs": [
    {
     "data": {
      "text/plain": [
       "8904    525\n",
       "107     549\n",
       "3265    575\n",
       "62      580\n",
       "7053    594\n",
       "8283    652\n",
       "6422    689\n",
       "3428    735\n",
       "5498    803\n",
       "9533    862\n",
       "Name: review_count, dtype: int64"
      ]
     },
     "execution_count": 26,
     "metadata": {},
     "output_type": "execute_result"
    }
   ],
   "source": [
    "yelp_training_set_business['review_count'].mean() + 3 *yelp_training_set_business['review_count'].std() #150.22792885523137\n",
    "\n",
    "yelp_training_set_business.loc[yelp_training_set_business['review_count']>150.22792885523137, 'review_count'].sort_values()[-10:]"
   ]
  },
  {
   "cell_type": "markdown",
   "metadata": {},
   "source": [
    "The business star ranges from 1 to 5. Half of the businesses have up to 3.5 stars. 75% of the businesses have up to 4.5 stars. Below is the histogram for the business star. As you can see most of the businesses have over 3 stars. A lot of the businesses have 3.5 to 4 stars."
   ]
  },
  {
   "cell_type": "code",
   "execution_count": 28,
   "metadata": {},
   "outputs": [
    {
     "data": {
      "text/plain": [
       "count    11537.000000\n",
       "mean         3.674525\n",
       "std          0.862407\n",
       "min          1.000000\n",
       "25%          3.000000\n",
       "50%          3.500000\n",
       "75%          4.500000\n",
       "max          5.000000\n",
       "Name: stars, dtype: float64"
      ]
     },
     "execution_count": 28,
     "metadata": {},
     "output_type": "execute_result"
    }
   ],
   "source": [
    "yelp_training_set_business['stars'].describe()"
   ]
  },
  {
   "cell_type": "code",
   "execution_count": 29,
   "metadata": {},
   "outputs": [
    {
     "data": {
      "text/plain": [
       "stars\n",
       "1.0     108\n",
       "1.5     170\n",
       "2.0     403\n",
       "2.5    1011\n",
       "3.0    1511\n",
       "3.5    2639\n",
       "4.0    2674\n",
       "4.5    1748\n",
       "5.0    1273\n",
       "Name: business_id, dtype: int64"
      ]
     },
     "execution_count": 29,
     "metadata": {},
     "output_type": "execute_result"
    }
   ],
   "source": [
    "yelp_training_set_business.groupby('stars')['business_id'].count()"
   ]
  },
  {
   "cell_type": "code",
   "execution_count": 30,
   "metadata": {},
   "outputs": [
    {
     "data": {
      "text/plain": [
       "<matplotlib.axes._subplots.AxesSubplot at 0x1a169fbcc0>"
      ]
     },
     "execution_count": 30,
     "metadata": {},
     "output_type": "execute_result"
    },
    {
     "data": {
      "image/png": "[encoded data removed]",
      "text/plain": [
       "<matplotlib.figure.Figure at 0x1a166a93c8>"
      ]
     },
     "metadata": {},
     "output_type": "display_data"
    }
   ],
   "source": [
    "yelp_training_set_business['stars'].plot(kind='hist')"
   ]
  },
  {
   "cell_type": "markdown",
   "metadata": {},
   "source": [
    "Discover the correlation between review_count of the business and the stars of the business:\n",
    "\n",
    "The correlation between stars and review count for a business count is 0.055, which means the number of stars a business gets is not closely correlated to the number of reviews the business has."
   ]
  },
  {
   "cell_type": "code",
   "execution_count": 31,
   "metadata": {},
   "outputs": [
    {
     "data": {
      "text/html": [
       "<div>\n",
       "<style>\n",
       "    .dataframe thead tr:only-child th {\n",
       "        text-align: right;\n",
       "    }\n",
       "\n",
       "    .dataframe thead th {\n",
       "        text-align: left;\n",
       "    }\n",
       "\n",
       "    .dataframe tbody tr th {\n",
       "        vertical-align: top;\n",
       "    }\n",
       "</style>\n",
       "<table border=\"1\" class=\"dataframe\">\n",
       "  <thead>\n",
       "    <tr style=\"text-align: right;\">\n",
       "      <th></th>\n",
       "      <th>stars</th>\n",
       "      <th>review_count</th>\n",
       "    </tr>\n",
       "  </thead>\n",
       "  <tbody>\n",
       "    <tr>\n",
       "      <th>stars</th>\n",
       "      <td>1.000000</td>\n",
       "      <td>0.055202</td>\n",
       "    </tr>\n",
       "    <tr>\n",
       "      <th>review_count</th>\n",
       "      <td>0.055202</td>\n",
       "      <td>1.000000</td>\n",
       "    </tr>\n",
       "  </tbody>\n",
       "</table>\n",
       "</div>"
      ],
      "text/plain": [
       "                 stars  review_count\n",
       "stars         1.000000      0.055202\n",
       "review_count  0.055202      1.000000"
      ]
     },
     "execution_count": 31,
     "metadata": {},
     "output_type": "execute_result"
    }
   ],
   "source": [
    "yelp_training_set_business[['stars', 'review_count']].corr()"
   ]
  },
  {
   "cell_type": "markdown",
   "metadata": {},
   "source": [
    "User level data exploratory analysis: There are overall 43,873 users in the data set."
   ]
  },
  {
   "cell_type": "code",
   "execution_count": 32,
   "metadata": {},
   "outputs": [
    {
     "data": {
      "text/plain": [
       "average_stars    43873\n",
       "name             43873\n",
       "review_count     43873\n",
       "type             43873\n",
       "user_id          43873\n",
       "votes            43873\n",
       "dtype: int64"
      ]
     },
     "execution_count": 32,
     "metadata": {},
     "output_type": "execute_result"
    }
   ],
   "source": [
    "yelp_training_set_user.count()"
   ]
  },
  {
   "cell_type": "markdown",
   "metadata": {},
   "source": [
    "Convert the data dictionary \"user review votes\" to the user review votes data frame"
   ]
  },
  {
   "cell_type": "code",
   "execution_count": null,
   "metadata": {
    "collapsed": true
   },
   "outputs": [],
   "source": [
    "#Convert the data dictionary \"user review votes\" to the user review votes data frame\n",
    "yelp_training_set_user_votes=pd.DataFrame()\n",
    "\n",
    "for i in range(len(yelp_training_set_user)):\n",
    "    test = pd.DataFrame(data=yelp_training_set_user[\"votes\"][i], index=[i])\n",
    "    yelp_training_set_user_votes=yelp_training_set_user_votes.append(test)\n"
   ]
  },
  {
   "cell_type": "code",
   "execution_count": null,
   "metadata": {
    "collapsed": true
   },
   "outputs": [],
   "source": [
    "yelp_training_set_user_votes.head()"
   ]
  },
  {
   "cell_type": "code",
   "execution_count": 36,
   "metadata": {
    "collapsed": true
   },
   "outputs": [],
   "source": [
    "yelp_training_set_user_votes['total_user_review_votes']=yelp_training_set_user_votes[\"cool\"]+yelp_training_set_user_votes[\"funny\"]+yelp_training_set_user_votes[\"useful\"]"
   ]
  },
  {
   "cell_type": "code",
   "execution_count": 37,
   "metadata": {},
   "outputs": [
    {
     "data": {
      "text/html": [
       "<div>\n",
       "<style>\n",
       "    .dataframe thead tr:only-child th {\n",
       "        text-align: right;\n",
       "    }\n",
       "\n",
       "    .dataframe thead th {\n",
       "        text-align: left;\n",
       "    }\n",
       "\n",
       "    .dataframe tbody tr th {\n",
       "        vertical-align: top;\n",
       "    }\n",
       "</style>\n",
       "<table border=\"1\" class=\"dataframe\">\n",
       "  <thead>\n",
       "    <tr style=\"text-align: right;\">\n",
       "      <th></th>\n",
       "      <th>cool</th>\n",
       "      <th>funny</th>\n",
       "      <th>useful</th>\n",
       "      <th>total_user_review_votes</th>\n",
       "    </tr>\n",
       "  </thead>\n",
       "  <tbody>\n",
       "    <tr>\n",
       "      <th>0</th>\n",
       "      <td>0</td>\n",
       "      <td>0</td>\n",
       "      <td>7</td>\n",
       "      <td>7</td>\n",
       "    </tr>\n",
       "    <tr>\n",
       "      <th>1</th>\n",
       "      <td>0</td>\n",
       "      <td>0</td>\n",
       "      <td>1</td>\n",
       "      <td>1</td>\n",
       "    </tr>\n",
       "    <tr>\n",
       "      <th>2</th>\n",
       "      <td>0</td>\n",
       "      <td>0</td>\n",
       "      <td>1</td>\n",
       "      <td>1</td>\n",
       "    </tr>\n",
       "    <tr>\n",
       "      <th>3</th>\n",
       "      <td>0</td>\n",
       "      <td>0</td>\n",
       "      <td>2</td>\n",
       "      <td>2</td>\n",
       "    </tr>\n",
       "    <tr>\n",
       "      <th>4</th>\n",
       "      <td>0</td>\n",
       "      <td>0</td>\n",
       "      <td>0</td>\n",
       "      <td>0</td>\n",
       "    </tr>\n",
       "  </tbody>\n",
       "</table>\n",
       "</div>"
      ],
      "text/plain": [
       "   cool  funny  useful  total_user_review_votes\n",
       "0     0      0       7                        7\n",
       "1     0      0       1                        1\n",
       "2     0      0       1                        1\n",
       "3     0      0       2                        2\n",
       "4     0      0       0                        0"
      ]
     },
     "execution_count": 37,
     "metadata": {},
     "output_type": "execute_result"
    }
   ],
   "source": [
    "yelp_training_set_user_votes.head()"
   ]
  },
  {
   "cell_type": "markdown",
   "metadata": {},
   "source": [
    "Here's the distribution of the total user review votes:\n",
    "Most of the users (75% of the users) have up to 37 votes for their reviews.\n",
    "There are some outliers. The maximum votes a user can get in the dataset is 70,341."
   ]
  },
  {
   "cell_type": "code",
   "execution_count": 38,
   "metadata": {},
   "outputs": [
    {
     "data": {
      "text/plain": [
       "count    43873.000000\n",
       "mean       173.620290\n",
       "std       1406.417362\n",
       "min          0.000000\n",
       "25%          2.000000\n",
       "50%          8.000000\n",
       "75%         37.000000\n",
       "max      70341.000000\n",
       "Name: total_user_review_votes, dtype: float64"
      ]
     },
     "execution_count": 38,
     "metadata": {},
     "output_type": "execute_result"
    }
   ],
   "source": [
    "yelp_training_set_user_votes['total_user_review_votes'].describe()"
   ]
  },
  {
   "cell_type": "markdown",
   "metadata": {},
   "source": [
    "Below are the outliers:"
   ]
  },
  {
   "cell_type": "code",
   "execution_count": 39,
   "metadata": {},
   "outputs": [
    {
     "data": {
      "text/plain": [
       "4055     31232\n",
       "16226    32506\n",
       "14382    32537\n",
       "37816    33914\n",
       "8101     35812\n",
       "14592    36052\n",
       "425      37474\n",
       "35750    37765\n",
       "7453     37947\n",
       "2177     40949\n",
       "17275    41500\n",
       "2590     43020\n",
       "27237    44162\n",
       "41699    54412\n",
       "39978    54762\n",
       "33644    60205\n",
       "30984    60633\n",
       "37473    61929\n",
       "33333    63602\n",
       "8083     70341\n",
       "Name: total_user_review_votes, dtype: int64"
      ]
     },
     "execution_count": 39,
     "metadata": {},
     "output_type": "execute_result"
    }
   ],
   "source": [
    "yelp_training_set_user_votes['total_user_review_votes'].mean() + 3 *yelp_training_set_user_votes['total_user_review_votes'].std() #4392.8723777299365\n",
    "\n",
    "yelp_training_set_user_votes.loc[yelp_training_set_user_votes['total_user_review_votes']>150.22792885523137, 'total_user_review_votes'].sort_values()[-20:]"
   ]
  },
  {
   "cell_type": "markdown",
   "metadata": {},
   "source": [
    "Distribution of the average stars a user has got:\n",
    "The average star a user can get ranges from 0 to 5.\n",
    "Half of the users have up to 3.86 average stars. 75% of the users have up to 4.36 average stars."
   ]
  },
  {
   "cell_type": "code",
   "execution_count": 40,
   "metadata": {},
   "outputs": [
    {
     "data": {
      "text/plain": [
       "count    43873.000000\n",
       "mean         3.744078\n",
       "std          0.965280\n",
       "min          0.000000\n",
       "25%          3.330000\n",
       "50%          3.860000\n",
       "75%          4.360000\n",
       "max          5.000000\n",
       "Name: average_stars, dtype: float64"
      ]
     },
     "execution_count": 40,
     "metadata": {},
     "output_type": "execute_result"
    }
   ],
   "source": [
    "yelp_training_set_user['average_stars'].describe()"
   ]
  },
  {
   "cell_type": "code",
   "execution_count": 41,
   "metadata": {},
   "outputs": [
    {
     "data": {
      "text/plain": [
       "<matplotlib.axes._subplots.AxesSubplot at 0x1a16a36198>"
      ]
     },
     "execution_count": 41,
     "metadata": {},
     "output_type": "execute_result"
    },
    {
     "data": {
      "image/png": "[encoded data removed]",
      "text/plain": [
       "<matplotlib.figure.Figure at 0x1a169d2e10>"
      ]
     },
     "metadata": {},
     "output_type": "display_data"
    }
   ],
   "source": [
    "yelp_training_set_user['average_stars'].plot(kind='hist')"
   ]
  },
  {
   "cell_type": "markdown",
   "metadata": {},
   "source": [
    "Distribution of the user review count:\n",
    "Half of the users have posted up to  7 reviews. 75% of the users have posted up to 23 reviews. There are some outliers. The maximum number of reviews a user has posted is 5,807."
   ]
  },
  {
   "cell_type": "code",
   "execution_count": 42,
   "metadata": {},
   "outputs": [
    {
     "data": {
      "text/plain": [
       "count    43873.000000\n",
       "mean        38.858729\n",
       "std        117.907082\n",
       "min          1.000000\n",
       "25%          2.000000\n",
       "50%          7.000000\n",
       "75%         23.000000\n",
       "max       5807.000000\n",
       "Name: review_count, dtype: float64"
      ]
     },
     "execution_count": 42,
     "metadata": {},
     "output_type": "execute_result"
    }
   ],
   "source": [
    "yelp_training_set_user['review_count'].describe()"
   ]
  },
  {
   "cell_type": "code",
   "execution_count": 43,
   "metadata": {},
   "outputs": [
    {
     "data": {
      "text/plain": [
       "<matplotlib.axes._subplots.AxesSubplot at 0x1a173a4748>"
      ]
     },
     "execution_count": 43,
     "metadata": {},
     "output_type": "execute_result"
    },
    {
     "data": {
      "image/png": "[encoded data removed]",
      "text/plain": [
       "<matplotlib.figure.Figure at 0x1a16a3b240>"
      ]
     },
     "metadata": {},
     "output_type": "display_data"
    }
   ],
   "source": [
    "yelp_training_set_user['review_count'].plot(kind='hist')"
   ]
  },
  {
   "cell_type": "markdown",
   "metadata": {},
   "source": [
    "Below are the outliers:"
   ]
  },
  {
   "cell_type": "code",
   "execution_count": 44,
   "metadata": {},
   "outputs": [
    {
     "data": {
      "text/plain": [
       "12596    1914\n",
       "25948    1977\n",
       "8010     1995\n",
       "30984    2012\n",
       "34263    2038\n",
       "24896    2100\n",
       "25116    2109\n",
       "20762    2191\n",
       "27960    2274\n",
       "20315    2448\n",
       "8083     2587\n",
       "17275    2760\n",
       "7421     2810\n",
       "5087     2848\n",
       "1833     5807\n",
       "Name: review_count, dtype: int64"
      ]
     },
     "execution_count": 44,
     "metadata": {},
     "output_type": "execute_result"
    }
   ],
   "source": [
    "yelp_training_set_user['review_count'].mean()+yelp_training_set_user['review_count'].std()*3 #392.57997380988644\n",
    "yelp_training_set_user.loc[yelp_training_set_user['review_count']>392.57997380988644,'review_count'].sort_values()[-15:]"
   ]
  },
  {
   "cell_type": "code",
   "execution_count": 74,
   "metadata": {},
   "outputs": [
    {
     "data": {
      "text/plain": [
       "Index(['average_stars', 'name', 'review_count', 'type', 'user_id', 'votes'], dtype='object')"
      ]
     },
     "execution_count": 74,
     "metadata": {},
     "output_type": "execute_result"
    }
   ],
   "source": [
    "yelp_training_set_user.columns"
   ]
  },
  {
   "cell_type": "markdown",
   "metadata": {},
   "source": [
    "By looking at the correlation below, you will find:\n",
    "\n",
    "- The number of \"useful\" votes a user has got is closely related to the number of reviews the user has posted (the R squared is 70%)\n",
    "\n",
    "- The number of \"cool\" votes a user has got is also related to the number of reviews user has posted (the R squared is around 65%)\n",
    "\n",
    "- Also, you the \"cool\" , \"funny\" and \"useful\" votes are very closely related to each other with R squared over 90%, which might suggest that a lot of the users in the dataset usually get all these three types of votes for their reviews instead of just getting votes in one or two specific categories.\n",
    "\n",
    "- Unexpectedly, the averge stars a user has got is negatively related to the total number of reviews. The review votes has a very weak relationship with the average star user has got."
   ]
  },
  {
   "cell_type": "code",
   "execution_count": 79,
   "metadata": {},
   "outputs": [
    {
     "data": {
      "text/html": [
       "<div>\n",
       "<style>\n",
       "    .dataframe thead tr:only-child th {\n",
       "        text-align: right;\n",
       "    }\n",
       "\n",
       "    .dataframe thead th {\n",
       "        text-align: left;\n",
       "    }\n",
       "\n",
       "    .dataframe tbody tr th {\n",
       "        vertical-align: top;\n",
       "    }\n",
       "</style>\n",
       "<table border=\"1\" class=\"dataframe\">\n",
       "  <thead>\n",
       "    <tr style=\"text-align: right;\">\n",
       "      <th></th>\n",
       "      <th>average_stars</th>\n",
       "      <th>review_count</th>\n",
       "      <th>cool</th>\n",
       "      <th>funny</th>\n",
       "      <th>useful</th>\n",
       "      <th>total_user_review_votes</th>\n",
       "    </tr>\n",
       "  </thead>\n",
       "  <tbody>\n",
       "    <tr>\n",
       "      <th>average_stars</th>\n",
       "      <td>1.000000</td>\n",
       "      <td>-0.006717</td>\n",
       "      <td>0.005040</td>\n",
       "      <td>0.001770</td>\n",
       "      <td>0.001616</td>\n",
       "      <td>0.002814</td>\n",
       "    </tr>\n",
       "    <tr>\n",
       "      <th>review_count</th>\n",
       "      <td>-0.006717</td>\n",
       "      <td>1.000000</td>\n",
       "      <td>0.644072</td>\n",
       "      <td>0.595040</td>\n",
       "      <td>0.700362</td>\n",
       "      <td>0.657078</td>\n",
       "    </tr>\n",
       "    <tr>\n",
       "      <th>cool</th>\n",
       "      <td>0.005040</td>\n",
       "      <td>0.644072</td>\n",
       "      <td>1.000000</td>\n",
       "      <td>0.972417</td>\n",
       "      <td>0.991527</td>\n",
       "      <td>0.996875</td>\n",
       "    </tr>\n",
       "    <tr>\n",
       "      <th>funny</th>\n",
       "      <td>0.001770</td>\n",
       "      <td>0.595040</td>\n",
       "      <td>0.972417</td>\n",
       "      <td>1.000000</td>\n",
       "      <td>0.960693</td>\n",
       "      <td>0.983621</td>\n",
       "    </tr>\n",
       "    <tr>\n",
       "      <th>useful</th>\n",
       "      <td>0.001616</td>\n",
       "      <td>0.700362</td>\n",
       "      <td>0.991527</td>\n",
       "      <td>0.960693</td>\n",
       "      <td>1.000000</td>\n",
       "      <td>0.993983</td>\n",
       "    </tr>\n",
       "    <tr>\n",
       "      <th>total_user_review_votes</th>\n",
       "      <td>0.002814</td>\n",
       "      <td>0.657078</td>\n",
       "      <td>0.996875</td>\n",
       "      <td>0.983621</td>\n",
       "      <td>0.993983</td>\n",
       "      <td>1.000000</td>\n",
       "    </tr>\n",
       "  </tbody>\n",
       "</table>\n",
       "</div>"
      ],
      "text/plain": [
       "                         average_stars  review_count      cool     funny  \\\n",
       "average_stars                 1.000000     -0.006717  0.005040  0.001770   \n",
       "review_count                 -0.006717      1.000000  0.644072  0.595040   \n",
       "cool                          0.005040      0.644072  1.000000  0.972417   \n",
       "funny                         0.001770      0.595040  0.972417  1.000000   \n",
       "useful                        0.001616      0.700362  0.991527  0.960693   \n",
       "total_user_review_votes       0.002814      0.657078  0.996875  0.983621   \n",
       "\n",
       "                           useful  total_user_review_votes  \n",
       "average_stars            0.001616                 0.002814  \n",
       "review_count             0.700362                 0.657078  \n",
       "cool                     0.991527                 0.996875  \n",
       "funny                    0.960693                 0.983621  \n",
       "useful                   1.000000                 0.993983  \n",
       "total_user_review_votes  0.993983                 1.000000  "
      ]
     },
     "execution_count": 79,
     "metadata": {},
     "output_type": "execute_result"
    }
   ],
   "source": [
    "yelp_training_set_user[['average_stars', 'review_count']].join(yelp_training_set_user_votes).corr()"
   ]
  },
  {
   "cell_type": "code",
   "execution_count": 80,
   "metadata": {},
   "outputs": [
    {
     "data": {
      "text/plain": [
       "<matplotlib.axes._subplots.AxesSubplot at 0x1a17bdb908>"
      ]
     },
     "execution_count": 80,
     "metadata": {},
     "output_type": "execute_result"
    },
    {
     "data": {
      "image/png": "[encoded data removed]",
      "text/plain": [
       "<matplotlib.figure.Figure at 0x1a17bd35c0>"
      ]
     },
     "metadata": {},
     "output_type": "display_data"
    }
   ],
   "source": [
    "import seaborn as sb\n",
    "##heatmap:\n",
    "sb.heatmap(yelp_training_set_user[['average_stars', 'review_count']].join(yelp_training_set_user_votes).corr().corr())\n"
   ]
  },
  {
   "cell_type": "markdown",
   "metadata": {},
   "source": [
    "Checkin data exploratory analysis:"
   ]
  },
  {
   "cell_type": "markdown",
   "metadata": {},
   "source": [
    "There are overall 8,282 business in the data."
   ]
  },
  {
   "cell_type": "code",
   "execution_count": 45,
   "metadata": {},
   "outputs": [
    {
     "data": {
      "text/plain": [
       "business_id     8282\n",
       "checkin_info    8282\n",
       "type            8282\n",
       "dtype: int64"
      ]
     },
     "execution_count": 45,
     "metadata": {},
     "output_type": "execute_result"
    }
   ],
   "source": [
    "yelp_training_set_checkin.count()"
   ]
  },
  {
   "cell_type": "code",
   "execution_count": 81,
   "metadata": {},
   "outputs": [
    {
     "data": {
      "text/plain": [
       "Index(['business_id', 'checkin_info', 'type'], dtype='object')"
      ]
     },
     "execution_count": 81,
     "metadata": {},
     "output_type": "execute_result"
    }
   ],
   "source": [
    "yelp_training_set_checkin.columns"
   ]
  },
  {
   "cell_type": "markdown",
   "metadata": {},
   "source": [
    "Convert the data dictionary \"checkin info\" to checkin info data frame:"
   ]
  },
  {
   "cell_type": "code",
   "execution_count": null,
   "metadata": {
    "collapsed": true
   },
   "outputs": [],
   "source": [
    "#Convert the data dictionary \"checkin info\" to checkin info data frame:\n",
    "yelp_training_set_checkin_info=pd.DataFrame()\n",
    "\n",
    "for i in range(len(yelp_training_set_checkin)):\n",
    "    test = pd.DataFrame(data=yelp_training_set_checkin[\"checkin_info\"][i], index=[i])\n",
    "    yelp_training_set_checkin_info=yelp_training_set_checkin_info.append(test)"
   ]
  },
  {
   "cell_type": "code",
   "execution_count": 47,
   "metadata": {},
   "outputs": [
    {
     "data": {
      "text/html": [
       "<div>\n",
       "<style>\n",
       "    .dataframe thead tr:only-child th {\n",
       "        text-align: right;\n",
       "    }\n",
       "\n",
       "    .dataframe thead th {\n",
       "        text-align: left;\n",
       "    }\n",
       "\n",
       "    .dataframe tbody tr th {\n",
       "        vertical-align: top;\n",
       "    }\n",
       "</style>\n",
       "<table border=\"1\" class=\"dataframe\">\n",
       "  <thead>\n",
       "    <tr style=\"text-align: right;\">\n",
       "      <th></th>\n",
       "      <th>0-0</th>\n",
       "      <th>0-1</th>\n",
       "      <th>0-2</th>\n",
       "      <th>0-3</th>\n",
       "      <th>0-4</th>\n",
       "      <th>0-5</th>\n",
       "      <th>0-6</th>\n",
       "      <th>1-0</th>\n",
       "      <th>1-1</th>\n",
       "      <th>1-2</th>\n",
       "      <th>...</th>\n",
       "      <th>8-4</th>\n",
       "      <th>8-5</th>\n",
       "      <th>8-6</th>\n",
       "      <th>9-0</th>\n",
       "      <th>9-1</th>\n",
       "      <th>9-2</th>\n",
       "      <th>9-3</th>\n",
       "      <th>9-4</th>\n",
       "      <th>9-5</th>\n",
       "      <th>9-6</th>\n",
       "    </tr>\n",
       "  </thead>\n",
       "  <tbody>\n",
       "    <tr>\n",
       "      <th>0</th>\n",
       "      <td>0.0</td>\n",
       "      <td>0.0</td>\n",
       "      <td>0.0</td>\n",
       "      <td>0.0</td>\n",
       "      <td>0.0</td>\n",
       "      <td>1.0</td>\n",
       "      <td>0.0</td>\n",
       "      <td>0.0</td>\n",
       "      <td>0.0</td>\n",
       "      <td>0.0</td>\n",
       "      <td>...</td>\n",
       "      <td>0.0</td>\n",
       "      <td>1.0</td>\n",
       "      <td>0.0</td>\n",
       "      <td>0.0</td>\n",
       "      <td>0.0</td>\n",
       "      <td>0.0</td>\n",
       "      <td>0.0</td>\n",
       "      <td>1.0</td>\n",
       "      <td>2.0</td>\n",
       "      <td>4.0</td>\n",
       "    </tr>\n",
       "    <tr>\n",
       "      <th>1</th>\n",
       "      <td>3.0</td>\n",
       "      <td>0.0</td>\n",
       "      <td>0.0</td>\n",
       "      <td>0.0</td>\n",
       "      <td>0.0</td>\n",
       "      <td>1.0</td>\n",
       "      <td>0.0</td>\n",
       "      <td>0.0</td>\n",
       "      <td>0.0</td>\n",
       "      <td>0.0</td>\n",
       "      <td>...</td>\n",
       "      <td>0.0</td>\n",
       "      <td>0.0</td>\n",
       "      <td>0.0</td>\n",
       "      <td>0.0</td>\n",
       "      <td>0.0</td>\n",
       "      <td>0.0</td>\n",
       "      <td>0.0</td>\n",
       "      <td>0.0</td>\n",
       "      <td>0.0</td>\n",
       "      <td>0.0</td>\n",
       "    </tr>\n",
       "    <tr>\n",
       "      <th>2</th>\n",
       "      <td>0.0</td>\n",
       "      <td>0.0</td>\n",
       "      <td>1.0</td>\n",
       "      <td>0.0</td>\n",
       "      <td>0.0</td>\n",
       "      <td>0.0</td>\n",
       "      <td>0.0</td>\n",
       "      <td>0.0</td>\n",
       "      <td>0.0</td>\n",
       "      <td>0.0</td>\n",
       "      <td>...</td>\n",
       "      <td>0.0</td>\n",
       "      <td>1.0</td>\n",
       "      <td>0.0</td>\n",
       "      <td>0.0</td>\n",
       "      <td>0.0</td>\n",
       "      <td>1.0</td>\n",
       "      <td>0.0</td>\n",
       "      <td>0.0</td>\n",
       "      <td>1.0</td>\n",
       "      <td>0.0</td>\n",
       "    </tr>\n",
       "    <tr>\n",
       "      <th>3</th>\n",
       "      <td>0.0</td>\n",
       "      <td>0.0</td>\n",
       "      <td>0.0</td>\n",
       "      <td>0.0</td>\n",
       "      <td>0.0</td>\n",
       "      <td>0.0</td>\n",
       "      <td>0.0</td>\n",
       "      <td>0.0</td>\n",
       "      <td>0.0</td>\n",
       "      <td>0.0</td>\n",
       "      <td>...</td>\n",
       "      <td>0.0</td>\n",
       "      <td>0.0</td>\n",
       "      <td>0.0</td>\n",
       "      <td>0.0</td>\n",
       "      <td>0.0</td>\n",
       "      <td>0.0</td>\n",
       "      <td>0.0</td>\n",
       "      <td>0.0</td>\n",
       "      <td>0.0</td>\n",
       "      <td>0.0</td>\n",
       "    </tr>\n",
       "    <tr>\n",
       "      <th>4</th>\n",
       "      <td>0.0</td>\n",
       "      <td>0.0</td>\n",
       "      <td>0.0</td>\n",
       "      <td>0.0</td>\n",
       "      <td>0.0</td>\n",
       "      <td>0.0</td>\n",
       "      <td>0.0</td>\n",
       "      <td>0.0</td>\n",
       "      <td>0.0</td>\n",
       "      <td>0.0</td>\n",
       "      <td>...</td>\n",
       "      <td>0.0</td>\n",
       "      <td>0.0</td>\n",
       "      <td>0.0</td>\n",
       "      <td>0.0</td>\n",
       "      <td>0.0</td>\n",
       "      <td>0.0</td>\n",
       "      <td>0.0</td>\n",
       "      <td>0.0</td>\n",
       "      <td>0.0</td>\n",
       "      <td>0.0</td>\n",
       "    </tr>\n",
       "  </tbody>\n",
       "</table>\n",
       "<p>5 rows × 168 columns</p>\n",
       "</div>"
      ],
      "text/plain": [
       "   0-0  0-1  0-2  0-3  0-4  0-5  0-6  1-0  1-1  1-2 ...   8-4  8-5  8-6  9-0  \\\n",
       "0  0.0  0.0  0.0  0.0  0.0  1.0  0.0  0.0  0.0  0.0 ...   0.0  1.0  0.0  0.0   \n",
       "1  3.0  0.0  0.0  0.0  0.0  1.0  0.0  0.0  0.0  0.0 ...   0.0  0.0  0.0  0.0   \n",
       "2  0.0  0.0  1.0  0.0  0.0  0.0  0.0  0.0  0.0  0.0 ...   0.0  1.0  0.0  0.0   \n",
       "3  0.0  0.0  0.0  0.0  0.0  0.0  0.0  0.0  0.0  0.0 ...   0.0  0.0  0.0  0.0   \n",
       "4  0.0  0.0  0.0  0.0  0.0  0.0  0.0  0.0  0.0  0.0 ...   0.0  0.0  0.0  0.0   \n",
       "\n",
       "   9-1  9-2  9-3  9-4  9-5  9-6  \n",
       "0  0.0  0.0  0.0  1.0  2.0  4.0  \n",
       "1  0.0  0.0  0.0  0.0  0.0  0.0  \n",
       "2  0.0  1.0  0.0  0.0  1.0  0.0  \n",
       "3  0.0  0.0  0.0  0.0  0.0  0.0  \n",
       "4  0.0  0.0  0.0  0.0  0.0  0.0  \n",
       "\n",
       "[5 rows x 168 columns]"
      ]
     },
     "execution_count": 47,
     "metadata": {},
     "output_type": "execute_result"
    }
   ],
   "source": [
    "yelp_training_set_checkin_info.fillna(0, inplace=True)\n",
    "yelp_training_set_checkin_info.head()\n"
   ]
  },
  {
   "cell_type": "code",
   "execution_count": 48,
   "metadata": {
    "collapsed": true
   },
   "outputs": [],
   "source": [
    "yelp_training_set_checkin_info.columns\n",
    "yelp_training_set_checkin_info['total_number_of_checkins']=yelp_training_set_checkin_info.apply(sum, axis=1)"
   ]
  },
  {
   "cell_type": "markdown",
   "metadata": {},
   "source": [
    "Distribution of the total number of checkins:"
   ]
  },
  {
   "cell_type": "markdown",
   "metadata": {},
   "source": [
    "On average, a business has 94 checkins. Half of the businesses has up to 30 checkins. 75% of the business have up to 91 checkins. There are outliers. The maximum number of the checkins a business gets is 22,977."
   ]
  },
  {
   "cell_type": "code",
   "execution_count": 49,
   "metadata": {},
   "outputs": [
    {
     "data": {
      "text/plain": [
       "count     8282.000000\n",
       "mean        94.299928\n",
       "std        314.256965\n",
       "min          3.000000\n",
       "25%         11.000000\n",
       "50%         30.000000\n",
       "75%         91.000000\n",
       "max      22977.000000\n",
       "Name: total_number_of_checkins, dtype: float64"
      ]
     },
     "execution_count": 49,
     "metadata": {},
     "output_type": "execute_result"
    }
   ],
   "source": [
    "yelp_training_set_checkin_info['total_number_of_checkins'].describe()"
   ]
  },
  {
   "cell_type": "code",
   "execution_count": 50,
   "metadata": {},
   "outputs": [
    {
     "data": {
      "text/plain": [
       "1037.070823659003"
      ]
     },
     "execution_count": 50,
     "metadata": {},
     "output_type": "execute_result"
    }
   ],
   "source": [
    "yelp_training_set_checkin_info['total_number_of_checkins'].mean()+yelp_training_set_checkin_info['total_number_of_checkins'].std()*3 #1037.070823659003  "
   ]
  },
  {
   "cell_type": "code",
   "execution_count": 51,
   "metadata": {},
   "outputs": [
    {
     "data": {
      "text/plain": [
       "6047     1613.0\n",
       "7254     1637.0\n",
       "4755     1682.0\n",
       "346      1682.0\n",
       "7419     1839.0\n",
       "5962     1917.0\n",
       "326      1919.0\n",
       "7586     1994.0\n",
       "6317     2043.0\n",
       "6806     2617.0\n",
       "2978     2778.0\n",
       "2714     3279.0\n",
       "3144     3712.0\n",
       "1812     4007.0\n",
       "368     22977.0\n",
       "Name: total_number_of_checkins, dtype: float64"
      ]
     },
     "execution_count": 51,
     "metadata": {},
     "output_type": "execute_result"
    }
   ],
   "source": [
    "yelp_training_set_checkin_info.loc[yelp_training_set_checkin_info['total_number_of_checkins']>1037.070823659003,'total_number_of_checkins'].sort_values()[-15:]"
   ]
  },
  {
   "cell_type": "markdown",
   "metadata": {},
   "source": [
    "Exploratory analysis on the final analytics dataset: yelp_data_final_update"
   ]
  },
  {
   "cell_type": "code",
   "execution_count": 3,
   "metadata": {},
   "outputs": [],
   "source": [
    "#Import the data from the file:\n",
    "yelp_review_votes=pd.read_csv(\"/Users/yuka/Desktop/DataScience/Yelp Project/yelp_review_votes_master_data.csv\", encoding='utf-8-sig')\n",
    "yelp_data_final=pd.read_csv(\"/Users/yuka/Desktop/DataScience/Yelp Project/yelp_data_final_master_data.csv\", encoding='utf-8-sig')"
   ]
  },
  {
   "cell_type": "markdown",
   "metadata": {},
   "source": [
    "There are 2 null values for for text colmun. So we need to drop the rows with 'NULL' text"
   ]
  },
  {
   "cell_type": "code",
   "execution_count": 8,
   "metadata": {
    "collapsed": true
   },
   "outputs": [],
   "source": [
    "yelp_data_final_update=yelp_data_final"
   ]
  },
  {
   "cell_type": "code",
   "execution_count": 9,
   "metadata": {},
   "outputs": [
    {
     "data": {
      "text/plain": [
       "98719     NaN\n",
       "104967    NaN\n",
       "Name: text, dtype: object"
      ]
     },
     "execution_count": 9,
     "metadata": {},
     "output_type": "execute_result"
    }
   ],
   "source": [
    "yelp_data_final_update.loc[yelp_data_final_update.text.isnull(),'text']"
   ]
  },
  {
   "cell_type": "code",
   "execution_count": 10,
   "metadata": {},
   "outputs": [],
   "source": [
    "yelp_data_final_update=yelp_data_final_update.loc[yelp_data_final_update.text.isnull()==False,]\n",
    "yelp_data_final_update = yelp_data_final_update.drop('Unnamed: 0', 1)"
   ]
  },
  {
   "cell_type": "code",
   "execution_count": 11,
   "metadata": {},
   "outputs": [
    {
     "data": {
      "text/plain": [
       "200471"
      ]
     },
     "execution_count": 11,
     "metadata": {},
     "output_type": "execute_result"
    }
   ],
   "source": [
    "len(yelp_data_final_update) \n",
    "\n"
   ]
  },
  {
   "cell_type": "markdown",
   "metadata": {},
   "source": [
    "Get the number of unique values in each column for yelp_data_final:"
   ]
  },
  {
   "cell_type": "code",
   "execution_count": 61,
   "metadata": {},
   "outputs": [
    {
     "name": "stdout",
     "output_type": "stream",
     "text": [
      "business_id         :    8281 uniques\n",
      "checkin_info        :    8281 uniques\n",
      "business categories :    1587 uniques\n",
      "business city       :      59 uniques\n",
      "full_address        :    7537 uniques\n",
      "latitude            :    6766 uniques\n",
      "longitude           :    6775 uniques\n",
      "business name       :    5497 uniques\n",
      "neighborhoods       :       1 uniques\n",
      "open                :       2 uniques\n",
      "business review_count:     293 uniques\n",
      "business stars      :       9 uniques\n",
      "business state      :       2 uniques\n",
      "review date         :    2484 uniques\n",
      "review_id           :  200471 uniques\n",
      "text                :  200297 uniques\n",
      "user_id             :   41005 uniques\n",
      "review votes        :    2382 uniques\n",
      "user average stars  :     329 uniques\n",
      "user_name           :    7968 uniques\n",
      "user review_count   :     848 uniques\n",
      "user_votes          :   12552 uniques\n",
      "cool                :      51 uniques\n",
      "funny               :      49 uniques\n",
      "useful              :      50 uniques\n",
      "Review_category_useful_notuseful:       2 uniques\n",
      "Review_category_funny_notfunny:       2 uniques\n",
      "Review_category_cool_notcool:       2 uniques\n",
      "Review_category_coolest_funniest_mostuseful:       6 uniques\n",
      "total_review_votes_count:     107 uniques\n",
      "total_review_votes_count_grouping:       8 uniques\n"
     ]
    }
   ],
   "source": [
    "for col in yelp_data_final_update:\n",
    "    print (\"%-20s: %7d uniques\" % (col, yelp_data_final_update[col].nunique()))"
   ]
  },
  {
   "cell_type": "markdown",
   "metadata": {},
   "source": [
    "Based on the data that is provided and transformed, below is the data dictonary for the variables I'm probably going to use for the analysis:"
   ]
  },
  {
   "cell_type": "markdown",
   "metadata": {},
   "source": [
    "Variable | Description | Type of Variable | Comment\n",
    "---| ---| ---| ---|\n",
    "business_id |unique identifier for the business. | text string | Overall 8281 business in the dataset\n",
    "business categories | Categories of the business | categorical | Overall 1587 business categories. Example value:['Delis', 'Restaurants']\n",
    "business city  | The city where the business is located | categorical |  59 unque cities. Example value: Youngtown\n",
    "latitude | latitude of the business | continuous | |\n",
    "longitude| longitude of the business| continuous | |\n",
    "business name | Name of the business| categorical| Overall 5497 unique business names, business name to business id is one to many relationship\n",
    "open | whether the business is open or closed| categorical| two unique values: True/False\n",
    "business review_count | # of reviews a business has got so far | continuous||\n",
    "business stars  | # stars a business has got | categorical| 1 ~ 5|\n",
    "review date | the date when the review was posted | date ||\n",
    "review_id | the id of the reviews | text string | Overall 200471 unique reviews |\n",
    "text | text of the reviews | text string | Overall 200297 unique review texts|\n",
    "user_id | User id |text string | Overall 41005 users |\n",
    "user average stars | the Average Star user has got | categorical| 0  ~ 5 |\n",
    "user review_count | # of reviews user has posted on Yelp | continuous | |\n",
    "user_votes | # of votes user has got for his/her reviews|continuous ||\n",
    "Review_category_useful_notuseful | indicate whether the review is useful or not | categorical| 2 unique groups: useful vs not useful|\n",
    "Review_category_funny_notfunny | indicate whether the review is funny or not | categorical| 2 unique groups: funny vs not funny|\n",
    "Review_category_cool_notcool| indicate whether the review is cool or not|categorical| 2 unique groups: cool vs not cool|\n",
    "Review_category_coolest_funniest_mostuseful | indicate whether the review is relatively useful, cool, funny or neutral|categorical|  6 uniques groupings: funnies, coolest, most useful, neutral, no categorization(the last one will be ignored in the analysis)|\n",
    "total_review_votes_count| total # of votes for the review|continuous||\n",
    "total_review_votes_count_grouping| tier of the votes based on the vote volume | continuous| 8 unique tiers|\n",
    "\n",
    "\n",
    "\n"
   ]
  },
  {
   "cell_type": "markdown",
   "metadata": {},
   "source": [
    "Exploratory Analysis: Review distribution"
   ]
  },
  {
   "cell_type": "markdown",
   "metadata": {},
   "source": [
    "There are overall 200,471 reviews in the dataset. The average review vote is around 3. 75% of the reviews have up to 3 review votes."
   ]
  },
  {
   "cell_type": "code",
   "execution_count": 69,
   "metadata": {},
   "outputs": [
    {
     "data": {
      "text/plain": [
       "count    200471.000000\n",
       "mean          2.954572\n",
       "std           5.631105\n",
       "min           0.000000\n",
       "25%           0.000000\n",
       "50%           1.000000\n",
       "75%           3.000000\n",
       "max         159.000000\n",
       "Name: total_review_votes_count, dtype: float64"
      ]
     },
     "execution_count": 69,
     "metadata": {},
     "output_type": "execute_result"
    }
   ],
   "source": [
    "yelp_data_final_update['total_review_votes_count'].describe()"
   ]
  },
  {
   "cell_type": "code",
   "execution_count": 70,
   "metadata": {},
   "outputs": [
    {
     "data": {
      "text/plain": [
       "19.847885908532277"
      ]
     },
     "execution_count": 70,
     "metadata": {},
     "output_type": "execute_result"
    }
   ],
   "source": [
    "yelp_data_final_update['total_review_votes_count'].mean() + yelp_data_final_update['total_review_votes_count'].std()*3"
   ]
  },
  {
   "cell_type": "markdown",
   "metadata": {},
   "source": [
    "Below are  some examples of the outliers for the total_review_votes_count:"
   ]
  },
  {
   "cell_type": "code",
   "execution_count": 71,
   "metadata": {},
   "outputs": [
    {
     "data": {
      "text/plain": [
       "159485     98\n",
       "87338      99\n",
       "47450     100\n",
       "168681    100\n",
       "1654      102\n",
       "120625    110\n",
       "199493    112\n",
       "51588     114\n",
       "26039     115\n",
       "151851    117\n",
       "127819    127\n",
       "147297    132\n",
       "163332    132\n",
       "30753     133\n",
       "30400     133\n",
       "160737    134\n",
       "78606     135\n",
       "22696     135\n",
       "103951    147\n",
       "131561    159\n",
       "Name: total_review_votes_count, dtype: int64"
      ]
     },
     "execution_count": 71,
     "metadata": {},
     "output_type": "execute_result"
    }
   ],
   "source": [
    "yelp_data_final_update.loc[yelp_data_final_update['total_review_votes_count']>19.847885908532277, 'total_review_votes_count'].sort_values()[-20:]"
   ]
  },
  {
   "cell_type": "code",
   "execution_count": 82,
   "metadata": {},
   "outputs": [
    {
     "data": {
      "text/html": [
       "<div>\n",
       "<style>\n",
       "    .dataframe thead tr:only-child th {\n",
       "        text-align: right;\n",
       "    }\n",
       "\n",
       "    .dataframe thead th {\n",
       "        text-align: left;\n",
       "    }\n",
       "\n",
       "    .dataframe tbody tr th {\n",
       "        vertical-align: top;\n",
       "    }\n",
       "</style>\n",
       "<table border=\"1\" class=\"dataframe\">\n",
       "  <thead>\n",
       "    <tr style=\"text-align: right;\">\n",
       "      <th></th>\n",
       "      <th>0-0</th>\n",
       "      <th>0-1</th>\n",
       "      <th>0-2</th>\n",
       "      <th>0-3</th>\n",
       "      <th>0-4</th>\n",
       "      <th>0-5</th>\n",
       "      <th>0-6</th>\n",
       "      <th>1-0</th>\n",
       "      <th>1-1</th>\n",
       "      <th>1-2</th>\n",
       "      <th>...</th>\n",
       "      <th>8-5</th>\n",
       "      <th>8-6</th>\n",
       "      <th>9-0</th>\n",
       "      <th>9-1</th>\n",
       "      <th>9-2</th>\n",
       "      <th>9-3</th>\n",
       "      <th>9-4</th>\n",
       "      <th>9-5</th>\n",
       "      <th>9-6</th>\n",
       "      <th>total_number_of_checkins</th>\n",
       "    </tr>\n",
       "  </thead>\n",
       "  <tbody>\n",
       "    <tr>\n",
       "      <th>0</th>\n",
       "      <td>0.0</td>\n",
       "      <td>0.0</td>\n",
       "      <td>0.0</td>\n",
       "      <td>0.0</td>\n",
       "      <td>0.0</td>\n",
       "      <td>1.0</td>\n",
       "      <td>0.0</td>\n",
       "      <td>0.0</td>\n",
       "      <td>0.0</td>\n",
       "      <td>0.0</td>\n",
       "      <td>...</td>\n",
       "      <td>1.0</td>\n",
       "      <td>0.0</td>\n",
       "      <td>0.0</td>\n",
       "      <td>0.0</td>\n",
       "      <td>0.0</td>\n",
       "      <td>0.0</td>\n",
       "      <td>1.0</td>\n",
       "      <td>2.0</td>\n",
       "      <td>4.0</td>\n",
       "      <td>223.0</td>\n",
       "    </tr>\n",
       "    <tr>\n",
       "      <th>1</th>\n",
       "      <td>3.0</td>\n",
       "      <td>0.0</td>\n",
       "      <td>0.0</td>\n",
       "      <td>0.0</td>\n",
       "      <td>0.0</td>\n",
       "      <td>1.0</td>\n",
       "      <td>0.0</td>\n",
       "      <td>0.0</td>\n",
       "      <td>0.0</td>\n",
       "      <td>0.0</td>\n",
       "      <td>...</td>\n",
       "      <td>0.0</td>\n",
       "      <td>0.0</td>\n",
       "      <td>0.0</td>\n",
       "      <td>0.0</td>\n",
       "      <td>0.0</td>\n",
       "      <td>0.0</td>\n",
       "      <td>0.0</td>\n",
       "      <td>0.0</td>\n",
       "      <td>0.0</td>\n",
       "      <td>29.0</td>\n",
       "    </tr>\n",
       "    <tr>\n",
       "      <th>2</th>\n",
       "      <td>0.0</td>\n",
       "      <td>0.0</td>\n",
       "      <td>1.0</td>\n",
       "      <td>0.0</td>\n",
       "      <td>0.0</td>\n",
       "      <td>0.0</td>\n",
       "      <td>0.0</td>\n",
       "      <td>0.0</td>\n",
       "      <td>0.0</td>\n",
       "      <td>0.0</td>\n",
       "      <td>...</td>\n",
       "      <td>1.0</td>\n",
       "      <td>0.0</td>\n",
       "      <td>0.0</td>\n",
       "      <td>0.0</td>\n",
       "      <td>1.0</td>\n",
       "      <td>0.0</td>\n",
       "      <td>0.0</td>\n",
       "      <td>1.0</td>\n",
       "      <td>0.0</td>\n",
       "      <td>45.0</td>\n",
       "    </tr>\n",
       "    <tr>\n",
       "      <th>3</th>\n",
       "      <td>0.0</td>\n",
       "      <td>0.0</td>\n",
       "      <td>0.0</td>\n",
       "      <td>0.0</td>\n",
       "      <td>0.0</td>\n",
       "      <td>0.0</td>\n",
       "      <td>0.0</td>\n",
       "      <td>0.0</td>\n",
       "      <td>0.0</td>\n",
       "      <td>0.0</td>\n",
       "      <td>...</td>\n",
       "      <td>0.0</td>\n",
       "      <td>0.0</td>\n",
       "      <td>0.0</td>\n",
       "      <td>0.0</td>\n",
       "      <td>0.0</td>\n",
       "      <td>0.0</td>\n",
       "      <td>0.0</td>\n",
       "      <td>0.0</td>\n",
       "      <td>0.0</td>\n",
       "      <td>21.0</td>\n",
       "    </tr>\n",
       "    <tr>\n",
       "      <th>4</th>\n",
       "      <td>0.0</td>\n",
       "      <td>0.0</td>\n",
       "      <td>0.0</td>\n",
       "      <td>0.0</td>\n",
       "      <td>0.0</td>\n",
       "      <td>0.0</td>\n",
       "      <td>0.0</td>\n",
       "      <td>0.0</td>\n",
       "      <td>0.0</td>\n",
       "      <td>0.0</td>\n",
       "      <td>...</td>\n",
       "      <td>0.0</td>\n",
       "      <td>0.0</td>\n",
       "      <td>0.0</td>\n",
       "      <td>0.0</td>\n",
       "      <td>0.0</td>\n",
       "      <td>0.0</td>\n",
       "      <td>0.0</td>\n",
       "      <td>0.0</td>\n",
       "      <td>0.0</td>\n",
       "      <td>6.0</td>\n",
       "    </tr>\n",
       "  </tbody>\n",
       "</table>\n",
       "<p>5 rows × 169 columns</p>\n",
       "</div>"
      ],
      "text/plain": [
       "   0-0  0-1  0-2  0-3  0-4  0-5  0-6  1-0  1-1  1-2            ...             \\\n",
       "0  0.0  0.0  0.0  0.0  0.0  1.0  0.0  0.0  0.0  0.0            ...              \n",
       "1  3.0  0.0  0.0  0.0  0.0  1.0  0.0  0.0  0.0  0.0            ...              \n",
       "2  0.0  0.0  1.0  0.0  0.0  0.0  0.0  0.0  0.0  0.0            ...              \n",
       "3  0.0  0.0  0.0  0.0  0.0  0.0  0.0  0.0  0.0  0.0            ...              \n",
       "4  0.0  0.0  0.0  0.0  0.0  0.0  0.0  0.0  0.0  0.0            ...              \n",
       "\n",
       "   8-5  8-6  9-0  9-1  9-2  9-3  9-4  9-5  9-6  total_number_of_checkins  \n",
       "0  1.0  0.0  0.0  0.0  0.0  0.0  1.0  2.0  4.0                     223.0  \n",
       "1  0.0  0.0  0.0  0.0  0.0  0.0  0.0  0.0  0.0                      29.0  \n",
       "2  1.0  0.0  0.0  0.0  1.0  0.0  0.0  1.0  0.0                      45.0  \n",
       "3  0.0  0.0  0.0  0.0  0.0  0.0  0.0  0.0  0.0                      21.0  \n",
       "4  0.0  0.0  0.0  0.0  0.0  0.0  0.0  0.0  0.0                       6.0  \n",
       "\n",
       "[5 rows x 169 columns]"
      ]
     },
     "execution_count": 82,
     "metadata": {},
     "output_type": "execute_result"
    }
   ],
   "source": [
    "yelp_training_set_checkin_info.head()\n"
   ]
  },
  {
   "cell_type": "markdown",
   "metadata": {},
   "source": [
    "Rename the columns for the yelp_training_set_user_votes"
   ]
  },
  {
   "cell_type": "code",
   "execution_count": 84,
   "metadata": {},
   "outputs": [],
   "source": [
    "yelp_training_set_user_votes.head()\n",
    "yelp_training_set_user_votes.rename(columns={'funny': 'user_level_votes_funny', 'cool': 'user_level_votes_cool','useful': 'user_level_votes_useful', 'total_user_review_votes':'total_user_level_review_votes'}, inplace=True)"
   ]
  },
  {
   "cell_type": "code",
   "execution_count": 85,
   "metadata": {},
   "outputs": [
    {
     "data": {
      "text/html": [
       "<div>\n",
       "<style>\n",
       "    .dataframe thead tr:only-child th {\n",
       "        text-align: right;\n",
       "    }\n",
       "\n",
       "    .dataframe thead th {\n",
       "        text-align: left;\n",
       "    }\n",
       "\n",
       "    .dataframe tbody tr th {\n",
       "        vertical-align: top;\n",
       "    }\n",
       "</style>\n",
       "<table border=\"1\" class=\"dataframe\">\n",
       "  <thead>\n",
       "    <tr style=\"text-align: right;\">\n",
       "      <th></th>\n",
       "      <th>user_level_votes_cool</th>\n",
       "      <th>user_level_votes_funny</th>\n",
       "      <th>user_level_votes_useful</th>\n",
       "      <th>total_user_level_review_votes</th>\n",
       "    </tr>\n",
       "  </thead>\n",
       "  <tbody>\n",
       "    <tr>\n",
       "      <th>0</th>\n",
       "      <td>0</td>\n",
       "      <td>0</td>\n",
       "      <td>7</td>\n",
       "      <td>7</td>\n",
       "    </tr>\n",
       "    <tr>\n",
       "      <th>1</th>\n",
       "      <td>0</td>\n",
       "      <td>0</td>\n",
       "      <td>1</td>\n",
       "      <td>1</td>\n",
       "    </tr>\n",
       "    <tr>\n",
       "      <th>2</th>\n",
       "      <td>0</td>\n",
       "      <td>0</td>\n",
       "      <td>1</td>\n",
       "      <td>1</td>\n",
       "    </tr>\n",
       "    <tr>\n",
       "      <th>3</th>\n",
       "      <td>0</td>\n",
       "      <td>0</td>\n",
       "      <td>2</td>\n",
       "      <td>2</td>\n",
       "    </tr>\n",
       "    <tr>\n",
       "      <th>4</th>\n",
       "      <td>0</td>\n",
       "      <td>0</td>\n",
       "      <td>0</td>\n",
       "      <td>0</td>\n",
       "    </tr>\n",
       "  </tbody>\n",
       "</table>\n",
       "</div>"
      ],
      "text/plain": [
       "   user_level_votes_cool  user_level_votes_funny  user_level_votes_useful  \\\n",
       "0                      0                       0                        7   \n",
       "1                      0                       0                        1   \n",
       "2                      0                       0                        1   \n",
       "3                      0                       0                        2   \n",
       "4                      0                       0                        0   \n",
       "\n",
       "   total_user_level_review_votes  \n",
       "0                              7  \n",
       "1                              1  \n",
       "2                              1  \n",
       "3                              2  \n",
       "4                              0  "
      ]
     },
     "execution_count": 85,
     "metadata": {},
     "output_type": "execute_result"
    }
   ],
   "source": [
    "yelp_training_set_user_votes.head()"
   ]
  },
  {
   "cell_type": "code",
   "execution_count": 86,
   "metadata": {},
   "outputs": [
    {
     "data": {
      "text/html": [
       "<div>\n",
       "<style>\n",
       "    .dataframe thead tr:only-child th {\n",
       "        text-align: right;\n",
       "    }\n",
       "\n",
       "    .dataframe thead th {\n",
       "        text-align: left;\n",
       "    }\n",
       "\n",
       "    .dataframe tbody tr th {\n",
       "        vertical-align: top;\n",
       "    }\n",
       "</style>\n",
       "<table border=\"1\" class=\"dataframe\">\n",
       "  <thead>\n",
       "    <tr style=\"text-align: right;\">\n",
       "      <th></th>\n",
       "      <th>0-0</th>\n",
       "      <th>0-1</th>\n",
       "      <th>0-2</th>\n",
       "      <th>0-3</th>\n",
       "      <th>0-4</th>\n",
       "      <th>0-5</th>\n",
       "      <th>0-6</th>\n",
       "      <th>1-0</th>\n",
       "      <th>1-1</th>\n",
       "      <th>1-2</th>\n",
       "      <th>...</th>\n",
       "      <th>8-5</th>\n",
       "      <th>8-6</th>\n",
       "      <th>9-0</th>\n",
       "      <th>9-1</th>\n",
       "      <th>9-2</th>\n",
       "      <th>9-3</th>\n",
       "      <th>9-4</th>\n",
       "      <th>9-5</th>\n",
       "      <th>9-6</th>\n",
       "      <th>total_number_of_checkins</th>\n",
       "    </tr>\n",
       "  </thead>\n",
       "  <tbody>\n",
       "    <tr>\n",
       "      <th>0</th>\n",
       "      <td>0.0</td>\n",
       "      <td>0.0</td>\n",
       "      <td>0.0</td>\n",
       "      <td>0.0</td>\n",
       "      <td>0.0</td>\n",
       "      <td>1.0</td>\n",
       "      <td>0.0</td>\n",
       "      <td>0.0</td>\n",
       "      <td>0.0</td>\n",
       "      <td>0.0</td>\n",
       "      <td>...</td>\n",
       "      <td>1.0</td>\n",
       "      <td>0.0</td>\n",
       "      <td>0.0</td>\n",
       "      <td>0.0</td>\n",
       "      <td>0.0</td>\n",
       "      <td>0.0</td>\n",
       "      <td>1.0</td>\n",
       "      <td>2.0</td>\n",
       "      <td>4.0</td>\n",
       "      <td>223.0</td>\n",
       "    </tr>\n",
       "    <tr>\n",
       "      <th>1</th>\n",
       "      <td>3.0</td>\n",
       "      <td>0.0</td>\n",
       "      <td>0.0</td>\n",
       "      <td>0.0</td>\n",
       "      <td>0.0</td>\n",
       "      <td>1.0</td>\n",
       "      <td>0.0</td>\n",
       "      <td>0.0</td>\n",
       "      <td>0.0</td>\n",
       "      <td>0.0</td>\n",
       "      <td>...</td>\n",
       "      <td>0.0</td>\n",
       "      <td>0.0</td>\n",
       "      <td>0.0</td>\n",
       "      <td>0.0</td>\n",
       "      <td>0.0</td>\n",
       "      <td>0.0</td>\n",
       "      <td>0.0</td>\n",
       "      <td>0.0</td>\n",
       "      <td>0.0</td>\n",
       "      <td>29.0</td>\n",
       "    </tr>\n",
       "    <tr>\n",
       "      <th>2</th>\n",
       "      <td>0.0</td>\n",
       "      <td>0.0</td>\n",
       "      <td>1.0</td>\n",
       "      <td>0.0</td>\n",
       "      <td>0.0</td>\n",
       "      <td>0.0</td>\n",
       "      <td>0.0</td>\n",
       "      <td>0.0</td>\n",
       "      <td>0.0</td>\n",
       "      <td>0.0</td>\n",
       "      <td>...</td>\n",
       "      <td>1.0</td>\n",
       "      <td>0.0</td>\n",
       "      <td>0.0</td>\n",
       "      <td>0.0</td>\n",
       "      <td>1.0</td>\n",
       "      <td>0.0</td>\n",
       "      <td>0.0</td>\n",
       "      <td>1.0</td>\n",
       "      <td>0.0</td>\n",
       "      <td>45.0</td>\n",
       "    </tr>\n",
       "    <tr>\n",
       "      <th>3</th>\n",
       "      <td>0.0</td>\n",
       "      <td>0.0</td>\n",
       "      <td>0.0</td>\n",
       "      <td>0.0</td>\n",
       "      <td>0.0</td>\n",
       "      <td>0.0</td>\n",
       "      <td>0.0</td>\n",
       "      <td>0.0</td>\n",
       "      <td>0.0</td>\n",
       "      <td>0.0</td>\n",
       "      <td>...</td>\n",
       "      <td>0.0</td>\n",
       "      <td>0.0</td>\n",
       "      <td>0.0</td>\n",
       "      <td>0.0</td>\n",
       "      <td>0.0</td>\n",
       "      <td>0.0</td>\n",
       "      <td>0.0</td>\n",
       "      <td>0.0</td>\n",
       "      <td>0.0</td>\n",
       "      <td>21.0</td>\n",
       "    </tr>\n",
       "    <tr>\n",
       "      <th>4</th>\n",
       "      <td>0.0</td>\n",
       "      <td>0.0</td>\n",
       "      <td>0.0</td>\n",
       "      <td>0.0</td>\n",
       "      <td>0.0</td>\n",
       "      <td>0.0</td>\n",
       "      <td>0.0</td>\n",
       "      <td>0.0</td>\n",
       "      <td>0.0</td>\n",
       "      <td>0.0</td>\n",
       "      <td>...</td>\n",
       "      <td>0.0</td>\n",
       "      <td>0.0</td>\n",
       "      <td>0.0</td>\n",
       "      <td>0.0</td>\n",
       "      <td>0.0</td>\n",
       "      <td>0.0</td>\n",
       "      <td>0.0</td>\n",
       "      <td>0.0</td>\n",
       "      <td>0.0</td>\n",
       "      <td>6.0</td>\n",
       "    </tr>\n",
       "  </tbody>\n",
       "</table>\n",
       "<p>5 rows × 169 columns</p>\n",
       "</div>"
      ],
      "text/plain": [
       "   0-0  0-1  0-2  0-3  0-4  0-5  0-6  1-0  1-1  1-2            ...             \\\n",
       "0  0.0  0.0  0.0  0.0  0.0  1.0  0.0  0.0  0.0  0.0            ...              \n",
       "1  3.0  0.0  0.0  0.0  0.0  1.0  0.0  0.0  0.0  0.0            ...              \n",
       "2  0.0  0.0  1.0  0.0  0.0  0.0  0.0  0.0  0.0  0.0            ...              \n",
       "3  0.0  0.0  0.0  0.0  0.0  0.0  0.0  0.0  0.0  0.0            ...              \n",
       "4  0.0  0.0  0.0  0.0  0.0  0.0  0.0  0.0  0.0  0.0            ...              \n",
       "\n",
       "   8-5  8-6  9-0  9-1  9-2  9-3  9-4  9-5  9-6  total_number_of_checkins  \n",
       "0  1.0  0.0  0.0  0.0  0.0  0.0  1.0  2.0  4.0                     223.0  \n",
       "1  0.0  0.0  0.0  0.0  0.0  0.0  0.0  0.0  0.0                      29.0  \n",
       "2  1.0  0.0  0.0  0.0  1.0  0.0  0.0  1.0  0.0                      45.0  \n",
       "3  0.0  0.0  0.0  0.0  0.0  0.0  0.0  0.0  0.0                      21.0  \n",
       "4  0.0  0.0  0.0  0.0  0.0  0.0  0.0  0.0  0.0                       6.0  \n",
       "\n",
       "[5 rows x 169 columns]"
      ]
     },
     "execution_count": 86,
     "metadata": {},
     "output_type": "execute_result"
    }
   ],
   "source": [
    "yelp_training_set_checkin_info.head()"
   ]
  },
  {
   "cell_type": "markdown",
   "metadata": {},
   "source": [
    "Join the yelp_data_final_update with the check in info data:"
   ]
  },
  {
   "cell_type": "code",
   "execution_count": 12,
   "metadata": {},
   "outputs": [
    {
     "ename": "NameError",
     "evalue": "name 'yelp_training_set_checkin_info' is not defined",
     "output_type": "error",
     "traceback": [
      "\u001b[0;31m---------------------------------------------------------------------------\u001b[0m",
      "\u001b[0;31mNameError\u001b[0m                                 Traceback (most recent call last)",
      "\u001b[0;32m<ipython-input-12-77b3d342ba00>\u001b[0m in \u001b[0;36m<module>\u001b[0;34m()\u001b[0m\n\u001b[0;32m----> 1\u001b[0;31m \u001b[0myelp_data_final_update\u001b[0m\u001b[0;34m=\u001b[0m\u001b[0myelp_data_final_update\u001b[0m\u001b[0;34m.\u001b[0m\u001b[0mjoin\u001b[0m\u001b[0;34m(\u001b[0m\u001b[0myelp_training_set_checkin_info\u001b[0m\u001b[0;34m[\u001b[0m\u001b[0;34m'total_number_of_checkins'\u001b[0m\u001b[0;34m]\u001b[0m\u001b[0;34m)\u001b[0m\u001b[0;34m\u001b[0m\u001b[0m\n\u001b[0m",
      "\u001b[0;31mNameError\u001b[0m: name 'yelp_training_set_checkin_info' is not defined"
     ]
    }
   ],
   "source": [
    "yelp_data_final_update=yelp_data_final_update.join(yelp_training_set_checkin_info['total_number_of_checkins'])"
   ]
  },
  {
   "cell_type": "markdown",
   "metadata": {},
   "source": [
    "Join the yelp_data_final_update with the user level review votes data:"
   ]
  },
  {
   "cell_type": "code",
   "execution_count": 99,
   "metadata": {
    "collapsed": true
   },
   "outputs": [],
   "source": [
    "yelp_data_final_update=yelp_data_final_update.join(yelp_training_set_user_votes)"
   ]
  },
  {
   "cell_type": "markdown",
   "metadata": {},
   "source": [
    "Discover the correlation between the attributes in the analytical dataset yelp_data_final_update:"
   ]
  },
  {
   "cell_type": "code",
   "execution_count": 100,
   "metadata": {},
   "outputs": [
    {
     "data": {
      "text/html": [
       "<div>\n",
       "<style>\n",
       "    .dataframe thead tr:only-child th {\n",
       "        text-align: right;\n",
       "    }\n",
       "\n",
       "    .dataframe thead th {\n",
       "        text-align: left;\n",
       "    }\n",
       "\n",
       "    .dataframe tbody tr th {\n",
       "        vertical-align: top;\n",
       "    }\n",
       "</style>\n",
       "<table border=\"1\" class=\"dataframe\">\n",
       "  <thead>\n",
       "    <tr style=\"text-align: right;\">\n",
       "      <th></th>\n",
       "      <th>latitude</th>\n",
       "      <th>longitude</th>\n",
       "      <th>open</th>\n",
       "      <th>business review_count</th>\n",
       "      <th>business stars</th>\n",
       "      <th>user average stars</th>\n",
       "      <th>user review_count</th>\n",
       "      <th>cool</th>\n",
       "      <th>funny</th>\n",
       "      <th>useful</th>\n",
       "      <th>total_review_votes_count</th>\n",
       "      <th>total_review_votes_count_grouping</th>\n",
       "      <th>total_number_of_checkins</th>\n",
       "      <th>user_level_votes_cool</th>\n",
       "      <th>user_level_votes_funny</th>\n",
       "      <th>user_level_votes_useful</th>\n",
       "      <th>total_user_level_review_votes</th>\n",
       "    </tr>\n",
       "  </thead>\n",
       "  <tbody>\n",
       "    <tr>\n",
       "      <th>latitude</th>\n",
       "      <td>1.000000</td>\n",
       "      <td>-0.383586</td>\n",
       "      <td>-0.024668</td>\n",
       "      <td>-0.046309</td>\n",
       "      <td>0.001624</td>\n",
       "      <td>0.002661</td>\n",
       "      <td>0.022437</td>\n",
       "      <td>0.018803</td>\n",
       "      <td>0.016236</td>\n",
       "      <td>0.024616</td>\n",
       "      <td>0.021616</td>\n",
       "      <td>0.024734</td>\n",
       "      <td>-0.021593</td>\n",
       "      <td>0.000105</td>\n",
       "      <td>0.001275</td>\n",
       "      <td>0.000925</td>\n",
       "      <td>0.000759</td>\n",
       "    </tr>\n",
       "    <tr>\n",
       "      <th>longitude</th>\n",
       "      <td>-0.383586</td>\n",
       "      <td>1.000000</td>\n",
       "      <td>-0.001355</td>\n",
       "      <td>-0.023495</td>\n",
       "      <td>0.016398</td>\n",
       "      <td>0.012156</td>\n",
       "      <td>0.001046</td>\n",
       "      <td>-0.033259</td>\n",
       "      <td>-0.031163</td>\n",
       "      <td>-0.042140</td>\n",
       "      <td>-0.038493</td>\n",
       "      <td>-0.045450</td>\n",
       "      <td>0.017397</td>\n",
       "      <td>0.000357</td>\n",
       "      <td>-0.000172</td>\n",
       "      <td>-0.000002</td>\n",
       "      <td>0.000069</td>\n",
       "    </tr>\n",
       "    <tr>\n",
       "      <th>open</th>\n",
       "      <td>-0.024668</td>\n",
       "      <td>-0.001355</td>\n",
       "      <td>1.000000</td>\n",
       "      <td>0.103021</td>\n",
       "      <td>0.092393</td>\n",
       "      <td>0.005211</td>\n",
       "      <td>-0.003802</td>\n",
       "      <td>-0.017396</td>\n",
       "      <td>-0.014368</td>\n",
       "      <td>-0.017367</td>\n",
       "      <td>-0.017641</td>\n",
       "      <td>-0.017333</td>\n",
       "      <td>0.003493</td>\n",
       "      <td>-0.012987</td>\n",
       "      <td>-0.011618</td>\n",
       "      <td>-0.013000</td>\n",
       "      <td>-0.012705</td>\n",
       "    </tr>\n",
       "    <tr>\n",
       "      <th>business review_count</th>\n",
       "      <td>-0.046309</td>\n",
       "      <td>-0.023495</td>\n",
       "      <td>0.103021</td>\n",
       "      <td>1.000000</td>\n",
       "      <td>0.204378</td>\n",
       "      <td>0.041640</td>\n",
       "      <td>-0.011631</td>\n",
       "      <td>0.042373</td>\n",
       "      <td>0.019632</td>\n",
       "      <td>0.035480</td>\n",
       "      <td>0.035157</td>\n",
       "      <td>0.038221</td>\n",
       "      <td>-0.010759</td>\n",
       "      <td>-0.007332</td>\n",
       "      <td>-0.008745</td>\n",
       "      <td>-0.006704</td>\n",
       "      <td>-0.007552</td>\n",
       "    </tr>\n",
       "    <tr>\n",
       "      <th>business stars</th>\n",
       "      <td>0.001624</td>\n",
       "      <td>0.016398</td>\n",
       "      <td>0.092393</td>\n",
       "      <td>0.204378</td>\n",
       "      <td>1.000000</td>\n",
       "      <td>0.168398</td>\n",
       "      <td>-0.037988</td>\n",
       "      <td>0.036776</td>\n",
       "      <td>-0.022961</td>\n",
       "      <td>0.011783</td>\n",
       "      <td>0.009682</td>\n",
       "      <td>0.006534</td>\n",
       "      <td>0.015422</td>\n",
       "      <td>-0.002136</td>\n",
       "      <td>-0.001195</td>\n",
       "      <td>-0.002270</td>\n",
       "      <td>-0.001936</td>\n",
       "    </tr>\n",
       "    <tr>\n",
       "      <th>user average stars</th>\n",
       "      <td>0.002661</td>\n",
       "      <td>0.012156</td>\n",
       "      <td>0.005211</td>\n",
       "      <td>0.041640</td>\n",
       "      <td>0.168398</td>\n",
       "      <td>1.000000</td>\n",
       "      <td>-0.023009</td>\n",
       "      <td>0.023235</td>\n",
       "      <td>-0.018122</td>\n",
       "      <td>-0.006851</td>\n",
       "      <td>-0.000745</td>\n",
       "      <td>-0.008015</td>\n",
       "      <td>-0.015781</td>\n",
       "      <td>0.005502</td>\n",
       "      <td>0.006625</td>\n",
       "      <td>0.005612</td>\n",
       "      <td>0.005911</td>\n",
       "    </tr>\n",
       "    <tr>\n",
       "      <th>user review_count</th>\n",
       "      <td>0.022437</td>\n",
       "      <td>0.001046</td>\n",
       "      <td>-0.003802</td>\n",
       "      <td>-0.011631</td>\n",
       "      <td>-0.037988</td>\n",
       "      <td>-0.023009</td>\n",
       "      <td>1.000000</td>\n",
       "      <td>0.338269</td>\n",
       "      <td>0.271084</td>\n",
       "      <td>0.322750</td>\n",
       "      <td>0.334341</td>\n",
       "      <td>0.343284</td>\n",
       "      <td>-0.009176</td>\n",
       "      <td>-0.006174</td>\n",
       "      <td>-0.006367</td>\n",
       "      <td>-0.005577</td>\n",
       "      <td>-0.006047</td>\n",
       "    </tr>\n",
       "    <tr>\n",
       "      <th>cool</th>\n",
       "      <td>0.018803</td>\n",
       "      <td>-0.033259</td>\n",
       "      <td>-0.017396</td>\n",
       "      <td>0.042373</td>\n",
       "      <td>0.036776</td>\n",
       "      <td>0.023235</td>\n",
       "      <td>0.338269</td>\n",
       "      <td>1.000000</td>\n",
       "      <td>0.790660</td>\n",
       "      <td>0.877032</td>\n",
       "      <td>0.954300</td>\n",
       "      <td>0.854180</td>\n",
       "      <td>-0.006560</td>\n",
       "      <td>-0.000957</td>\n",
       "      <td>-0.000167</td>\n",
       "      <td>-0.000171</td>\n",
       "      <td>-0.000433</td>\n",
       "    </tr>\n",
       "    <tr>\n",
       "      <th>funny</th>\n",
       "      <td>0.016236</td>\n",
       "      <td>-0.031163</td>\n",
       "      <td>-0.014368</td>\n",
       "      <td>0.019632</td>\n",
       "      <td>-0.022961</td>\n",
       "      <td>-0.018122</td>\n",
       "      <td>0.271084</td>\n",
       "      <td>0.790660</td>\n",
       "      <td>1.000000</td>\n",
       "      <td>0.737725</td>\n",
       "      <td>0.896744</td>\n",
       "      <td>0.800362</td>\n",
       "      <td>-0.006759</td>\n",
       "      <td>-0.000084</td>\n",
       "      <td>0.000445</td>\n",
       "      <td>0.000703</td>\n",
       "      <td>0.000373</td>\n",
       "    </tr>\n",
       "    <tr>\n",
       "      <th>useful</th>\n",
       "      <td>0.024616</td>\n",
       "      <td>-0.042140</td>\n",
       "      <td>-0.017367</td>\n",
       "      <td>0.035480</td>\n",
       "      <td>0.011783</td>\n",
       "      <td>-0.006851</td>\n",
       "      <td>0.322750</td>\n",
       "      <td>0.877032</td>\n",
       "      <td>0.737725</td>\n",
       "      <td>1.000000</td>\n",
       "      <td>0.943061</td>\n",
       "      <td>0.894252</td>\n",
       "      <td>-0.002659</td>\n",
       "      <td>0.002167</td>\n",
       "      <td>0.003538</td>\n",
       "      <td>0.002967</td>\n",
       "      <td>0.002888</td>\n",
       "    </tr>\n",
       "    <tr>\n",
       "      <th>total_review_votes_count</th>\n",
       "      <td>0.021616</td>\n",
       "      <td>-0.038493</td>\n",
       "      <td>-0.017641</td>\n",
       "      <td>0.035157</td>\n",
       "      <td>0.009682</td>\n",
       "      <td>-0.000745</td>\n",
       "      <td>0.334341</td>\n",
       "      <td>0.954300</td>\n",
       "      <td>0.896744</td>\n",
       "      <td>0.943061</td>\n",
       "      <td>1.000000</td>\n",
       "      <td>0.914167</td>\n",
       "      <td>-0.005561</td>\n",
       "      <td>0.000497</td>\n",
       "      <td>0.001484</td>\n",
       "      <td>0.001345</td>\n",
       "      <td>0.001113</td>\n",
       "    </tr>\n",
       "    <tr>\n",
       "      <th>total_review_votes_count_grouping</th>\n",
       "      <td>0.024734</td>\n",
       "      <td>-0.045450</td>\n",
       "      <td>-0.017333</td>\n",
       "      <td>0.038221</td>\n",
       "      <td>0.006534</td>\n",
       "      <td>-0.008015</td>\n",
       "      <td>0.343284</td>\n",
       "      <td>0.854180</td>\n",
       "      <td>0.800362</td>\n",
       "      <td>0.894252</td>\n",
       "      <td>0.914167</td>\n",
       "      <td>1.000000</td>\n",
       "      <td>-0.001530</td>\n",
       "      <td>0.001196</td>\n",
       "      <td>0.002199</td>\n",
       "      <td>0.002232</td>\n",
       "      <td>0.001895</td>\n",
       "    </tr>\n",
       "    <tr>\n",
       "      <th>total_number_of_checkins</th>\n",
       "      <td>-0.021593</td>\n",
       "      <td>0.017397</td>\n",
       "      <td>0.003493</td>\n",
       "      <td>-0.010759</td>\n",
       "      <td>0.015422</td>\n",
       "      <td>-0.015781</td>\n",
       "      <td>-0.009176</td>\n",
       "      <td>-0.006560</td>\n",
       "      <td>-0.006759</td>\n",
       "      <td>-0.002659</td>\n",
       "      <td>-0.005561</td>\n",
       "      <td>-0.001530</td>\n",
       "      <td>1.000000</td>\n",
       "      <td>-0.002828</td>\n",
       "      <td>-0.001281</td>\n",
       "      <td>-0.002491</td>\n",
       "      <td>-0.002277</td>\n",
       "    </tr>\n",
       "    <tr>\n",
       "      <th>user_level_votes_cool</th>\n",
       "      <td>0.000105</td>\n",
       "      <td>0.000357</td>\n",
       "      <td>-0.012987</td>\n",
       "      <td>-0.007332</td>\n",
       "      <td>-0.002136</td>\n",
       "      <td>0.005502</td>\n",
       "      <td>-0.006174</td>\n",
       "      <td>-0.000957</td>\n",
       "      <td>-0.000084</td>\n",
       "      <td>0.002167</td>\n",
       "      <td>0.000497</td>\n",
       "      <td>0.001196</td>\n",
       "      <td>-0.002828</td>\n",
       "      <td>1.000000</td>\n",
       "      <td>0.972417</td>\n",
       "      <td>0.991527</td>\n",
       "      <td>0.996875</td>\n",
       "    </tr>\n",
       "    <tr>\n",
       "      <th>user_level_votes_funny</th>\n",
       "      <td>0.001275</td>\n",
       "      <td>-0.000172</td>\n",
       "      <td>-0.011618</td>\n",
       "      <td>-0.008745</td>\n",
       "      <td>-0.001195</td>\n",
       "      <td>0.006625</td>\n",
       "      <td>-0.006367</td>\n",
       "      <td>-0.000167</td>\n",
       "      <td>0.000445</td>\n",
       "      <td>0.003538</td>\n",
       "      <td>0.001484</td>\n",
       "      <td>0.002199</td>\n",
       "      <td>-0.001281</td>\n",
       "      <td>0.972417</td>\n",
       "      <td>1.000000</td>\n",
       "      <td>0.960693</td>\n",
       "      <td>0.983621</td>\n",
       "    </tr>\n",
       "    <tr>\n",
       "      <th>user_level_votes_useful</th>\n",
       "      <td>0.000925</td>\n",
       "      <td>-0.000002</td>\n",
       "      <td>-0.013000</td>\n",
       "      <td>-0.006704</td>\n",
       "      <td>-0.002270</td>\n",
       "      <td>0.005612</td>\n",
       "      <td>-0.005577</td>\n",
       "      <td>-0.000171</td>\n",
       "      <td>0.000703</td>\n",
       "      <td>0.002967</td>\n",
       "      <td>0.001345</td>\n",
       "      <td>0.002232</td>\n",
       "      <td>-0.002491</td>\n",
       "      <td>0.991527</td>\n",
       "      <td>0.960693</td>\n",
       "      <td>1.000000</td>\n",
       "      <td>0.993983</td>\n",
       "    </tr>\n",
       "    <tr>\n",
       "      <th>total_user_level_review_votes</th>\n",
       "      <td>0.000759</td>\n",
       "      <td>0.000069</td>\n",
       "      <td>-0.012705</td>\n",
       "      <td>-0.007552</td>\n",
       "      <td>-0.001936</td>\n",
       "      <td>0.005911</td>\n",
       "      <td>-0.006047</td>\n",
       "      <td>-0.000433</td>\n",
       "      <td>0.000373</td>\n",
       "      <td>0.002888</td>\n",
       "      <td>0.001113</td>\n",
       "      <td>0.001895</td>\n",
       "      <td>-0.002277</td>\n",
       "      <td>0.996875</td>\n",
       "      <td>0.983621</td>\n",
       "      <td>0.993983</td>\n",
       "      <td>1.000000</td>\n",
       "    </tr>\n",
       "  </tbody>\n",
       "</table>\n",
       "</div>"
      ],
      "text/plain": [
       "                                   latitude  longitude      open  \\\n",
       "latitude                           1.000000  -0.383586 -0.024668   \n",
       "longitude                         -0.383586   1.000000 -0.001355   \n",
       "open                              -0.024668  -0.001355  1.000000   \n",
       "business review_count             -0.046309  -0.023495  0.103021   \n",
       "business stars                     0.001624   0.016398  0.092393   \n",
       "user average stars                 0.002661   0.012156  0.005211   \n",
       "user review_count                  0.022437   0.001046 -0.003802   \n",
       "cool                               0.018803  -0.033259 -0.017396   \n",
       "funny                              0.016236  -0.031163 -0.014368   \n",
       "useful                             0.024616  -0.042140 -0.017367   \n",
       "total_review_votes_count           0.021616  -0.038493 -0.017641   \n",
       "total_review_votes_count_grouping  0.024734  -0.045450 -0.017333   \n",
       "total_number_of_checkins          -0.021593   0.017397  0.003493   \n",
       "user_level_votes_cool              0.000105   0.000357 -0.012987   \n",
       "user_level_votes_funny             0.001275  -0.000172 -0.011618   \n",
       "user_level_votes_useful            0.000925  -0.000002 -0.013000   \n",
       "total_user_level_review_votes      0.000759   0.000069 -0.012705   \n",
       "\n",
       "                                   business review_count  business stars  \\\n",
       "latitude                                       -0.046309        0.001624   \n",
       "longitude                                      -0.023495        0.016398   \n",
       "open                                            0.103021        0.092393   \n",
       "business review_count                           1.000000        0.204378   \n",
       "business stars                                  0.204378        1.000000   \n",
       "user average stars                              0.041640        0.168398   \n",
       "user review_count                              -0.011631       -0.037988   \n",
       "cool                                            0.042373        0.036776   \n",
       "funny                                           0.019632       -0.022961   \n",
       "useful                                          0.035480        0.011783   \n",
       "total_review_votes_count                        0.035157        0.009682   \n",
       "total_review_votes_count_grouping               0.038221        0.006534   \n",
       "total_number_of_checkins                       -0.010759        0.015422   \n",
       "user_level_votes_cool                          -0.007332       -0.002136   \n",
       "user_level_votes_funny                         -0.008745       -0.001195   \n",
       "user_level_votes_useful                        -0.006704       -0.002270   \n",
       "total_user_level_review_votes                  -0.007552       -0.001936   \n",
       "\n",
       "                                   user average stars  user review_count  \\\n",
       "latitude                                     0.002661           0.022437   \n",
       "longitude                                    0.012156           0.001046   \n",
       "open                                         0.005211          -0.003802   \n",
       "business review_count                        0.041640          -0.011631   \n",
       "business stars                               0.168398          -0.037988   \n",
       "user average stars                           1.000000          -0.023009   \n",
       "user review_count                           -0.023009           1.000000   \n",
       "cool                                         0.023235           0.338269   \n",
       "funny                                       -0.018122           0.271084   \n",
       "useful                                      -0.006851           0.322750   \n",
       "total_review_votes_count                    -0.000745           0.334341   \n",
       "total_review_votes_count_grouping           -0.008015           0.343284   \n",
       "total_number_of_checkins                    -0.015781          -0.009176   \n",
       "user_level_votes_cool                        0.005502          -0.006174   \n",
       "user_level_votes_funny                       0.006625          -0.006367   \n",
       "user_level_votes_useful                      0.005612          -0.005577   \n",
       "total_user_level_review_votes                0.005911          -0.006047   \n",
       "\n",
       "                                       cool     funny    useful  \\\n",
       "latitude                           0.018803  0.016236  0.024616   \n",
       "longitude                         -0.033259 -0.031163 -0.042140   \n",
       "open                              -0.017396 -0.014368 -0.017367   \n",
       "business review_count              0.042373  0.019632  0.035480   \n",
       "business stars                     0.036776 -0.022961  0.011783   \n",
       "user average stars                 0.023235 -0.018122 -0.006851   \n",
       "user review_count                  0.338269  0.271084  0.322750   \n",
       "cool                               1.000000  0.790660  0.877032   \n",
       "funny                              0.790660  1.000000  0.737725   \n",
       "useful                             0.877032  0.737725  1.000000   \n",
       "total_review_votes_count           0.954300  0.896744  0.943061   \n",
       "total_review_votes_count_grouping  0.854180  0.800362  0.894252   \n",
       "total_number_of_checkins          -0.006560 -0.006759 -0.002659   \n",
       "user_level_votes_cool             -0.000957 -0.000084  0.002167   \n",
       "user_level_votes_funny            -0.000167  0.000445  0.003538   \n",
       "user_level_votes_useful           -0.000171  0.000703  0.002967   \n",
       "total_user_level_review_votes     -0.000433  0.000373  0.002888   \n",
       "\n",
       "                                   total_review_votes_count  \\\n",
       "latitude                                           0.021616   \n",
       "longitude                                         -0.038493   \n",
       "open                                              -0.017641   \n",
       "business review_count                              0.035157   \n",
       "business stars                                     0.009682   \n",
       "user average stars                                -0.000745   \n",
       "user review_count                                  0.334341   \n",
       "cool                                               0.954300   \n",
       "funny                                              0.896744   \n",
       "useful                                             0.943061   \n",
       "total_review_votes_count                           1.000000   \n",
       "total_review_votes_count_grouping                  0.914167   \n",
       "total_number_of_checkins                          -0.005561   \n",
       "user_level_votes_cool                              0.000497   \n",
       "user_level_votes_funny                             0.001484   \n",
       "user_level_votes_useful                            0.001345   \n",
       "total_user_level_review_votes                      0.001113   \n",
       "\n",
       "                                   total_review_votes_count_grouping  \\\n",
       "latitude                                                    0.024734   \n",
       "longitude                                                  -0.045450   \n",
       "open                                                       -0.017333   \n",
       "business review_count                                       0.038221   \n",
       "business stars                                              0.006534   \n",
       "user average stars                                         -0.008015   \n",
       "user review_count                                           0.343284   \n",
       "cool                                                        0.854180   \n",
       "funny                                                       0.800362   \n",
       "useful                                                      0.894252   \n",
       "total_review_votes_count                                    0.914167   \n",
       "total_review_votes_count_grouping                           1.000000   \n",
       "total_number_of_checkins                                   -0.001530   \n",
       "user_level_votes_cool                                       0.001196   \n",
       "user_level_votes_funny                                      0.002199   \n",
       "user_level_votes_useful                                     0.002232   \n",
       "total_user_level_review_votes                               0.001895   \n",
       "\n",
       "                                   total_number_of_checkins  \\\n",
       "latitude                                          -0.021593   \n",
       "longitude                                          0.017397   \n",
       "open                                               0.003493   \n",
       "business review_count                             -0.010759   \n",
       "business stars                                     0.015422   \n",
       "user average stars                                -0.015781   \n",
       "user review_count                                 -0.009176   \n",
       "cool                                              -0.006560   \n",
       "funny                                             -0.006759   \n",
       "useful                                            -0.002659   \n",
       "total_review_votes_count                          -0.005561   \n",
       "total_review_votes_count_grouping                 -0.001530   \n",
       "total_number_of_checkins                           1.000000   \n",
       "user_level_votes_cool                             -0.002828   \n",
       "user_level_votes_funny                            -0.001281   \n",
       "user_level_votes_useful                           -0.002491   \n",
       "total_user_level_review_votes                     -0.002277   \n",
       "\n",
       "                                   user_level_votes_cool  \\\n",
       "latitude                                        0.000105   \n",
       "longitude                                       0.000357   \n",
       "open                                           -0.012987   \n",
       "business review_count                          -0.007332   \n",
       "business stars                                 -0.002136   \n",
       "user average stars                              0.005502   \n",
       "user review_count                              -0.006174   \n",
       "cool                                           -0.000957   \n",
       "funny                                          -0.000084   \n",
       "useful                                          0.002167   \n",
       "total_review_votes_count                        0.000497   \n",
       "total_review_votes_count_grouping               0.001196   \n",
       "total_number_of_checkins                       -0.002828   \n",
       "user_level_votes_cool                           1.000000   \n",
       "user_level_votes_funny                          0.972417   \n",
       "user_level_votes_useful                         0.991527   \n",
       "total_user_level_review_votes                   0.996875   \n",
       "\n",
       "                                   user_level_votes_funny  \\\n",
       "latitude                                         0.001275   \n",
       "longitude                                       -0.000172   \n",
       "open                                            -0.011618   \n",
       "business review_count                           -0.008745   \n",
       "business stars                                  -0.001195   \n",
       "user average stars                               0.006625   \n",
       "user review_count                               -0.006367   \n",
       "cool                                            -0.000167   \n",
       "funny                                            0.000445   \n",
       "useful                                           0.003538   \n",
       "total_review_votes_count                         0.001484   \n",
       "total_review_votes_count_grouping                0.002199   \n",
       "total_number_of_checkins                        -0.001281   \n",
       "user_level_votes_cool                            0.972417   \n",
       "user_level_votes_funny                           1.000000   \n",
       "user_level_votes_useful                          0.960693   \n",
       "total_user_level_review_votes                    0.983621   \n",
       "\n",
       "                                   user_level_votes_useful  \\\n",
       "latitude                                          0.000925   \n",
       "longitude                                        -0.000002   \n",
       "open                                             -0.013000   \n",
       "business review_count                            -0.006704   \n",
       "business stars                                   -0.002270   \n",
       "user average stars                                0.005612   \n",
       "user review_count                                -0.005577   \n",
       "cool                                             -0.000171   \n",
       "funny                                             0.000703   \n",
       "useful                                            0.002967   \n",
       "total_review_votes_count                          0.001345   \n",
       "total_review_votes_count_grouping                 0.002232   \n",
       "total_number_of_checkins                         -0.002491   \n",
       "user_level_votes_cool                             0.991527   \n",
       "user_level_votes_funny                            0.960693   \n",
       "user_level_votes_useful                           1.000000   \n",
       "total_user_level_review_votes                     0.993983   \n",
       "\n",
       "                                   total_user_level_review_votes  \n",
       "latitude                                                0.000759  \n",
       "longitude                                               0.000069  \n",
       "open                                                   -0.012705  \n",
       "business review_count                                  -0.007552  \n",
       "business stars                                         -0.001936  \n",
       "user average stars                                      0.005911  \n",
       "user review_count                                      -0.006047  \n",
       "cool                                                   -0.000433  \n",
       "funny                                                   0.000373  \n",
       "useful                                                  0.002888  \n",
       "total_review_votes_count                                0.001113  \n",
       "total_review_votes_count_grouping                       0.001895  \n",
       "total_number_of_checkins                               -0.002277  \n",
       "user_level_votes_cool                                   0.996875  \n",
       "user_level_votes_funny                                  0.983621  \n",
       "user_level_votes_useful                                 0.993983  \n",
       "total_user_level_review_votes                           1.000000  "
      ]
     },
     "execution_count": 100,
     "metadata": {},
     "output_type": "execute_result"
    }
   ],
   "source": [
    "yelp_data_final_update.corr()"
   ]
  },
  {
   "cell_type": "markdown",
   "metadata": {},
   "source": [
    "By looking at the correlation between the fields within the final dataset, here's the finding:\n",
    "\n",
    "- Useful, funny and cool votes for the reviews are closedly related, which suggests that the reviews in the dataset usually get the votes from all these three categories instead of just getting the votes in one or two of the categories.\n",
    "\n",
    "- The count of the user reviews is related with the total number of review votes with an R squared of over 30%, which might indicate the user that posts more reviews are more likely to get more votes.\n"
   ]
  },
  {
   "cell_type": "code",
   "execution_count": 101,
   "metadata": {},
   "outputs": [
    {
     "data": {
      "text/plain": [
       "<matplotlib.axes._subplots.AxesSubplot at 0x1a17c37438>"
      ]
     },
     "execution_count": 101,
     "metadata": {},
     "output_type": "execute_result"
    },
    {
     "data": {
      "image/png": "[encoded data removed]",
      "text/plain": [
       "<matplotlib.figure.Figure at 0x1a17955320>"
      ]
     },
     "metadata": {},
     "output_type": "display_data"
    }
   ],
   "source": [
    "import seaborn as sb\n",
    "##heatmap:\n",
    "sb.heatmap(yelp_data_final_update.corr())"
   ]
  },
  {
   "cell_type": "markdown",
   "metadata": {},
   "source": [
    "Number of reviews by groupings:"
   ]
  },
  {
   "cell_type": "markdown",
   "metadata": {},
   "source": [
    "30% of the reviews are useful."
   ]
  },
  {
   "cell_type": "code",
   "execution_count": 62,
   "metadata": {},
   "outputs": [
    {
     "data": {
      "text/plain": [
       "Review_category_useful_notuseful\n",
       "not useful    140336\n",
       "useful         60135\n",
       "Name: review_id, dtype: int64"
      ]
     },
     "execution_count": 62,
     "metadata": {},
     "output_type": "execute_result"
    }
   ],
   "source": [
    "yelp_data_final_update.groupby('Review_category_useful_notuseful')['review_id'].count()"
   ]
  },
  {
   "cell_type": "markdown",
   "metadata": {},
   "source": [
    "30 % of the reviews are funny."
   ]
  },
  {
   "cell_type": "code",
   "execution_count": 10,
   "metadata": {},
   "outputs": [
    {
     "data": {
      "text/plain": [
       "Review_category_funny_notfunny\n",
       "funny         59616\n",
       "not funny    140855\n",
       "Name: review_id, dtype: int64"
      ]
     },
     "execution_count": 10,
     "metadata": {},
     "output_type": "execute_result"
    }
   ],
   "source": [
    "yelp_data_final_update.groupby('Review_category_funny_notfunny')['review_id'].count()"
   ]
  },
  {
   "cell_type": "markdown",
   "metadata": {},
   "source": [
    "37 % of the reviews are cool"
   ]
  },
  {
   "cell_type": "code",
   "execution_count": 13,
   "metadata": {},
   "outputs": [
    {
     "data": {
      "text/plain": [
       "Review_category_cool_notcool\n",
       "cool         74685\n",
       "not cool    125786\n",
       "Name: review_id, dtype: int64"
      ]
     },
     "execution_count": 13,
     "metadata": {},
     "output_type": "execute_result"
    }
   ],
   "source": [
    "yelp_data_final_update.groupby('Review_category_cool_notcool')['review_id'].count()"
   ]
  },
  {
   "cell_type": "markdown",
   "metadata": {},
   "source": [
    "Here's the percentage distribution based on the Review_category_coolest_funniest_mostuseful field:\n",
    "\n",
    "Review Category | Percentage | \n",
    "---| ---| \n",
    "Relatively cool |5% | \n",
    "Relatively funny | 6%|\n",
    "Relatively useful | 3.5%|\n",
    "neutral| 5%|\n",
    "no categorization | 12%|\n",
    "no review vote| 36%|\n",
    "\n",
    "There are around 36% percent of the reviews that do not have vote."
   ]
  },
  {
   "cell_type": "code",
   "execution_count": 14,
   "metadata": {},
   "outputs": [
    {
     "data": {
      "text/plain": [
       "Review_category_coolest_funniest_mostuseful\n",
       "cool                 10580\n",
       "funny                11180\n",
       "neutral              10953\n",
       "no categorization    24443\n",
       "no review            72036\n",
       "useful               71279\n",
       "Name: review_id, dtype: int64"
      ]
     },
     "execution_count": 14,
     "metadata": {},
     "output_type": "execute_result"
    }
   ],
   "source": [
    "yelp_data_final_update.groupby('Review_category_coolest_funniest_mostuseful')['review_id'].count()\n"
   ]
  },
  {
   "cell_type": "code",
   "execution_count": 15,
   "metadata": {},
   "outputs": [
    {
     "data": {
      "text/plain": [
       "total_review_votes_count_grouping\n",
       "0    72036\n",
       "1    98745\n",
       "2    17783\n",
       "3     5466\n",
       "4     2556\n",
       "5     1438\n",
       "6      881\n",
       "7     1566\n",
       "Name: review_id, dtype: int64"
      ]
     },
     "execution_count": 15,
     "metadata": {},
     "output_type": "execute_result"
    }
   ],
   "source": [
    "\n",
    "yelp_data_final_update.groupby('total_review_votes_count_grouping')['review_id'].count()\n"
   ]
  },
  {
   "cell_type": "markdown",
   "metadata": {},
   "source": [
    "\n",
    "Here's the percentage distribution based on the total review count grouping field:\n",
    "\n",
    "Review Category | Percentage | \n",
    "---| ---| \n",
    "Tier 0 | 36% | \n",
    "Tier 1 | 49%|\n",
    "Tier 2 | 9%|\n",
    "Tier 3 | 3%|\n",
    "Tier 4 | 1%|\n",
    "Tier 5 | 0.7%|\n",
    "Tier 6 | 0.4%|\n",
    "Tier 7 | 0.8%|\n",
    "\n",
    "\n",
    "Most of the reviews  has 0 to 5 votes.\n"
   ]
  },
  {
   "cell_type": "markdown",
   "metadata": {},
   "source": [
    "Step 4: Model"
   ]
  },
  {
   "cell_type": "markdown",
   "metadata": {},
   "source": [
    "Modeling Session 1: \n",
    "\n",
    "Identify the impact of the keywords on users' perception on the reviews to be funny, useful or cool. "
   ]
  },
  {
   "cell_type": "code",
   "execution_count": null,
   "metadata": {
    "collapsed": true
   },
   "outputs": [],
   "source": [
    "X_text_train=yelp_data_final_update[\"text\"]"
   ]
  },
  {
   "cell_type": "code",
   "execution_count": null,
   "metadata": {
    "collapsed": true
   },
   "outputs": [],
   "source": [
    "import string\n",
    "from sklearn.feature_extraction.text import TfidfTransformer\n"
   ]
  },
  {
   "cell_type": "markdown",
   "metadata": {},
   "source": [
    "Define and Apply the  function to get rid of the punction from the review text for better tokenization"
   ]
  },
  {
   "cell_type": "code",
   "execution_count": 18,
   "metadata": {},
   "outputs": [
    {
     "data": {
      "text/plain": [
       "200471"
      ]
     },
     "execution_count": 18,
     "metadata": {},
     "output_type": "execute_result"
    }
   ],
   "source": [
    "len(X_text_train)"
   ]
  },
  {
   "cell_type": "code",
   "execution_count": null,
   "metadata": {
    "collapsed": true
   },
   "outputs": [],
   "source": [
    "def func_exclude_punctuation(text_string):\n",
    "    exclude = set(string.punctuation)\n",
    "    s = ''.join(ch for ch in text_string if ch not in exclude)\n",
    "    return s\n",
    "\n",
    "#Apply the function to exclude the punctuation for all the review texts:\n",
    "\n",
    "X_text_train=X_text_train.apply(func_exclude_punctuation)"
   ]
  },
  {
   "cell_type": "markdown",
   "metadata": {},
   "source": [
    "Define and Apply the function to remove the \"\\n\" in the text string"
   ]
  },
  {
   "cell_type": "code",
   "execution_count": 23,
   "metadata": {
    "collapsed": true
   },
   "outputs": [],
   "source": [
    "def func_remove_n(text_string):\n",
    "    return text_string.replace('\\n', '')\n",
    "    \n",
    "#Apply the function to exclude all \"\\n\"  for all the review texts:\n",
    "X_text_train=X_text_train.apply(func_remove_n)"
   ]
  },
  {
   "cell_type": "code",
   "execution_count": 26,
   "metadata": {},
   "outputs": [
    {
     "data": {
      "text/plain": [
       "'Located on Scottsdale Rd this place is pretty easy to find  Its right across the street from the sugar bowl  Sandwichs are great footlong paninis basicly  The half salad and sandwich is the best deal their salads are amazing  Fresh lettuce and dressings  The owners are really friendly also  But here is the best part French Pastry They have crepes and crousants  Give it a shot for lunch you will be happily surprised'"
      ]
     },
     "execution_count": 26,
     "metadata": {},
     "output_type": "execute_result"
    }
   ],
   "source": [
    "X_text_train[0]"
   ]
  },
  {
   "cell_type": "markdown",
   "metadata": {},
   "source": [
    "Define and apply the function to convert all the Upper case string to lower case string"
   ]
  },
  {
   "cell_type": "code",
   "execution_count": 31,
   "metadata": {
    "collapsed": true
   },
   "outputs": [],
   "source": [
    "def func_to_lower_case(text_string):\n",
    "    return text_string.lower()\n",
    "    \n",
    "#Apply the function to exclude all \"\\n\"  for all the review texts:\n",
    "X_text_train=X_text_train.apply(func_to_lower_case)"
   ]
  },
  {
   "cell_type": "code",
   "execution_count": 32,
   "metadata": {},
   "outputs": [
    {
     "data": {
      "text/plain": [
       "'located on scottsdale rd this place is pretty easy to find  its right across the street from the sugar bowl  sandwichs are great footlong paninis basicly  the half salad and sandwich is the best deal their salads are amazing  fresh lettuce and dressings  the owners are really friendly also  but here is the best part french pastry they have crepes and crousants  give it a shot for lunch you will be happily surprised'"
      ]
     },
     "execution_count": 32,
     "metadata": {},
     "output_type": "execute_result"
    }
   ],
   "source": [
    "X_text_train[0]"
   ]
  },
  {
   "cell_type": "markdown",
   "metadata": {},
   "source": [
    "Export the cleaned X_test_train data into the csv file:"
   ]
  },
  {
   "cell_type": "code",
   "execution_count": null,
   "metadata": {
    "collapsed": true
   },
   "outputs": [],
   "source": [
    "X_test_train.to_csv(\"/Users/yuka/Desktop/DataScience/Yelp Project/X_test_train.csv\")"
   ]
  },
  {
   "cell_type": "markdown",
   "metadata": {},
   "source": [
    "Use the count vectorizer transformer to convert the review text to the vectors"
   ]
  },
  {
   "cell_type": "code",
   "execution_count": 33,
   "metadata": {},
   "outputs": [
    {
     "data": {
      "text/plain": [
       "(200471, 14929497)"
      ]
     },
     "execution_count": 33,
     "metadata": {},
     "output_type": "execute_result"
    }
   ],
   "source": [
    "from sklearn.feature_extraction.text import CountVectorizer\n",
    "cv = CountVectorizer(ngram_range =(1,3), stop_words='english')\n",
    "X_train_countVectorizer = cv.fit_transform(X_text_train)\n",
    "X_train_countVectorizer.shape #(200471, 14929497)"
   ]
  },
  {
   "cell_type": "markdown",
   "metadata": {},
   "source": [
    "Use the tfidf transformer to convert the review text to the vectors"
   ]
  },
  {
   "cell_type": "code",
   "execution_count": null,
   "metadata": {
    "collapsed": true
   },
   "outputs": [],
   "source": [
    "## Use the tfidf transformer to convert the review text to the vectors:\n",
    "from sklearn.feature_extraction.text import TfidfTransformer\n",
    "from sklearn.feature_extraction.text import TfidfVectorizer\n",
    "tfidf_transformer = TfidfVectorizer(ngram_range =(1,3), stop_words='english', lowercase=True, min_df=2 )\n",
    "X_text_train_tfidf = tfidf_transformer.fit_transform(X_text_train)\n",
    "X_text_train_tfidf.shape #(200471, 1742013)"
   ]
  },
  {
   "cell_type": "markdown",
   "metadata": {
    "collapsed": true
   },
   "source": [
    "Modeling Sessions 1: Approach A Native Bayes\n",
    "\n",
    "\n",
    "Naive Bayes can help me identify which keywords within the review texts are having positive/negative in getting votes in useful, funny and cool these three categories."
   ]
  },
  {
   "cell_type": "code",
   "execution_count": 105,
   "metadata": {},
   "outputs": [
    {
     "name": "stderr",
     "output_type": "stream",
     "text": [
      "/anaconda3/lib/python3.6/site-packages/sklearn/cross_validation.py:41: DeprecationWarning: This module was deprecated in version 0.18 in favor of the model_selection module into which all the refactored classes and functions are moved. Also note that the interface of the new CV iterators are different from that of this module. This module will be removed in 0.20.\n",
      "  \"This module will be removed in 0.20.\", DeprecationWarning)\n"
     ]
    }
   ],
   "source": [
    "from sklearn.naive_bayes import MultinomialNB\n",
    "from sklearn.cross_validation import cross_val_score\n",
    "\n",
    "model_NB = MultinomialNB()\n"
   ]
  },
  {
   "cell_type": "markdown",
   "metadata": {},
   "source": [
    "Naive Bayes model on useful vs not useful:"
   ]
  },
  {
   "cell_type": "code",
   "execution_count": 38,
   "metadata": {},
   "outputs": [
    {
     "data": {
      "text/plain": [
       "array([ 0.69998753,  0.70254901,  0.70464409,  0.70155135,  0.70067841])"
      ]
     },
     "execution_count": 38,
     "metadata": {},
     "output_type": "execute_result"
    }
   ],
   "source": [
    "cross_val_score(model_NB, X_train_countVectorizer, yelp_data_final_update['Review_category_useful_notuseful'], cv=5)\n",
    "#array([ 0.69998753,  0.70254901,  0.70464409,  0.70155135,  0.70067841])"
   ]
  },
  {
   "cell_type": "code",
   "execution_count": 54,
   "metadata": {},
   "outputs": [
    {
     "data": {
      "text/plain": [
       "<200471x14929497 sparse matrix of type '<class 'numpy.int64'>'\n",
       "\twith 32975807 stored elements in Compressed Sparse Row format>"
      ]
     },
     "execution_count": 54,
     "metadata": {},
     "output_type": "execute_result"
    }
   ],
   "source": [
    "X_train_countVectorizer #200471x14929497"
   ]
  },
  {
   "cell_type": "code",
   "execution_count": 74,
   "metadata": {},
   "outputs": [
    {
     "data": {
      "text/plain": [
       "(200471,)"
      ]
     },
     "execution_count": 74,
     "metadata": {},
     "output_type": "execute_result"
    }
   ],
   "source": [
    "np.asarray(yelp_data_final_update['Review_category_useful_notuseful']).shape"
   ]
  },
  {
   "cell_type": "code",
   "execution_count": 72,
   "metadata": {},
   "outputs": [
    {
     "data": {
      "text/plain": [
       "200471"
      ]
     },
     "execution_count": 72,
     "metadata": {},
     "output_type": "execute_result"
    }
   ],
   "source": [
    "np.asarray(yelp_data_final_update['Review_category_useful_notuseful']).shape\n",
    "\n",
    "len(yelp_data_final_update['Review_category_useful_notuseful'])"
   ]
  },
  {
   "cell_type": "code",
   "execution_count": 79,
   "metadata": {},
   "outputs": [
    {
     "data": {
      "text/plain": [
       "{'not useful', 'useful'}"
      ]
     },
     "execution_count": 79,
     "metadata": {},
     "output_type": "execute_result"
    }
   ],
   "source": [
    "set(yelp_data_final_update['Review_category_useful_notuseful'])"
   ]
  },
  {
   "cell_type": "code",
   "execution_count": 77,
   "metadata": {},
   "outputs": [
    {
     "data": {
      "text/plain": [
       "(1, 14929497)"
      ]
     },
     "execution_count": 77,
     "metadata": {},
     "output_type": "execute_result"
    }
   ],
   "source": [
    "model_NB.coef_.shape"
   ]
  },
  {
   "cell_type": "code",
   "execution_count": 124,
   "metadata": {},
   "outputs": [
    {
     "data": {
      "text/plain": [
       "MultinomialNB(alpha=1.0, class_prior=None, fit_prior=True)"
      ]
     },
     "execution_count": 124,
     "metadata": {},
     "output_type": "execute_result"
    }
   ],
   "source": [
    "model_NB.fit(X_train_countVectorizer, np.asarray(yelp_data_final_update['Review_category_useful_notuseful']))"
   ]
  },
  {
   "cell_type": "code",
   "execution_count": 99,
   "metadata": {},
   "outputs": [
    {
     "data": {
      "text/plain": [
       "{'not useful', 'useful'}"
      ]
     },
     "execution_count": 99,
     "metadata": {},
     "output_type": "execute_result"
    }
   ],
   "source": [
    "set(yelp_data_final_update['Review_category_useful_notuseful'])"
   ]
  },
  {
   "cell_type": "code",
   "execution_count": 68,
   "metadata": {},
   "outputs": [
    {
     "name": "stdout",
     "output_type": "stream",
     "text": [
      "[[ 7.  0.  0. ...,  0.  0.  0.]\n",
      " [ 6.  1.  1. ...,  1.  1.  1.]]\n"
     ]
    },
    {
     "data": {
      "text/plain": [
       "(2, 14929497)"
      ]
     },
     "execution_count": 68,
     "metadata": {},
     "output_type": "execute_result"
    }
   ],
   "source": [
    "print (model_NB.feature_count_)\n",
    "\n",
    "model_NB.feature_count_.shape"
   ]
  },
  {
   "cell_type": "code",
   "execution_count": 95,
   "metadata": {},
   "outputs": [
    {
     "name": "stdout",
     "output_type": "stream",
     "text": [
      "[[-15.24990185 -16.50266482 -16.50266482 ..., -16.50266482 -16.50266482\n",
      "  -16.50266482]]\n"
     ]
    },
    {
     "data": {
      "text/plain": [
       "(1, 14929497)"
      ]
     },
     "execution_count": 95,
     "metadata": {},
     "output_type": "execute_result"
    }
   ],
   "source": [
    "print (model_NB.coef_)\n",
    "\n",
    "model_NB.coef_.shape"
   ]
  },
  {
   "cell_type": "code",
   "execution_count": 62,
   "metadata": {},
   "outputs": [
    {
     "data": {
      "text/plain": [
       "14929497"
      ]
     },
     "execution_count": 62,
     "metadata": {},
     "output_type": "execute_result"
    }
   ],
   "source": [
    "len(cv.get_feature_names())"
   ]
  },
  {
   "cell_type": "code",
   "execution_count": 125,
   "metadata": {},
   "outputs": [
    {
     "name": "stdout",
     "output_type": "stream",
     "text": [
      "['not useful' 'useful']\n"
     ]
    }
   ],
   "source": [
    "print (model_NB.classes_) #['not useful' 'useful']"
   ]
  },
  {
   "cell_type": "code",
   "execution_count": 96,
   "metadata": {
    "collapsed": true
   },
   "outputs": [],
   "source": [
    "import pandas as pd\n",
    "coef_useful_not_useful = pd.DataFrame(model_NB.coef_, columns=cv.get_feature_names()).T"
   ]
  },
  {
   "cell_type": "code",
   "execution_count": 97,
   "metadata": {},
   "outputs": [
    {
     "data": {
      "text/html": [
       "<div>\n",
       "<style>\n",
       "    .dataframe thead tr:only-child th {\n",
       "        text-align: right;\n",
       "    }\n",
       "\n",
       "    .dataframe thead th {\n",
       "        text-align: left;\n",
       "    }\n",
       "\n",
       "    .dataframe tbody tr th {\n",
       "        vertical-align: top;\n",
       "    }\n",
       "</style>\n",
       "<table border=\"1\" class=\"dataframe\">\n",
       "  <thead>\n",
       "    <tr style=\"text-align: right;\">\n",
       "      <th></th>\n",
       "      <th>0</th>\n",
       "    </tr>\n",
       "  </thead>\n",
       "  <tbody>\n",
       "    <tr>\n",
       "      <th>00</th>\n",
       "      <td>-15.249902</td>\n",
       "    </tr>\n",
       "    <tr>\n",
       "      <th>00 addresses</th>\n",
       "      <td>-16.502665</td>\n",
       "    </tr>\n",
       "    <tr>\n",
       "      <th>00 addresses radiate</th>\n",
       "      <td>-16.502665</td>\n",
       "    </tr>\n",
       "    <tr>\n",
       "      <th>00 bills</th>\n",
       "      <td>-17.195812</td>\n",
       "    </tr>\n",
       "    <tr>\n",
       "      <th>00 bills lets</th>\n",
       "      <td>-17.195812</td>\n",
       "    </tr>\n",
       "  </tbody>\n",
       "</table>\n",
       "</div>"
      ],
      "text/plain": [
       "                              0\n",
       "00                   -15.249902\n",
       "00 addresses         -16.502665\n",
       "00 addresses radiate -16.502665\n",
       "00 bills             -17.195812\n",
       "00 bills lets        -17.195812"
      ]
     },
     "execution_count": 97,
     "metadata": {},
     "output_type": "execute_result"
    }
   ],
   "source": [
    "coef_useful_not_useful.head()"
   ]
  },
  {
   "cell_type": "code",
   "execution_count": null,
   "metadata": {
    "collapsed": true
   },
   "outputs": [],
   "source": [
    "print (model_NB.classes_) #['cool' 'not cool']"
   ]
  },
  {
   "cell_type": "code",
   "execution_count": 100,
   "metadata": {},
   "outputs": [
    {
     "name": "stdout",
     "output_type": "stream",
     "text": [
      "0                     (+) friendly, sure, sauce, new, pizza, salad, fresh, come, lunch, say, better, want, right, came, night, cheese, going, went, did, way, make, think, chicken, order, bar, didnt, try, best, restaurant, pretty, ordered, menu, know, people, nice, ive, got, love, little, service, im, dont, time, really, great, just, food, like, good, place\n",
      "                      (-) liquor storesthough fine, sign trace amounts, hot meat tried, hot meat time, hot meat really, hot meat onions, hot meat lot, hot meat good, hot meat came, hot means thing, hot means thai, hot means seafood, hot means orders, hot means medium, hot means make, hot means im, sign tricky, sign tricky parking, hot meaning mildtomedium, hot meaning, sign tried, hot mean steaming, sign tried el, sign tried ribs, sign trip, sign trip girlfriend, sign triple, hot mean hot, sign triple featured, hot mean aware, hot meatball sub, sign trace, sign touts make, sign touts, sign tonto bar, hot melty cheese, sign took awhile, hot melts styrofoam, hot melts, hot melting, hot meltedsecond trip, hot meltedsecond, sign took bite, hot melted cheese, hot melt accompanying, sign total, sign total came, sign touch, sign trouble, hot meh\n"
     ]
    }
   ],
   "source": [
    "top = 50\n",
    "for col in coef_useful_not_useful:\n",
    "    s = coef_useful_not_useful[[col]].sort_values(col)\n",
    "    print (\"%-20s  (+) %s\" % (col, \", \".join(s.iloc[-top:].index)))\n",
    "    print (\"%-20s  (-) %s\" % (\"\", \", \".join(s.iloc[:top].index)))"
   ]
  },
  {
   "cell_type": "markdown",
   "metadata": {},
   "source": [
    "Use the features trained by tfidf vectorizer for the Naive Bayes Model: Useful vs not useful"
   ]
  },
  {
   "cell_type": "code",
   "execution_count": 137,
   "metadata": {},
   "outputs": [
    {
     "data": {
      "text/plain": [
       "MultinomialNB(alpha=1.0, class_prior=None, fit_prior=True)"
      ]
     },
     "execution_count": 137,
     "metadata": {},
     "output_type": "execute_result"
    }
   ],
   "source": [
    "model_NB.fit(X_text_train_tfidf, np.asarray(yelp_data_final_update['Review_category_useful_notuseful']))"
   ]
  },
  {
   "cell_type": "code",
   "execution_count": 141,
   "metadata": {},
   "outputs": [
    {
     "data": {
      "text/plain": [
       "array([ 0.70016211,  0.70007981,  0.70007981,  0.70010475,  0.70007981])"
      ]
     },
     "execution_count": 141,
     "metadata": {},
     "output_type": "execute_result"
    }
   ],
   "source": [
    "cross_val_score(model_NB, X_text_train_tfidf, yelp_data_final_update['Review_category_useful_notuseful'], cv=5)\n",
    "#array([ 0.70016211,  0.70007981,  0.70007981,  0.70010475,  0.70007981])"
   ]
  },
  {
   "cell_type": "code",
   "execution_count": 139,
   "metadata": {
    "collapsed": true
   },
   "outputs": [],
   "source": [
    "import pandas as pd\n",
    "coef_useful_not_useful_tfidf = pd.DataFrame(model_NB.coef_, columns=tfidf_transformer.get_feature_names()).T"
   ]
  },
  {
   "cell_type": "code",
   "execution_count": 140,
   "metadata": {},
   "outputs": [
    {
     "name": "stdout",
     "output_type": "stream",
     "text": [
      "0                     (+) delicious, eat, friendly, new, come, salad, fresh, came, say, right, want, better, went, night, going, did, lunch, cheese, way, make, didnt, pizza, ordered, order, think, restaurant, try, menu, pretty, chicken, best, know, bar, got, people, nice, ive, little, love, service, im, dont, time, really, great, just, food, like, good, place\n",
      "                      (-) staff friendly tried, red traditional, red trout, took meat, conversation totally, took medium, conversation topic, suggest going large, conversation told, pho cheaper, hereusually, just downhill, watch particular, watch parties, red try, fly sfo, time door bar, conversation telling, mocha shots, pho cheap, mocha right, mocha really, conversation table friendly, conversation thought, conversation turned, stars rounded stars, red tile, mocha skim milk, stars sake, red store, red strip, mocha skim, red summer, watch orders, fly plate, red syrup, watch osu, pho chicken sandwich, just dough, red table tops, red taco, conversation waiting food, conversation waiting, watch outthe, conversation waited, pho chicken pho, red tasting, conversation visit, number positive, red thought\n"
     ]
    }
   ],
   "source": [
    "top = 50\n",
    "for col in coef_useful_not_useful_tfidf:\n",
    "    s = coef_useful_not_useful_tfidf[[col]].sort_values(col)\n",
    "    print (\"%-20s  (+) %s\" % (col, \", \".join(s.iloc[-top:].index)))\n",
    "    print (\"%-20s  (-) %s\" % (\"\", \", \".join(s.iloc[:top].index)))"
   ]
  },
  {
   "cell_type": "markdown",
   "metadata": {},
   "source": [
    "Naive Bayes model on cool vs not cool:"
   ]
  },
  {
   "cell_type": "code",
   "execution_count": 101,
   "metadata": {},
   "outputs": [
    {
     "data": {
      "text/plain": [
       "array([ 0.65813692,  0.66104654,  0.65511049,  0.65942535,  0.66037312])"
      ]
     },
     "execution_count": 101,
     "metadata": {},
     "output_type": "execute_result"
    }
   ],
   "source": [
    "cross_val_score(model_NB, X_train_countVectorizer, yelp_data_final_update['Review_category_cool_notcool'], cv=5)"
   ]
  },
  {
   "cell_type": "code",
   "execution_count": 122,
   "metadata": {},
   "outputs": [
    {
     "data": {
      "text/plain": [
       "MultinomialNB(alpha=1.0, class_prior=None, fit_prior=True)"
      ]
     },
     "execution_count": 122,
     "metadata": {},
     "output_type": "execute_result"
    }
   ],
   "source": [
    "model_NB.fit(X_train_countVectorizer, np.array(yelp_data_final_update['Review_category_cool_notcool']))"
   ]
  },
  {
   "cell_type": "code",
   "execution_count": 103,
   "metadata": {},
   "outputs": [
    {
     "data": {
      "text/plain": [
       "(1, 14929497)"
      ]
     },
     "execution_count": 103,
     "metadata": {},
     "output_type": "execute_result"
    }
   ],
   "source": [
    "model_NB.coef_.shape"
   ]
  },
  {
   "cell_type": "code",
   "execution_count": 104,
   "metadata": {},
   "outputs": [
    {
     "data": {
      "text/plain": [
       "14929497"
      ]
     },
     "execution_count": 104,
     "metadata": {},
     "output_type": "execute_result"
    }
   ],
   "source": [
    "len(cv.get_feature_names())"
   ]
  },
  {
   "cell_type": "code",
   "execution_count": 105,
   "metadata": {},
   "outputs": [
    {
     "data": {
      "text/plain": [
       "{'cool', 'not cool'}"
      ]
     },
     "execution_count": 105,
     "metadata": {},
     "output_type": "execute_result"
    }
   ],
   "source": [
    "set(yelp_data_final_update['Review_category_cool_notcool'])"
   ]
  },
  {
   "cell_type": "code",
   "execution_count": 107,
   "metadata": {
    "collapsed": true
   },
   "outputs": [],
   "source": [
    "import pandas as pd\n",
    "coef_cool_not_cool = pd.DataFrame(model_NB.coef_, columns=cv.get_feature_names()).T"
   ]
  },
  {
   "cell_type": "code",
   "execution_count": 123,
   "metadata": {},
   "outputs": [
    {
     "name": "stdout",
     "output_type": "stream",
     "text": [
      "['cool' 'not cool']\n"
     ]
    }
   ],
   "source": [
    "print (model_NB.classes_) #['cool' 'not cool']"
   ]
  },
  {
   "cell_type": "code",
   "execution_count": 108,
   "metadata": {},
   "outputs": [
    {
     "data": {
      "text/html": [
       "<div>\n",
       "<style>\n",
       "    .dataframe thead tr:only-child th {\n",
       "        text-align: right;\n",
       "    }\n",
       "\n",
       "    .dataframe thead th {\n",
       "        text-align: left;\n",
       "    }\n",
       "\n",
       "    .dataframe tbody tr th {\n",
       "        vertical-align: top;\n",
       "    }\n",
       "</style>\n",
       "<table border=\"1\" class=\"dataframe\">\n",
       "  <thead>\n",
       "    <tr style=\"text-align: right;\">\n",
       "      <th></th>\n",
       "      <th>0</th>\n",
       "    </tr>\n",
       "  </thead>\n",
       "  <tbody>\n",
       "    <tr>\n",
       "      <th>00</th>\n",
       "      <td>-15.122701</td>\n",
       "    </tr>\n",
       "    <tr>\n",
       "      <th>00 addresses</th>\n",
       "      <td>-17.319926</td>\n",
       "    </tr>\n",
       "    <tr>\n",
       "      <th>00 addresses radiate</th>\n",
       "      <td>-17.319926</td>\n",
       "    </tr>\n",
       "    <tr>\n",
       "      <th>00 bills</th>\n",
       "      <td>-16.626778</td>\n",
       "    </tr>\n",
       "    <tr>\n",
       "      <th>00 bills lets</th>\n",
       "      <td>-16.626778</td>\n",
       "    </tr>\n",
       "  </tbody>\n",
       "</table>\n",
       "</div>"
      ],
      "text/plain": [
       "                              0\n",
       "00                   -15.122701\n",
       "00 addresses         -17.319926\n",
       "00 addresses radiate -17.319926\n",
       "00 bills             -16.626778\n",
       "00 bills lets        -16.626778"
      ]
     },
     "execution_count": 108,
     "metadata": {},
     "output_type": "execute_result"
    }
   ],
   "source": [
    "coef_cool_not_cool.head()"
   ]
  },
  {
   "cell_type": "code",
   "execution_count": 110,
   "metadata": {},
   "outputs": [
    {
     "name": "stdout",
     "output_type": "stream",
     "text": [
      "0                     (+) definitely, say, salad, come, eat, want, cheese, night, fresh, delicious, way, came, know, did, think, lunch, make, going, bar, pizza, better, people, didnt, friendly, staff, went, order, menu, pretty, try, restaurant, ordered, chicken, got, ive, im, best, little, nice, dont, love, really, time, service, just, like, great, food, place, good\n",
      "                      (-) übersatisfied meal bavarian, flowers contemporary, flowers come ajs, flowers come, meal enjoy froyo, meal enjoy fun, flowers closer downtown, flowers closer, flowers clearance broken, flowers clearance, flowers class looks, flowers contemporary couches, flowers class, sour adequate, flowers chocolate soaps, flowers chocolate cherry, flowers chocolate, flowers chic 60s, flowers chic, sour adequate doesnt, probably really star, meal enjoy pleasant, flowers cheap wish, flowers chocolates answer, probably really teens, sour actually kinda, sour actually, flowers deserve telling, flowers deserve, meal enjoy company, soupywe, flowers definitely, flowers definite reasons, flowers definite, flowers decor late, flowers decor exceeded, flowers decor, flowers decided burger, flowers decided, flowers day resident, soupywe mentioned, soupywe mentioned disappointment, flowers dark cornerswe, flowers dark, flowers crystallizing espresso, flowers crystallizing, flowers crafts books, flowers crafts, flowers coworker birthday, flowers coworker\n"
     ]
    }
   ],
   "source": [
    "top = 50\n",
    "for col in coef_cool_not_cool:\n",
    "    s = coef_cool_not_cool[[col]].sort_values(col)\n",
    "    print (\"%-20s  (+) %s\" % (col, \", \".join(s.iloc[-top:].index)))\n",
    "    print (\"%-20s  (-) %s\" % (\"\", \", \".join(s.iloc[:top].index)))"
   ]
  },
  {
   "cell_type": "markdown",
   "metadata": {},
   "source": [
    "Use the features trained by tfidf vectorizer for the Naive Bayes Model: cool vs not cool"
   ]
  },
  {
   "cell_type": "code",
   "execution_count": 142,
   "metadata": {},
   "outputs": [
    {
     "data": {
      "text/plain": [
       "MultinomialNB(alpha=1.0, class_prior=None, fit_prior=True)"
      ]
     },
     "execution_count": 142,
     "metadata": {},
     "output_type": "execute_result"
    }
   ],
   "source": [
    "model_NB.fit(X_text_train_tfidf, np.asarray(yelp_data_final_update['Review_category_cool_notcool']))"
   ]
  },
  {
   "cell_type": "code",
   "execution_count": 143,
   "metadata": {},
   "outputs": [
    {
     "data": {
      "text/plain": [
       "array([ 0.6294301 ,  0.62937098,  0.6290218 ,  0.62877238,  0.62912156])"
      ]
     },
     "execution_count": 143,
     "metadata": {},
     "output_type": "execute_result"
    }
   ],
   "source": [
    "cross_val_score(model_NB, X_text_train_tfidf, yelp_data_final_update['Review_category_cool_notcool'], cv=5)\n",
    "#array([ 0.6294301 ,  0.62937098,  0.6290218 ,  0.62877238,  0.62912156])"
   ]
  },
  {
   "cell_type": "code",
   "execution_count": 144,
   "metadata": {
    "collapsed": true
   },
   "outputs": [],
   "source": [
    "import pandas as pd\n",
    "coef_cool_not_cool_tfidf = pd.DataFrame(model_NB.coef_, columns=tfidf_transformer.get_feature_names()).T"
   ]
  },
  {
   "cell_type": "code",
   "execution_count": 145,
   "metadata": {},
   "outputs": [
    {
     "name": "stdout",
     "output_type": "stream",
     "text": [
      "0                     (+) did, night, wait, times, way, think, eat, salad, location, make, definitely, happy, awesome, didnt, going, fresh, amazing, people, bar, delicious, order, ordered, lunch, menu, better, went, got, pretty, restaurant, im, try, little, chicken, ive, friendly, staff, dont, pizza, nice, best, really, time, love, just, like, service, place, great, good, food\n",
      "                      (-) little pricey didnt, harbor day, harbor best, soak large, harbor airport security, harbor airport parking, harbinger good, ventured nearly, cause certainly, soak meat, harar, ventured nearby, soak pool, soak previous, ventured lunch today, hapy hour, hapy, cause consider, happyi ordered, happyi went, ventured little, soaked caramel, soaked brown, happynow, harbor easy, cause day, cause damn, ventured little bit, happytheir, happywith, haps good, soaked alcohol, happythank, cause believe, harbor friendly, harbor great, cauliflower spicy, harbored, hard 10, soak atmosphere place, hard 9pm, hard access, cauliflower taste, cauliflower mushrooms, snugs, hard aside, snuck bites, cauliflower green peppersthe, cauliflower green, snuck away\n"
     ]
    }
   ],
   "source": [
    "top = 50\n",
    "for col in coef_cool_not_cool_tfidf:\n",
    "    s = coef_cool_not_cool_tfidf[[col]].sort_values(col)\n",
    "    print (\"%-20s  (+) %s\" % (col, \", \".join(s.iloc[-top:].index)))\n",
    "    print (\"%-20s  (-) %s\" % (\"\", \", \".join(s.iloc[:top].index)))"
   ]
  },
  {
   "cell_type": "markdown",
   "metadata": {},
   "source": [
    "Naive Bayes model on funny vs not funny:"
   ]
  },
  {
   "cell_type": "code",
   "execution_count": 111,
   "metadata": {},
   "outputs": [
    {
     "data": {
      "text/plain": [
       "array([ 0.71921686,  0.72364942,  0.72349978,  0.7206814 ,  0.72103058])"
      ]
     },
     "execution_count": 111,
     "metadata": {},
     "output_type": "execute_result"
    }
   ],
   "source": [
    "cross_val_score(model_NB, X_train_countVectorizer, yelp_data_final_update['Review_category_funny_notfunny'], cv=5)"
   ]
  },
  {
   "cell_type": "code",
   "execution_count": 112,
   "metadata": {},
   "outputs": [
    {
     "data": {
      "text/plain": [
       "MultinomialNB(alpha=1.0, class_prior=None, fit_prior=True)"
      ]
     },
     "execution_count": 112,
     "metadata": {},
     "output_type": "execute_result"
    }
   ],
   "source": [
    "model_NB.fit(X_train_countVectorizer, yelp_data_final_update['Review_category_funny_notfunny'])"
   ]
  },
  {
   "cell_type": "code",
   "execution_count": 113,
   "metadata": {},
   "outputs": [
    {
     "data": {
      "text/plain": [
       "(1, 14929497)"
      ]
     },
     "execution_count": 113,
     "metadata": {},
     "output_type": "execute_result"
    }
   ],
   "source": [
    "model_NB.coef_.shape"
   ]
  },
  {
   "cell_type": "code",
   "execution_count": 114,
   "metadata": {},
   "outputs": [
    {
     "data": {
      "text/plain": [
       "14929497"
      ]
     },
     "execution_count": 114,
     "metadata": {},
     "output_type": "execute_result"
    }
   ],
   "source": [
    "len(cv.get_feature_names())"
   ]
  },
  {
   "cell_type": "code",
   "execution_count": 121,
   "metadata": {},
   "outputs": [
    {
     "name": "stdout",
     "output_type": "stream",
     "text": [
      "['funny' 'not funny']\n"
     ]
    }
   ],
   "source": [
    "print (model_NB.classes_) #['funny' 'not funny']"
   ]
  },
  {
   "cell_type": "code",
   "execution_count": 116,
   "metadata": {
    "collapsed": true
   },
   "outputs": [],
   "source": [
    "import pandas as pd\n",
    "coef_funny_not_funny = pd.DataFrame(model_NB.coef_, columns=cv.get_feature_names()).T"
   ]
  },
  {
   "cell_type": "code",
   "execution_count": 117,
   "metadata": {},
   "outputs": [
    {
     "name": "stdout",
     "output_type": "stream",
     "text": [
      "0                     (+) say, eat, want, come, salad, definitely, cheese, night, came, way, know, did, fresh, going, think, delicious, make, better, lunch, pizza, bar, didnt, people, staff, order, friendly, went, pretty, ordered, menu, restaurant, chicken, try, got, im, ive, best, little, dont, nice, love, really, time, service, just, like, great, food, place, good\n",
      "                      (-) übersatisfied meal bavarian, giants design, scottsdale course casual, scottsdale course enclosed, giants cubs angels, giants cubs, giants congratulate victory, giants congratulate, scottsdale courses, scottsdale courses equal, giants causeway meatloaf, giants design brick, giants causeway, giants cap dump, giants cap, scottsdale coworkers, scottsdale coworkers couple, scottsdale cozy intimate, scottsdale cozy usually, giants brought nephew, scottsdale crack, scottsdale crack smile, giants billy joe, giants cap placenot, giants dined, giants dined toasted, giants doing, giants fangreat, giants fan walking, giants fan visit, scottsdale cougarlicious, giants fan teams, scottsdale cougarlicious complete, scottsdale cougars dolce, giants fan lady, scottsdale cougars retired, scottsdale cougars sprayon, scottsdale count, scottsdale count inupdate, giants fan core, giants fan baseball, scottsdale count visiting, scottsdale counterpart, scottsdale counterpart idea, giants expected enterprise, giants expected, giants dugout got, giants dugout check, scottsdale couple bucks, giants doing cross\n"
     ]
    }
   ],
   "source": [
    "top = 50\n",
    "for col in coef_funny_not_funny:\n",
    "    s = coef_funny_not_funny[[col]].sort_values(col)\n",
    "    print (\"%-20s  (+) %s\" % (col, \", \".join(s.iloc[-top:].index)))\n",
    "    print (\"%-20s  (-) %s\" % (\"\", \", \".join(s.iloc[:top].index)))"
   ]
  },
  {
   "cell_type": "markdown",
   "metadata": {},
   "source": [
    "Use the features trained by tfidf vectorizer for the Naive Bayes Model: funny vs not funny"
   ]
  },
  {
   "cell_type": "code",
   "execution_count": 146,
   "metadata": {},
   "outputs": [
    {
     "data": {
      "text/plain": [
       "MultinomialNB(alpha=1.0, class_prior=None, fit_prior=True)"
      ]
     },
     "execution_count": 146,
     "metadata": {},
     "output_type": "execute_result"
    }
   ],
   "source": [
    "model_NB.fit(X_text_train_tfidf, np.asarray(yelp_data_final_update['Review_category_funny_notfunny']))"
   ]
  },
  {
   "cell_type": "code",
   "execution_count": 147,
   "metadata": {},
   "outputs": [
    {
     "data": {
      "text/plain": [
       "array([ 0.70260631,  0.70262383,  0.70282337,  0.70257395,  0.70277348])"
      ]
     },
     "execution_count": 147,
     "metadata": {},
     "output_type": "execute_result"
    }
   ],
   "source": [
    "cross_val_score(model_NB, X_text_train_tfidf, yelp_data_final_update['Review_category_funny_notfunny'], cv=5)\n",
    "#array([ 0.70260631,  0.70262383,  0.70282337,  0.70257395,  0.70277348])"
   ]
  },
  {
   "cell_type": "code",
   "execution_count": 148,
   "metadata": {
    "collapsed": true
   },
   "outputs": [],
   "source": [
    "import pandas as pd\n",
    "coef_funny_not_funny_tfidf = pd.DataFrame(model_NB.coef_, columns=tfidf_transformer.get_feature_names()).T"
   ]
  },
  {
   "cell_type": "code",
   "execution_count": 149,
   "metadata": {},
   "outputs": [
    {
     "name": "stdout",
     "output_type": "stream",
     "text": [
      "0                     (+) favorite, cheese, think, atmosphere, wait, night, eat, location, didnt, make, salad, going, awesome, happy, definitely, people, fresh, order, amazing, bar, ordered, better, went, delicious, got, lunch, menu, pretty, im, restaurant, try, staff, dont, chicken, little, friendly, ive, pizza, nice, best, time, really, love, just, like, service, place, food, great, good\n",
      "                      (-) menu tells story, miles way experience, half pound bad, toiletries household, scrumptious spicy, bay area free, gave given, half portion perfect, toiletries coffee maker, list meager, flavor meaty, toiletries smelled, bay area ill, toilets complete, toilets didnt, brunch green, way generate, flavor meat wasnt, carnita burrito, way girl, just wonderful things, list menus, just woke wrong, olive oilthe, bawled, olive oils wine, really good blt, baxter bobcat, flavor meant, toilet water, toilet wont, half price 350, restaurantsif, toiletries assorted, shitty taste music, half pound portion, half pound patty, toiletries coffee, bay area la, olive perfect, complainmy, sitting servers, half place really, bay area youll, half pizzas menu, list lovely, half pizza unless, way fuss, miley cyrus, really good buns\n"
     ]
    }
   ],
   "source": [
    "top = 50\n",
    "for col in coef_funny_not_funny_tfidf:\n",
    "    s = coef_funny_not_funny_tfidf[[col]].sort_values(col)\n",
    "    print (\"%-20s  (+) %s\" % (col, \", \".join(s.iloc[-top:].index)))\n",
    "    print (\"%-20s  (-) %s\" % (\"\", \", \".join(s.iloc[:top].index)))"
   ]
  },
  {
   "cell_type": "markdown",
   "metadata": {
    "collapsed": true
   },
   "source": [
    "Modeling Sessions 1: Approach B Random Forest (Not Completed Yet)\n",
    "\n",
    "\n",
    "Naive Bayes can help me identify the top keywords within the review texts are having positive/negative in getting votes in useful, funny and cool these three categories."
   ]
  },
  {
   "cell_type": "code",
   "execution_count": 113,
   "metadata": {},
   "outputs": [],
   "source": [
    "import time\n",
    "import pandas as pd\n",
    "from sklearn.datasets import fetch_20newsgroups\n",
    "from sklearn.feature_extraction.text import TfidfVectorizer\n",
    "from sklearn.tree import DecisionTreeClassifier\n",
    "from sklearn.ensemble import RandomForestClassifier, AdaBoostClassifier\n",
    "from sklearn.cross_validation import cross_val_score  # train_test_split, \n",
    "import seaborn\n",
    "from matplotlib import pyplot as plt\n",
    "%matplotlib inline"
   ]
  },
  {
   "cell_type": "code",
   "execution_count": 114,
   "metadata": {
    "collapsed": true
   },
   "outputs": [],
   "source": [
    "model_random_forest_10trees = RandomForestClassifier(n_estimators=10)"
   ]
  },
  {
   "cell_type": "markdown",
   "metadata": {},
   "source": [
    "Random forest useful vs not useful:"
   ]
  },
  {
   "cell_type": "code",
   "execution_count": null,
   "metadata": {},
   "outputs": [
    {
     "data": {
      "text/plain": [
       "RandomForestClassifier(bootstrap=True, class_weight=None, criterion='gini',\n",
       "            max_depth=None, max_features='auto', max_leaf_nodes=None,\n",
       "            min_impurity_decrease=0.0, min_impurity_split=None,\n",
       "            min_samples_leaf=1, min_samples_split=2,\n",
       "            min_weight_fraction_leaf=0.0, n_estimators=10, n_jobs=1,\n",
       "            oob_score=False, random_state=None, verbose=0,\n",
       "            warm_start=False)"
      ]
     },
     "execution_count": 115,
     "metadata": {},
     "output_type": "execute_result"
    }
   ],
   "source": [
    "model_random_forest_10trees.fit(X_text_train_tfidf, yelp_data_final_update['Review_category_useful_notuseful'])"
   ]
  },
  {
   "cell_type": "code",
   "execution_count": 116,
   "metadata": {
    "collapsed": true
   },
   "outputs": [],
   "source": [
    "coef_useful_notuseful = pd.Series(model_random_forest_10trees.feature_importances_, index=tfidf_transformer.get_feature_names()).sort_values(inplace=False)"
   ]
  },
  {
   "cell_type": "code",
   "execution_count": 156,
   "metadata": {},
   "outputs": [
    {
     "data": {
      "image/png": "[encoded data removed]",
      "text/plain": [
       "<matplotlib.figure.Figure at 0x1a57b7bb38>"
      ]
     },
     "metadata": {},
     "output_type": "display_data"
    }
   ],
   "source": [
    "f1 = coef_useful_notuseful[-15:].plot(kind='barh', title=\"Most important features classfying the reviews into useful and not useful\")"
   ]
  },
  {
   "cell_type": "code",
   "execution_count": null,
   "metadata": {
    "collapsed": true
   },
   "outputs": [],
   "source": [
    "f2 = coef_useful_notuseful[15:].plot(kind='barh', title=\"Least important features classfying the reviews into useful and not useful\")"
   ]
  },
  {
   "cell_type": "markdown",
   "metadata": {},
   "source": [
    "Random Forest for funny versus not funny:"
   ]
  },
  {
   "cell_type": "code",
   "execution_count": null,
   "metadata": {
    "collapsed": true
   },
   "outputs": [],
   "source": [
    "model_random_forest_100trees.fit(X_text_train_tfidf, yelp_data_final_update['Review_category_funny_notfunny'])"
   ]
  },
  {
   "cell_type": "code",
   "execution_count": null,
   "metadata": {
    "collapsed": true
   },
   "outputs": [],
   "source": [
    "coef_funny_notfunny = pd.Series(model_random_forest_100trees.feature_importances_, index=tfidf_transformer.get_feature_names()).sort_values(inplace=False)"
   ]
  },
  {
   "cell_type": "code",
   "execution_count": null,
   "metadata": {
    "collapsed": true
   },
   "outputs": [],
   "source": [
    "f1 = coef_funny_notfunny[-15:].plot(kind='barh', title=\"Most important features classfying the reviews into funny and not funny\")"
   ]
  },
  {
   "cell_type": "code",
   "execution_count": null,
   "metadata": {
    "collapsed": true
   },
   "outputs": [],
   "source": [
    "f2 = coef_funny_notfunny[15:].plot(kind='barh', title=\"Least important features classfying the reviews into funny and not funny\")"
   ]
  },
  {
   "cell_type": "markdown",
   "metadata": {},
   "source": [
    "Random Forest for cool not cool:"
   ]
  },
  {
   "cell_type": "code",
   "execution_count": null,
   "metadata": {
    "collapsed": true
   },
   "outputs": [],
   "source": [
    "model_random_forest_100trees.fit(X_text_train_tfidf, yelp_data_final_update['Review_category_cool_notcool'])"
   ]
  },
  {
   "cell_type": "code",
   "execution_count": null,
   "metadata": {
    "collapsed": true
   },
   "outputs": [],
   "source": [
    "coef_cool_notcool = pd.Series(model_random_forest_100trees.feature_importances_, index=tfidf_transformer.get_feature_names()).sort_values(inplace=False)"
   ]
  },
  {
   "cell_type": "code",
   "execution_count": null,
   "metadata": {
    "collapsed": true
   },
   "outputs": [],
   "source": [
    "f1 = coef_cool_notcool[-15:].plot(kind='barh', title=\"Most important features classfying the reviews into funny and not funny\")"
   ]
  },
  {
   "cell_type": "code",
   "execution_count": null,
   "metadata": {
    "collapsed": true
   },
   "outputs": [],
   "source": [
    "f2 = coef_cool_notcool[15:].plot(kind='barh', title=\"Least important features classfying the reviews into funny and not funny\")"
   ]
  },
  {
   "cell_type": "markdown",
   "metadata": {},
   "source": [
    "Modeling Session 2:\n",
    "\n",
    "In the session 2, I'm going to use Naive Bayes model for classify the reviews into the following categories:\n",
    "\n",
    "useful, cool, funny, neutral and no categorization:"
   ]
  },
  {
   "cell_type": "code",
   "execution_count": 131,
   "metadata": {},
   "outputs": [
    {
     "data": {
      "text/plain": [
       "array([ 0.40198524,  0.39815438,  0.39812944,  0.40126705,  0.39716153])"
      ]
     },
     "execution_count": 131,
     "metadata": {},
     "output_type": "execute_result"
    }
   ],
   "source": [
    "cross_val_score(model_NB, X_train_countVectorizer, yelp_data_final_update['Review_category_coolest_funniest_mostuseful'], cv=5)\n"
   ]
  },
  {
   "cell_type": "code",
   "execution_count": 132,
   "metadata": {},
   "outputs": [
    {
     "data": {
      "text/plain": [
       "MultinomialNB(alpha=1.0, class_prior=None, fit_prior=True)"
      ]
     },
     "execution_count": 132,
     "metadata": {},
     "output_type": "execute_result"
    }
   ],
   "source": [
    "model_NB.fit(X_train_countVectorizer, yelp_data_final_update['Review_category_coolest_funniest_mostuseful'])"
   ]
  },
  {
   "cell_type": "code",
   "execution_count": 133,
   "metadata": {},
   "outputs": [
    {
     "data": {
      "text/plain": [
       "(6, 14929497)"
      ]
     },
     "execution_count": 133,
     "metadata": {},
     "output_type": "execute_result"
    }
   ],
   "source": [
    "model_NB.coef_.shape"
   ]
  },
  {
   "cell_type": "code",
   "execution_count": 135,
   "metadata": {
    "collapsed": true
   },
   "outputs": [],
   "source": [
    "import pandas as pd\n",
    "coef_useful_cool_funny_neutral = pd.DataFrame(model_NB.coef_, columns=cv.get_feature_names(), index= set(yelp_data_final_update['Review_category_coolest_funniest_mostuseful'])).T"
   ]
  },
  {
   "cell_type": "code",
   "execution_count": 136,
   "metadata": {},
   "outputs": [
    {
     "name": "stdout",
     "output_type": "stream",
     "text": [
      "cool                  (+) staff, better, definitely, come, did, say, new, phoenix, fresh, want, cheese, pizza, right, order, delicious, going, friendly, lunch, make, didnt, way, ordered, night, restaurant, went, think, chicken, know, people, menu, pretty, got, try, bar, best, ive, nice, im, dont, little, service, love, time, really, just, great, food, like, good, place\n",
      "                      (-) 00, place dessert little, place dessert meal, place dessert menu, place dessert oh, place dessert shot, place dessert spoon, place dessert sprinkles, place dessert thairamisu, place dessert thank, place dessert warm, place desserts, place desserts homemade, place desserts kinds, place desserts mainthe, place desserts offered, place desserts terrible, place destination, place destination againthe, place destination excuse, place destination im, place destination list, place destination location, place destination place, place dessert just, place destination restaurant, place dessert hope, place dessert day, place despite new, place despite overpriced, place despite popularity, place despite previous, place despite quarter, place despite resistance, place despite reviews, place despite setup, place despite shady, place despite somewhat, place despite staff, place despite sticker, place despite strip, place despite sushi, place despite use, place despite weird, place despite whinings, place dessert bar, place dessert cash, place dessert charity, place dessert close, place dessert coffee\n",
      "funny                 (+) day, thing, youre, thats, bad, came, cheese, sure, try, menu, come, eat, restaurant, chicken, night, said, ordered, right, went, better, best, nice, say, did, order, way, want, going, pretty, make, bar, didnt, ive, think, love, little, got, service, people, know, great, really, im, time, dont, food, good, just, place, like\n",
      "                      (-) 00, pizza nicely baked, pizza nicely browned, pizza nicely flavored, pizza nicks, pizza nicks better, pizza nicks favorite, pizza nieghborhood, pizza nieghborhood want, pizza night amazing, pizza night awful, pizza night carne, pizza night delicious, pizza night dinner, pizza night dont, pizza night eaten, pizza night excellent, pizza night forgot, pizza night friday, pizza night friends, pizza night hear, pizza night house, pizza night like, pizza night long, pizza nicely, pizza night lunch, pizza nice trying, pizza nice times, pizza nice hot, pizza nice humble, pizza nice id, pizza nice kick, pizza nice know, pizza nice laid, pizza nice little, pizza nice location, pizza nice love, pizza nice new, pizza nice option, pizza nice owners, pizza nice people, pizza nice pizza, pizza nice pizzeria, pizza nice place, pizza nice restaurant, pizza nice salad, pizza nice size, pizza nice sized, pizza nice surprise, pizza nice texture\n",
      "no review             (+) staff, pizza, salad, delicious, come, eat, fresh, want, came, night, right, say, cheese, friendly, did, better, going, lunch, way, make, restaurant, order, went, didnt, ordered, think, bar, menu, try, people, know, chicken, best, pretty, ive, got, nice, little, love, service, im, dont, time, really, great, just, like, food, good, place\n",
      "                      (-) liquor storesthough fine, place depending look, place depending moment, place depending perspective, place depending time, place depends, place depends cooking, place depends day, place depends entirely, place depends exactly, place depends prices, place depends quality, place depends type, place depicts, place depicts fusion, place deposit, place deposit appreciate, place deposit let, place depressing, place depressing stars, place depths, place depths intolerable, place der, place der kaffee, place depending bro, place derailed, place depending, place dependable overpriced, place dennysplus, place dennysplus quality, place denouncing, place denouncing benjarong, place dentists, place dentists nightmare, place dentists nightmares, place denver, place denver great, place denver live, place denver wasnt, place deny, place deny good, place deolicious, place deolicious close, place department, place department desperate, place departure, place departure ayako, place depend, place depend lots, place dependable\n",
      "neutral               (+) eat, staff, salad, come, fresh, delicious, right, came, say, want, pizza, friendly, better, lunch, night, did, going, way, cheese, went, didnt, make, think, restaurant, order, know, bar, ordered, try, chicken, people, pretty, menu, best, got, ive, nice, love, little, im, dont, service, time, really, just, great, like, food, good, place\n",
      "                      (-) liquor storesthough fine, mode extra charge, mode feel, mode feel chicken, mode finally, mode finally removed, mode following, mode following veal, tits totally, tits time dont, mode good, mode good bit, mode good flaky, mode gorge, mode gorge disgusting, mode got, mode got asap, mode got ham, mode got table, mode great, mode extra, mode expecting paid, mode expecting, tits totally recommend, mode declined, mode declined did, mode delux, mode delux just, mode dessert, mode dessert friendly, mode dessert share, mode did, mode did just, mode great wide, mode dining, mode doesnt, mode doesnt love, mode dont, mode dont care, mode dont know, mode employees, mode employees quick, tits world, mode enjoy meal, mode dining dont, mode guess, mode guess george, tits time, mode incredibly, mode incredibly good\n",
      "useful                (+) amazing, happy, eat, come, cheese, night, salad, came, way, know, definitely, did, think, fresh, going, make, bar, delicious, people, didnt, better, lunch, pizza, order, went, menu, ordered, staff, restaurant, pretty, friendly, got, try, chicken, im, ive, little, dont, best, nice, love, really, time, service, just, like, great, food, place, good\n",
      "                      (-) übersatisfied meal bavarian, list special occasions, list special occasionsdefinitely, sugared like, list special selections, sugared hour billy, sugared hour, sugared green raspberry, list special occasion, list specials daily, sugared green, list specials hanging, list specials just, list specials like, sugared goodnoodle dishes, list specials overall, list specials thier, list specials extremely, list special hereif, list special happy, list special did, sugared nuts share, sugared nuts, list sort place, list sorts, list sorts waiter, sugared near fatal, sugared near, list sounded, list sounded like, list soup, list soup broths, sugared lime wine, sugared lime, list spartan, list spartan sacrifice, sugared like usually, list special chicken, list specials usually, sugared goodnoodle, sugared food service, list specialtiesthis, list spinach pies, list spirits, list spirits extensive, list split, list split bourbon, list splurge, list splurge dish, list spoke\n",
      "no categorization     (+) come, delicious, say, salad, sauce, right, want, staff, fresh, night, pizza, lunch, friendly, cheese, better, came, way, going, did, make, think, know, bar, went, didnt, people, pretty, order, chicken, try, restaurant, menu, ordered, best, got, ive, love, nice, im, little, dont, service, time, really, great, just, like, food, good, place\n",
      "                      (-) liquor storesthough fine, multiplexes, multiplexes mixing, multiplexes mixing lineups, multiplicity, multiplicity flavors, multiplicity flavors cup, multiplied billion, multiplex theatersif havent, multiplied billion bread, multiplied kinda reminds, multiplied like, multiplied like bunnies, multiply 10perhaps, multiply 10perhaps tuesday, multiply family, multiply family thats, multiplied kinda, multiply likely, multiplex theatersif, multiplex theater, multiplex flavored, multiplex flavored movies, multiplex harkins multiplex, multiplex harkins theaters, multiplex movie, multiplex movie theater, multiplex places, multiplex theater evolved, multiplex places exceptional, multiplex sealife aquarium, multiplex sears, multiplex sears appliances, multiplex shows, multiplex shows new, multiplex staff, multiplex staff nice, multiplex sealife, multiplex fancy seating, multiply likely thats, multiply local artist, multiracial atmosphere, multiracial atmosphere hard, multiscreen art, multiscreen art house, multiscreen movie, multiscreen movie theater, multisensory, multiracial, multisensory experience\n"
     ]
    }
   ],
   "source": [
    "top = 50\n",
    "for cols in coef_useful_cool_funny_neutral:\n",
    "    s = coef_useful_cool_funny_neutral[[cols]].sort_values(cols)\n",
    "    print (\"%-20s  (+) %s\" % (cols, \", \".join(s.iloc[-top:].index)))\n",
    "    print (\"%-20s  (-) %s\" % (\"\", \", \".join(s.iloc[:top].index)))\n",
    "\n"
   ]
  },
  {
   "cell_type": "markdown",
   "metadata": {},
   "source": [
    "Use the features trained by teh tfidf vectorizer to train the Naive Bayes Model:"
   ]
  },
  {
   "cell_type": "code",
   "execution_count": 150,
   "metadata": {},
   "outputs": [
    {
     "data": {
      "text/plain": [
       "MultinomialNB(alpha=1.0, class_prior=None, fit_prior=True)"
      ]
     },
     "execution_count": 150,
     "metadata": {},
     "output_type": "execute_result"
    }
   ],
   "source": [
    "model_NB.fit(X_text_train_tfidf, yelp_data_final_update['Review_category_coolest_funniest_mostuseful'])"
   ]
  },
  {
   "cell_type": "code",
   "execution_count": 151,
   "metadata": {},
   "outputs": [
    {
     "data": {
      "text/plain": [
       "array([ 0.40560156,  0.40154633,  0.40097269,  0.40211508,  0.40202534])"
      ]
     },
     "execution_count": 151,
     "metadata": {},
     "output_type": "execute_result"
    }
   ],
   "source": [
    "cross_val_score(model_NB, X_text_train_tfidf, yelp_data_final_update['Review_category_coolest_funniest_mostuseful'], cv=5)\n"
   ]
  },
  {
   "cell_type": "code",
   "execution_count": 152,
   "metadata": {
    "collapsed": true
   },
   "outputs": [],
   "source": [
    "import pandas as pd\n",
    "coef_useful_cool_funny_neutral_tfidf = pd.DataFrame(model_NB.coef_, columns=tfidf_transformer.get_feature_names(), index= set(yelp_data_final_update['Review_category_coolest_funniest_mostuseful'])).T"
   ]
  },
  {
   "cell_type": "code",
   "execution_count": 153,
   "metadata": {},
   "outputs": [
    {
     "name": "stdout",
     "output_type": "stream",
     "text": [
      "cool                  (+) day, didnt, want, favorite, definitely, say, beer, cheese, make, right, happy, going, amazing, fresh, new, way, staff, restaurant, went, think, phoenix, night, delicious, know, friendly, menu, lunch, chicken, got, people, pretty, try, pizza, ive, nice, bar, dont, im, best, little, service, time, love, really, just, like, food, great, good, place\n",
      "                      (-) 00, pass health inspections, pass health inspection, pass health code, pass health, pass head, pass having, pass havent, pass havana cafe, pass havana, pass hand, pass guess, pass grocery store, pass grocery, pass greeted, pass great, pass got, pass good, pass going, pass glass, pass hear, pass glad, pass heat, pass highly, pass just make, pass judgment, pass judgement, pass ive, pass interesting, pass immediately, pass im, pass id probably, pass id, pass husband, pass hungry, pass huge, pass house, pass hour, pass hotel casino, pass hotel, pass horrible, pass home, pass highly recommend, pass help, pass given, pass getting, pass gets, pass drink, pass doors, pass door\n",
      "funny                 (+) need, day, ordered, thing, cheese, restaurant, store, sure, come, thats, youre, chicken, night, said, right, went, bad, nice, eat, pizza, order, did, better, say, best, make, didnt, way, pretty, going, ive, little, want, think, bar, got, service, love, know, people, really, great, time, im, dont, food, just, good, place, like\n",
      "                      (-) 00, particularly crowded, particularly creative, particularly concerned, particularly compelling, particularly common, particularly cheese, particularly cheap, particularly care taste, particularly busy night, particularly busy, particularly breakfast, particularly black, particularly better, particularly beef, particularly bbq chicken, particularly bbq, particularly bar, particularly bad good, particularly awesome, particularly delighted, particularly authentic, particularly difficult, particularly dislike, particularly generous, particularly fun, particularly friendly service, particularly friendly efficient, particularly fried, particularly fridays, particularly friday, particularly fresh delicious, particularly flavorful, particularly filling, particularly favorite, particularly fast, particularly fantastic, particularly fancy, particularly fan, particularly extensive, particularly excited, particularly enjoyable, particularly enjoy chicken, particularly disappointing, particularly given, particularly attentive, particularly appreciate, particular ulta, particular today, particular tjs\n",
      "no review             (+) come, want, did, cheese, delicious, right, location, say, salad, fresh, eat, staff, night, restaurant, order, going, make, ordered, way, didnt, went, better, friendly, pizza, menu, think, lunch, people, know, try, bar, got, pretty, chicken, ive, best, nice, little, service, dont, im, love, time, really, just, great, like, food, good, place\n",
      "                      (-) little pricey didnt, parts unlike, parts trail, parts tour, parts things, parts thats, parts stores, parts stock, parts sports, parts sold, parts small, parts slowly, parts service departments, parts service, parts section, parts scottsdale, parts say, parts sandwich, parts restaurant feel, parts restaurant, parts valley, parts resort, parts vehicle, parts wanted, parttimers, parttime job, parttime, partthey, partthe food, partsuper, partsthe, partso, partsi, partshe, parts world, parts whats, parts werent, parts went, parts weird, parts week, parts water, parts wasnt, parts warm, parts want, partway, parts replaced, parts price, parts like, parts letting, parts left\n",
      "neutral               (+) amazing, eat, right, come, did, salad, want, fresh, say, staff, didnt, going, night, delicious, way, better, cheese, think, went, make, ordered, friendly, order, restaurant, know, lunch, try, menu, people, pizza, pretty, bar, got, chicken, best, ive, nice, little, im, dont, service, love, time, really, just, like, great, food, good, place\n",
      "                      (-) über tender, marketplace wish, marketplace went, marketplace want, marketplace unless, marketplace tried, marketplace time, marketplace works, marketplace target, marketplace suggest, marketplace street, marketplace stores, marketplace store, marketplace stop, marketplace staff, marketplace sure, marketplace wouldnt, marketplacei, veggies hot, markets really, markets looking, markets little, markets like asiana, markets la, markets ive phoenix, markets ive, markets huge, markets home, markets east, markets dont, markets day, markets chicago, markets big cities, markets big, marketplace shopping center, marketplace shopping, marketplace scottsdale, marketplace say, marketplace isnt, marketplace huge, marketplace harkins, marketplace great selection, marketplace got, marketplace good, marketplace fresh, marketplace excited, marketplace eat, veggies hubby, marketplace does, marketplace difficult\n",
      "useful                (+) come, times, make, didnt, eat, favorite, salad, excellent, prices, going, location, people, atmosphere, happy, definitely, order, bar, ordered, fresh, awesome, got, menu, went, better, amazing, restaurant, im, delicious, pretty, lunch, try, dont, little, chicken, ive, staff, friendly, pizza, nice, best, time, really, just, like, love, service, place, food, good, great\n",
      "                      (-) little pricey didnt, loved dried, loved drive, loved driving, loved earthy red, loved eat chips, loved eclectic style, loved emerald, loved emerald chicken, loved entrees, loved equally, loved event, loved excellent, loved excellent service, loved experience food, loved experience staff, loved extras got, loved fact able, loved fact carried, loved fact place, loved fajitas, loved fall, loved father, loved feeling, loved fennel, loved field, loved dressing salad, loved filet mignon, loved dont normally, loved dj, loved cuban, loved current, loved customer, loved customer service, loved cute place, loved dad got, loved date, loved decent, loved decor inside, loved decor loved, loved decor place, loved decor restaurant, loved decor simple, loved decor staff, loved decor vibe, loved decorated, loved decorations, loved deep, loved definitely hopefully, loved did love\n",
      "no categorization     (+) come, happy, wait, eat, want, came, night, salad, did, cheese, way, delicious, know, going, make, think, fresh, didnt, better, lunch, staff, went, friendly, bar, people, order, pretty, ordered, got, menu, try, restaurant, pizza, chicken, im, ive, little, nice, best, dont, love, time, really, service, just, like, great, good, place, food\n",
      "                      (-) copy store, mall stores shop, mall stores want, mall stuff, waited food brought, delish pho, delish person, mall super, delish patio, mall surprised, delish partner, delish pancakes, delish paired, delish owner, delish original, delish ordered guacamole, mall sushi bar, delish options, delish open, delish ok, delish nonetheless, delish night, delish nicely, mall tempe marketplace, delish need, mall thai, mall stores restaurants, takes majority, delish pretty, waited food arrive, mall south, delish second, mall southwest, delish sandwiches, delish sandwich, delish salty, delish salsa, mall southwest corner, takes mins, takes miles, delish rolls, delish roasted, delish mexican food, mall sports bar, takes maybe, mall star, delish red, waited finally waiter, delish recently, delish reasonably priced\n"
     ]
    }
   ],
   "source": [
    "top = 50\n",
    "for cols in coef_useful_cool_funny_neutral_tfidf:\n",
    "    s = coef_useful_cool_funny_neutral_tfidf[[cols]].sort_values(cols)\n",
    "    print (\"%-20s  (+) %s\" % (cols, \", \".join(s.iloc[-top:].index)))\n",
    "    print (\"%-20s  (-) %s\" % (\"\", \", \".join(s.iloc[:top].index)))\n",
    "\n"
   ]
  },
  {
   "cell_type": "markdown",
   "metadata": {
    "collapsed": true
   },
   "source": [
    "Modeling Session 3:\n",
    "\n",
    "In the session 2, I'm going to use Naive Bayes model to classify the reviews into 0 to 7 (8 tiers) based on the number of votes the reviews have got."
   ]
  },
  {
   "cell_type": "code",
   "execution_count": 103,
   "metadata": {},
   "outputs": [
    {
     "data": {
      "text/plain": [
       "{0, 1, 2, 3, 4, 5, 6, 7}"
      ]
     },
     "execution_count": 103,
     "metadata": {},
     "output_type": "execute_result"
    }
   ],
   "source": [
    "set(yelp_data_final_update['total_review_votes_count_grouping'])"
   ]
  },
  {
   "cell_type": "code",
   "execution_count": 109,
   "metadata": {},
   "outputs": [
    {
     "data": {
      "text/plain": [
       "MultinomialNB(alpha=1.0, class_prior=None, fit_prior=True)"
      ]
     },
     "execution_count": 109,
     "metadata": {},
     "output_type": "execute_result"
    }
   ],
   "source": [
    "model_NB.fit(X_text_train_tfidf, yelp_data_final_update['total_review_votes_count_grouping'])"
   ]
  },
  {
   "cell_type": "code",
   "execution_count": 110,
   "metadata": {},
   "outputs": [
    {
     "data": {
      "text/plain": [
       "array([ 0.49285518,  0.49329077,  0.49346536,  0.49346503,  0.49388906])"
      ]
     },
     "execution_count": 110,
     "metadata": {},
     "output_type": "execute_result"
    }
   ],
   "source": [
    "cross_val_score(model_NB, X_text_train_tfidf, yelp_data_final_update['total_review_votes_count_grouping'], cv=5)\n"
   ]
  },
  {
   "cell_type": "code",
   "execution_count": 111,
   "metadata": {
    "collapsed": true
   },
   "outputs": [],
   "source": [
    "import pandas as pd\n",
    "coef_review_votes_tier_tfidf = pd.DataFrame(model_NB.coef_, columns=tfidf_transformer.get_feature_names(), index= set(yelp_data_final_update['total_review_votes_count_grouping'])).T"
   ]
  },
  {
   "cell_type": "code",
   "execution_count": 112,
   "metadata": {},
   "outputs": [
    {
     "name": "stdout",
     "output_type": "stream",
     "text": [
      "0                     (+) try, don, little, chicken, staff, friendly, ve, pizza, nice, best, really, time, just, like, love, service, place, food, good, great\n",
      "                      (-) ll make wanna, field right door, field right field, field roof, field salad, field save, field say, field scottsdale, field seating, field seats, field size, field small, field sobriety, field sobriety test, predisposed, field stop, predicted service, predictament, field trip location, field trip wait\n",
      "1                     (+) got, restaurant, try, pizza, chicken, little, don, nice, best, ve, love, time, really, service, just, like, great, food, place, good\n",
      "                      (-) fried scallop, say realize, lee carries, tri tip tender, say ready 10, cookie good like, say ravs, triad chiropractic, lee eat, lee gets, lee gets right, cookie gets, cookie gelato, lee help, trial errors, cookie form, trial errors taught, lee lee bad, cookie fave, lee lee carries\n",
      "2                     (+) chicken, pretty, nice, got, know, bar, people, service, love, little, ve, don, time, really, great, food, just, good, like, place\n",
      "                      (-) ll make wanna, occasionally send, occasionally roll, occasionally problem, occasionally place, occasionally people, occasionally pay, occasionally overpriced, occasionally outside, occasionally ordering, occasionally offer, occasionally nice, occasionally needed, occasionally need, occasionally months, occasionally mix, occasionally misses, occasionally miss, occasionally shop, occasionally makes\n",
      "3                     (+) pretty, way, service, got, think, bar, love, know, people, little, ve, great, don, time, really, food, good, just, place, like\n",
      "                      (-) ll make wanna, percent mark, percent like, percent know, percent just, percent gratuity, percent entire, percent chance, percent building, percent bigger, percent menu, percent better, perceived rudeness, perceive, perc coffee cafe, perc coffee, perc, peralta, pequeno, pepto bismol\n",
      "4                     (+) make, didn, got, think, love, way, people, bar, little, know, great, ve, don, really, food, time, good, place, just, like\n",
      "                      (-) ll make wanna, pizza salads best, pizza salads appetizers, pizza salads, pizza salad won, pizza salad wings, pizza salad wine, pizza salad tasty, pizza salad staff, pizza salad special, pizza salad soda, pizza salads buffalo, pizza salad sandwich, pizza salad place, pizza salad pizza, pizza salad pasta, pizza salad ordered, pizza salad ok, pizza salad menu, pizza salad lunch\n",
      "5                     (+) got, cheese, think, way, bar, order, did, people, little, great, ve, don, know, food, time, really, place, good, just, like\n",
      "                      (-) ll make wanna, place morton ruth, place morton, place morning way, place morning meal, place morning cup, place morning coffee, place morning brunch, place morning, place mood great, place mood good, place mos, place mood burger, place mood, place months say, place months just, place months food, place months checked, place months better, place monthly\n",
      "6                     (+) didn, think, right, love, great, night, bar, way, people, ve, little, know, don, really, food, time, place, good, just, like\n",
      "                      (-) ll make wanna, place utter disappointment, place utter, place utah, place usually wait, place usually tend, place usually stop, place usually spotless, place usually really, place usually pretty, place usually place, place utterly, place usually packed, place usually lunch, place usually loud, place usually long, place usually like, place usually isn, place usually hopping, place usually half\n",
      "7                     (+) great, think, right, say, way, oh, cheese, people, little, love, ve, food, time, place, really, good, don, know, just, like\n",
      "                      (-) ll make wanna, place hang watch, place hang warm, place hang want, place hang waiting, place hang wait, place hang throw, place hang sure, place hang sunday, place hang summer, place hang study, place hang week, place hang staff, place hang sip, place hang set, place hang saturday, place hang relax, place hang read, place hang play, place hang plan\n"
     ]
    }
   ],
   "source": [
    "\n",
    "top = 20\n",
    "for cols in coef_review_votes_tier_tfidf:\n",
    "    s = coef_review_votes_tier_tfidf[[cols]].sort_values(cols)\n",
    "    print (\"%-20s  (+) %s\" % (cols, \", \".join(s.iloc[-top:].index)))\n",
    "    print (\"%-20s  (-) %s\" % (\"\", \", \".join(s.iloc[:top].index)))\n"
   ]
  },
  {
   "cell_type": "code",
   "execution_count": null,
   "metadata": {
    "collapsed": true
   },
   "outputs": [],
   "source": []
  }
 ],
 "metadata": {
  "kernelspec": {
   "display_name": "Python 3",
   "language": "python",
   "name": "python3"
  },
  "language_info": {
   "codemirror_mode": {
    "name": "ipython",
    "version": 3
   },
   "file_extension": ".py",
   "mimetype": "text/x-python",
   "name": "python",
   "nbconvert_exporter": "python",
   "pygments_lexer": "ipython3",
   "version": "3.6.3"
  }
 },
 "nbformat": 4,
 "nbformat_minor": 2
}
