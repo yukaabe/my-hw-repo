{
 "cells": [
  {
   "cell_type": "markdown",
   "metadata": {},
   "source": [
    "# Project 1\n",
    "\n",
    "In this first project you will create a framework to scope out data science projects. This framework will provide you with a guide to develop a well-articulated problem statement and analysis plan that will be robust and reproducible."
   ]
  },
  {
   "cell_type": "markdown",
   "metadata": {},
   "source": [
    "### Read and evaluate the following problem statement: \n",
    "Determine the important factors on students' admission to graduate school by using the historical student dataset provided by UCLA which includes the applicant's GRE score, GPA and the rank of applicants'undergraduate alma mater as well as the final outcome of their applications. (Note: based on the assumption made below, we will look into the relationship between admission outcome and GRE score in particular and also evaluate the importance of other factors compared with the GRE score)"
   ]
  },
  {
   "cell_type": "markdown",
   "metadata": {},
   "source": [
    "#### 1. What is the outcome?"
   ]
  },
  {
   "cell_type": "markdown",
   "metadata": {},
   "source": [
    "Answer: Whether or not student will get admitted into a graduate school"
   ]
  },
  {
   "cell_type": "markdown",
   "metadata": {},
   "source": [
    "#### 2. What are the predictors/covariates? "
   ]
  },
  {
   "cell_type": "markdown",
   "metadata": {},
   "source": [
    "Answer: GRE, GPR and prestige"
   ]
  },
  {
   "cell_type": "markdown",
   "metadata": {},
   "source": [
    "#### 3. What timeframe is this data relevent for?"
   ]
  },
  {
   "cell_type": "markdown",
   "metadata": {},
   "source": [
    "Answer: No timeframe information within the dataset. Need to find out the school application timeline for the observations (applicants) in the dataset"
   ]
  },
  {
   "cell_type": "markdown",
   "metadata": {},
   "source": [
    "#### 4. What is the hypothesis?"
   ]
  },
  {
   "cell_type": "markdown",
   "metadata": {},
   "source": [
    "Answer: The GRE score is a very important factor to determine whether the students will get admitted into the graduate school."
   ]
  },
  {
   "cell_type": "markdown",
   "metadata": {},
   "source": [
    "## Let's get started with our dataset"
   ]
  },
  {
   "cell_type": "markdown",
   "metadata": {},
   "source": [
    "#### 1. Create a data dictionary "
   ]
  },
  {
   "cell_type": "markdown",
   "metadata": {},
   "source": [
    "Answer: \n",
    "\n",
    "Variable | Description | Type of Variable\n",
    "---| ---| ---\n",
    "admit |indicator on whether or not a candidate was admitted (0 = not admitted 1 = admitted)| binary\n",
    "GPA | Grade Point Average (range from 0 to 4) | continuous \n",
    "GRE | GRE score (range from 200 to 800)| continuous \n",
    "Prestige | rank of an applicant's undergraduate alma mater (1= not prestigeous, 2= low prestige, 3=good prestige, 4= very high prestige ) | categorical \n"
   ]
  },
  {
   "cell_type": "markdown",
   "metadata": {},
   "source": [
    "We would like to explore the association between the dependent variable admit and all the factors including GPA, GRE, and Prestige. Here based on the assumption, we would look into association between dependent variable and GRE score specifically."
   ]
  },
  {
   "cell_type": "markdown",
   "metadata": {},
   "source": [
    "#### 2. What is the outcome?"
   ]
  },
  {
   "cell_type": "markdown",
   "metadata": {},
   "source": [
    "Answer: Admission into grad school"
   ]
  },
  {
   "cell_type": "markdown",
   "metadata": {},
   "source": [
    "#### 3. What are the predictors/covariates? "
   ]
  },
  {
   "cell_type": "markdown",
   "metadata": {},
   "source": [
    "Answer: GRE score, GPA and prestige\n"
   ]
  },
  {
   "cell_type": "markdown",
   "metadata": {},
   "source": [
    "#### 4. What timeframe is this data relevent for?"
   ]
  },
  {
   "cell_type": "markdown",
   "metadata": {},
   "source": [
    "Answer: No timeframe information within the dataset. Need to contact the data owner to find out the school application timeline for the observations (applicants) in the dataset. This could be considered as a limitation for the analysis if the timeline cannot be clarified."
   ]
  },
  {
   "cell_type": "markdown",
   "metadata": {},
   "source": [
    "#### 4. What is the hypothesis?"
   ]
  },
  {
   "cell_type": "markdown",
   "metadata": {},
   "source": [
    "Answer: The GRE score is a very important factor to determine whether the students will get admitted into the graduate school. The students with higher GRE score will have higher admission rate."
   ]
  },
  {
   "cell_type": "markdown",
   "metadata": {},
   "source": [
    "    Using the above information, write a well-formed problem statement. \n"
   ]
  },
  {
   "cell_type": "markdown",
   "metadata": {},
   "source": [
    "## Problem Statement"
   ]
  },
  {
   "cell_type": "markdown",
   "metadata": {},
   "source": [
    "### Exploratory Analysis Plan"
   ]
  },
  {
   "cell_type": "markdown",
   "metadata": {},
   "source": [
    "Determine if there's any association between admission outcome and the GRE score of the student."
   ]
  },
  {
   "cell_type": "markdown",
   "metadata": {},
   "source": [
    "#### 1. What are the goals of the exploratory analysis? "
   ]
  },
  {
   "cell_type": "markdown",
   "metadata": {
    "collapsed": true
   },
   "source": [
    "Look at the distribution of all the variables within the dataset, identify if there's any missing data,  outlier, collinearity within the dataset. Also check if the data is normally distributed."
   ]
  },
  {
   "cell_type": "markdown",
   "metadata": {},
   "source": [
    "#### 2a. What are the assumptions of the distribution of data? "
   ]
  },
  {
   "cell_type": "markdown",
   "metadata": {},
   "source": [
    "Answer: All the variables should be normally distributed."
   ]
  },
  {
   "cell_type": "markdown",
   "metadata": {},
   "source": [
    "#### 2b. How will determine the distribution of your data? "
   ]
  },
  {
   "cell_type": "markdown",
   "metadata": {
    "collapsed": true
   },
   "source": [
    "Answer: Use histogram, mean, median and QQ plot."
   ]
  },
  {
   "cell_type": "markdown",
   "metadata": {},
   "source": [
    "#### 3a. How might outliers impact your analysis? "
   ]
  },
  {
   "cell_type": "markdown",
   "metadata": {
    "collapsed": true
   },
   "source": [
    "Answer: Outlier might skew the association you are going to predict and return the outcome that might not be representative."
   ]
  },
  {
   "cell_type": "markdown",
   "metadata": {},
   "source": [
    "#### 3b. How will you test for outliers? "
   ]
  },
  {
   "cell_type": "markdown",
   "metadata": {},
   "source": [
    "Answer: Box plot, or calculate Q1 and Q3 or the variable, the outlier should fall outside of Q1-3*(Q3-Q1) to Q3+3*(Q3-Q1)"
   ]
  },
  {
   "cell_type": "markdown",
   "metadata": {},
   "source": [
    "#### 4a. What is colinearity? "
   ]
  },
  {
   "cell_type": "markdown",
   "metadata": {
    "collapsed": true
   },
   "source": [
    "Answer: Colinearity means there's correlation between the independent variables(predictor variables). One predictor can be predicted by other predictor variables. This would skew the result."
   ]
  },
  {
   "cell_type": "markdown",
   "metadata": {},
   "source": [
    "#### 4b. How will you test for colinearity? "
   ]
  },
  {
   "cell_type": "markdown",
   "metadata": {},
   "source": [
    "Answer: Use VIF. The VIF should be below 5 to obtain accuracy of the model. Run correlation between the variables could be an option as well."
   ]
  },
  {
   "cell_type": "markdown",
   "metadata": {},
   "source": [
    "#### 5. What is your exploratory analysis plan?\n",
    "Using the above information, write an exploratory analysis plan that would allow you or a colleague to reproduce your analysis 1 year from now. "
   ]
  },
  {
   "cell_type": "markdown",
   "metadata": {},
   "source": [
    "Answer: Below are the steps I would recommend:\n",
    "1. Check how many missing values are in the data to determine the data quality and identify possible limitaions for the analysis\n",
    "2. Use histogram to check if the variables are normally distributed (if any of the variable needs to be transformed before getting into the model)\n",
    "3. Use box plot to identify the outlier (make call on whether the outliers need to be eliminated for analysis)\n",
    "4. Check collinearity using R square or VIF (Understand the relationship between variables)"
   ]
  },
  {
   "cell_type": "markdown",
   "metadata": {},
   "source": [
    "### Bonus Questions:\n",
    "1. Outline your analysis method for predicting your outcome\n",
    "\n",
    "Step 1- Run correlation between the admit variable and GRE variable to see the R squared. \n",
    "Step 2- Run correlation between admit variable and the other two variables (GPA and Prestige) for R squared to see if the other two factors have stronger association with the outcome than GRE score.\n",
    "Step 3- Run linear regression model using the three predictor variables to predict the outcome. Check the coeffient, R squared and p value to see if the model is good enough. \n",
    "Note that here we can use only GRE score or GRE score with any/both of the variables to test for the best model. \n",
    "\n",
    "2. Write an alternative problem statement for your dataset\n",
    "\n",
    "Determine if there's any association between student's GPA and admission outcome\n",
    "Hypothesis here would be: the students with higher GPR has a higher admission rate to the graduate school.\n",
    "\n",
    "3. Articulate the assumptions and risks of the alternative model\n",
    "\n",
    "GPA should be a better predictor when used with the prestige/rank of the undergraduate school. A single factor might not be sufficient to predict the admission result. Other than the factors listed in the dataset, there should be more factors like working experience that need to be taken into account. \n",
    "Also, we cannot draw any solid conclusion unless we find out the timeframe of the dataset. Admission to the graduate school is too general. It would be helpful if we get more specific information like the admission for certain school/program given certain period of time."
   ]
  }
 ],
 "metadata": {
  "kernelspec": {
   "display_name": "Python 3",
   "language": "python",
   "name": "python3"
  },
  "language_info": {
   "codemirror_mode": {
    "name": "ipython",
    "version": 3
   },
   "file_extension": ".py",
   "mimetype": "text/x-python",
   "name": "python",
   "nbconvert_exporter": "python",
   "pygments_lexer": "ipython3",
   "version": "3.6.3"
  }
 },
 "nbformat": 4,
 "nbformat_minor": 1
}
